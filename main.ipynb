{
 "cells": [
  {
   "cell_type": "code",
   "execution_count": 2,
   "id": "8b03525f",
   "metadata": {},
   "outputs": [
    {
     "name": "stdout",
     "output_type": "stream",
     "text": [
      "No GPU detected\n"
     ]
    }
   ],
   "source": [
    "import os\n",
    "import numpy as np\n",
    "import pandas as pd\n",
    "from PIL import Image\n",
    "import tensorflow as tf\n",
    "from tensorflow.keras.utils import to_categorical\n",
    "from tensorflow.keras.models import Sequential, Model\n",
    "from tensorflow.keras.layers import Conv2D, MaxPooling2D, Flatten, Dense, Dropout, Input\n",
    "import matplotlib.pyplot as plt\n",
    "from sklearn.metrics import accuracy_score, confusion_matrix\n",
    "import seaborn as sns\n",
    "from tensorflow.keras.applications import VGG16, ResNet50\n",
    "from tensorflow.keras.callbacks import EarlyStopping\n",
    "\n",
    "\n",
    "gpus = tf.config.list_physical_devices('GPU')\n",
    "if gpus:\n",
    "    for gpu in gpus:\n",
    "        print(f\"GPU Detected: {gpu.device_type} - {gpu.name}\")\n",
    "else:\n",
    "    print(\"No GPU detected\")"
   ]
  },
  {
   "cell_type": "markdown",
   "id": "2cc51408",
   "metadata": {},
   "source": [
    "## Data acquisition"
   ]
  },
  {
   "cell_type": "code",
   "execution_count": 3,
   "id": "initial_id",
   "metadata": {
    "ExecuteTime": {
     "end_time": "2024-04-30T16:44:51.359770Z",
     "start_time": "2024-04-30T16:44:50.837019Z"
    },
    "collapsed": true
   },
   "outputs": [
    {
     "data": {
      "text/html": [
       "<div>\n",
       "<style scoped>\n",
       "    .dataframe tbody tr th:only-of-type {\n",
       "        vertical-align: middle;\n",
       "    }\n",
       "\n",
       "    .dataframe tbody tr th {\n",
       "        vertical-align: top;\n",
       "    }\n",
       "\n",
       "    .dataframe thead th {\n",
       "        text-align: right;\n",
       "    }\n",
       "</style>\n",
       "<table border=\"1\" class=\"dataframe\">\n",
       "  <thead>\n",
       "    <tr style=\"text-align: right;\">\n",
       "      <th></th>\n",
       "      <th>Usage</th>\n",
       "      <th>Image name</th>\n",
       "      <th>neutral</th>\n",
       "      <th>happiness</th>\n",
       "      <th>surprise</th>\n",
       "      <th>sadness</th>\n",
       "      <th>anger</th>\n",
       "      <th>disgust</th>\n",
       "      <th>fear</th>\n",
       "      <th>contempt</th>\n",
       "      <th>unknown</th>\n",
       "      <th>NF</th>\n",
       "    </tr>\n",
       "  </thead>\n",
       "  <tbody>\n",
       "    <tr>\n",
       "      <th>0</th>\n",
       "      <td>Training</td>\n",
       "      <td>fer0000000.png</td>\n",
       "      <td>4</td>\n",
       "      <td>0</td>\n",
       "      <td>0</td>\n",
       "      <td>1</td>\n",
       "      <td>3</td>\n",
       "      <td>2</td>\n",
       "      <td>0</td>\n",
       "      <td>0</td>\n",
       "      <td>0</td>\n",
       "      <td>0</td>\n",
       "    </tr>\n",
       "    <tr>\n",
       "      <th>1</th>\n",
       "      <td>Training</td>\n",
       "      <td>fer0000001.png</td>\n",
       "      <td>6</td>\n",
       "      <td>0</td>\n",
       "      <td>1</td>\n",
       "      <td>1</td>\n",
       "      <td>0</td>\n",
       "      <td>0</td>\n",
       "      <td>0</td>\n",
       "      <td>0</td>\n",
       "      <td>2</td>\n",
       "      <td>0</td>\n",
       "    </tr>\n",
       "    <tr>\n",
       "      <th>2</th>\n",
       "      <td>Training</td>\n",
       "      <td>fer0000002.png</td>\n",
       "      <td>5</td>\n",
       "      <td>0</td>\n",
       "      <td>0</td>\n",
       "      <td>3</td>\n",
       "      <td>1</td>\n",
       "      <td>0</td>\n",
       "      <td>0</td>\n",
       "      <td>0</td>\n",
       "      <td>1</td>\n",
       "      <td>0</td>\n",
       "    </tr>\n",
       "    <tr>\n",
       "      <th>3</th>\n",
       "      <td>Training</td>\n",
       "      <td>fer0000003.png</td>\n",
       "      <td>4</td>\n",
       "      <td>0</td>\n",
       "      <td>0</td>\n",
       "      <td>4</td>\n",
       "      <td>1</td>\n",
       "      <td>0</td>\n",
       "      <td>0</td>\n",
       "      <td>0</td>\n",
       "      <td>1</td>\n",
       "      <td>0</td>\n",
       "    </tr>\n",
       "    <tr>\n",
       "      <th>4</th>\n",
       "      <td>Training</td>\n",
       "      <td>fer0000004.png</td>\n",
       "      <td>9</td>\n",
       "      <td>0</td>\n",
       "      <td>0</td>\n",
       "      <td>1</td>\n",
       "      <td>0</td>\n",
       "      <td>0</td>\n",
       "      <td>0</td>\n",
       "      <td>0</td>\n",
       "      <td>0</td>\n",
       "      <td>0</td>\n",
       "    </tr>\n",
       "    <tr>\n",
       "      <th>...</th>\n",
       "      <td>...</td>\n",
       "      <td>...</td>\n",
       "      <td>...</td>\n",
       "      <td>...</td>\n",
       "      <td>...</td>\n",
       "      <td>...</td>\n",
       "      <td>...</td>\n",
       "      <td>...</td>\n",
       "      <td>...</td>\n",
       "      <td>...</td>\n",
       "      <td>...</td>\n",
       "      <td>...</td>\n",
       "    </tr>\n",
       "    <tr>\n",
       "      <th>35882</th>\n",
       "      <td>PrivateTest</td>\n",
       "      <td>fer0035797.png</td>\n",
       "      <td>8</td>\n",
       "      <td>0</td>\n",
       "      <td>0</td>\n",
       "      <td>2</td>\n",
       "      <td>0</td>\n",
       "      <td>0</td>\n",
       "      <td>0</td>\n",
       "      <td>0</td>\n",
       "      <td>0</td>\n",
       "      <td>0</td>\n",
       "    </tr>\n",
       "    <tr>\n",
       "      <th>35883</th>\n",
       "      <td>PrivateTest</td>\n",
       "      <td>NaN</td>\n",
       "      <td>0</td>\n",
       "      <td>0</td>\n",
       "      <td>0</td>\n",
       "      <td>0</td>\n",
       "      <td>0</td>\n",
       "      <td>0</td>\n",
       "      <td>0</td>\n",
       "      <td>0</td>\n",
       "      <td>0</td>\n",
       "      <td>10</td>\n",
       "    </tr>\n",
       "    <tr>\n",
       "      <th>35884</th>\n",
       "      <td>PrivateTest</td>\n",
       "      <td>fer0035799.png</td>\n",
       "      <td>0</td>\n",
       "      <td>0</td>\n",
       "      <td>0</td>\n",
       "      <td>0</td>\n",
       "      <td>7</td>\n",
       "      <td>1</td>\n",
       "      <td>0</td>\n",
       "      <td>2</td>\n",
       "      <td>0</td>\n",
       "      <td>0</td>\n",
       "    </tr>\n",
       "    <tr>\n",
       "      <th>35885</th>\n",
       "      <td>PrivateTest</td>\n",
       "      <td>fer0035800.png</td>\n",
       "      <td>0</td>\n",
       "      <td>10</td>\n",
       "      <td>0</td>\n",
       "      <td>0</td>\n",
       "      <td>0</td>\n",
       "      <td>0</td>\n",
       "      <td>0</td>\n",
       "      <td>0</td>\n",
       "      <td>0</td>\n",
       "      <td>0</td>\n",
       "    </tr>\n",
       "    <tr>\n",
       "      <th>35886</th>\n",
       "      <td>PrivateTest</td>\n",
       "      <td>fer0035801.png</td>\n",
       "      <td>2</td>\n",
       "      <td>0</td>\n",
       "      <td>0</td>\n",
       "      <td>5</td>\n",
       "      <td>1</td>\n",
       "      <td>1</td>\n",
       "      <td>0</td>\n",
       "      <td>0</td>\n",
       "      <td>1</td>\n",
       "      <td>0</td>\n",
       "    </tr>\n",
       "  </tbody>\n",
       "</table>\n",
       "<p>35887 rows × 12 columns</p>\n",
       "</div>"
      ],
      "text/plain": [
       "             Usage      Image name  neutral  happiness  surprise  sadness  \\\n",
       "0         Training  fer0000000.png        4          0         0        1   \n",
       "1         Training  fer0000001.png        6          0         1        1   \n",
       "2         Training  fer0000002.png        5          0         0        3   \n",
       "3         Training  fer0000003.png        4          0         0        4   \n",
       "4         Training  fer0000004.png        9          0         0        1   \n",
       "...            ...             ...      ...        ...       ...      ...   \n",
       "35882  PrivateTest  fer0035797.png        8          0         0        2   \n",
       "35883  PrivateTest             NaN        0          0         0        0   \n",
       "35884  PrivateTest  fer0035799.png        0          0         0        0   \n",
       "35885  PrivateTest  fer0035800.png        0         10         0        0   \n",
       "35886  PrivateTest  fer0035801.png        2          0         0        5   \n",
       "\n",
       "       anger  disgust  fear  contempt  unknown  NF  \n",
       "0          3        2     0         0        0   0  \n",
       "1          0        0     0         0        2   0  \n",
       "2          1        0     0         0        1   0  \n",
       "3          1        0     0         0        1   0  \n",
       "4          0        0     0         0        0   0  \n",
       "...      ...      ...   ...       ...      ...  ..  \n",
       "35882      0        0     0         0        0   0  \n",
       "35883      0        0     0         0        0  10  \n",
       "35884      7        1     0         2        0   0  \n",
       "35885      0        0     0         0        0   0  \n",
       "35886      1        1     0         0        1   0  \n",
       "\n",
       "[35887 rows x 12 columns]"
      ]
     },
     "execution_count": 3,
     "metadata": {},
     "output_type": "execute_result"
    }
   ],
   "source": [
    "# Read data form csv\n",
    "df = pd.read_csv(\"./FERPlus-master/fer2013new.csv\")\n",
    "df"
   ]
  },
  {
   "cell_type": "code",
   "execution_count": 4,
   "id": "00b8fd58",
   "metadata": {},
   "outputs": [
    {
     "name": "stdout",
     "output_type": "stream",
     "text": [
      "<class 'pandas.core.frame.DataFrame'>\n",
      "RangeIndex: 35887 entries, 0 to 35886\n",
      "Data columns (total 12 columns):\n",
      " #   Column      Non-Null Count  Dtype \n",
      "---  ------      --------------  ----- \n",
      " 0   Usage       35887 non-null  object\n",
      " 1   Image name  35714 non-null  object\n",
      " 2   neutral     35887 non-null  int64 \n",
      " 3   happiness   35887 non-null  int64 \n",
      " 4   surprise    35887 non-null  int64 \n",
      " 5   sadness     35887 non-null  int64 \n",
      " 6   anger       35887 non-null  int64 \n",
      " 7   disgust     35887 non-null  int64 \n",
      " 8   fear        35887 non-null  int64 \n",
      " 9   contempt    35887 non-null  int64 \n",
      " 10  unknown     35887 non-null  int64 \n",
      " 11  NF          35887 non-null  int64 \n",
      "dtypes: int64(10), object(2)\n",
      "memory usage: 3.3+ MB\n"
     ]
    }
   ],
   "source": [
    "# Display its general information\n",
    "df.info()"
   ]
  },
  {
   "cell_type": "markdown",
   "id": "2714cec3",
   "metadata": {},
   "source": [
    "# Preprocessing"
   ]
  },
  {
   "cell_type": "code",
   "execution_count": 5,
   "id": "7b558e53",
   "metadata": {},
   "outputs": [
    {
     "data": {
      "text/plain": [
       "Usage           0\n",
       "Image name    173\n",
       "neutral         0\n",
       "happiness       0\n",
       "surprise        0\n",
       "sadness         0\n",
       "anger           0\n",
       "disgust         0\n",
       "fear            0\n",
       "contempt        0\n",
       "unknown         0\n",
       "NF              0\n",
       "dtype: int64"
      ]
     },
     "execution_count": 5,
     "metadata": {},
     "output_type": "execute_result"
    }
   ],
   "source": [
    "# Check for any missing data particularly in 'Image name' column\n",
    "missing_data = df.isnull().sum()\n",
    "missing_data"
   ]
  },
  {
   "cell_type": "code",
   "execution_count": 6,
   "id": "eb1d9a11",
   "metadata": {},
   "outputs": [
    {
     "name": "stdout",
     "output_type": "stream",
     "text": [
      "<class 'pandas.core.frame.DataFrame'>\n",
      "Index: 35714 entries, 0 to 35886\n",
      "Data columns (total 12 columns):\n",
      " #   Column      Non-Null Count  Dtype \n",
      "---  ------      --------------  ----- \n",
      " 0   Usage       35714 non-null  object\n",
      " 1   Image name  35714 non-null  object\n",
      " 2   neutral     35714 non-null  int64 \n",
      " 3   happiness   35714 non-null  int64 \n",
      " 4   surprise    35714 non-null  int64 \n",
      " 5   sadness     35714 non-null  int64 \n",
      " 6   anger       35714 non-null  int64 \n",
      " 7   disgust     35714 non-null  int64 \n",
      " 8   fear        35714 non-null  int64 \n",
      " 9   contempt    35714 non-null  int64 \n",
      " 10  unknown     35714 non-null  int64 \n",
      " 11  NF          35714 non-null  int64 \n",
      "dtypes: int64(10), object(2)\n",
      "memory usage: 3.5+ MB\n"
     ]
    }
   ],
   "source": [
    "# Remove entries with missing 'Image name'\n",
    "clean_df = df.dropna(subset=['Image name'])\n",
    "\n",
    "# Confirm the removal\n",
    "clean_df.info()"
   ]
  },
  {
   "cell_type": "code",
   "execution_count": 7,
   "id": "10ce085a",
   "metadata": {},
   "outputs": [
    {
     "name": "stdout",
     "output_type": "stream",
     "text": [
      "Usage\n",
      "Training       28561\n",
      "PublicTest      3579\n",
      "PrivateTest     3574\n",
      "Name: count, dtype: int64\n"
     ]
    }
   ],
   "source": [
    "# Count of row types\n",
    "print(clean_df['Usage'].value_counts())"
   ]
  },
  {
   "cell_type": "markdown",
   "id": "b00f3c85",
   "metadata": {},
   "source": [
    "## Normalization"
   ]
  },
  {
   "cell_type": "code",
   "execution_count": 8,
   "id": "35761524",
   "metadata": {},
   "outputs": [
    {
     "data": {
      "text/plain": [
       "((35714, 48, 48),\n",
       " (35714, 10),\n",
       " ['FERPLUS-master/data\\\\FER2013Train\\\\fer0000000.png',\n",
       "  'FERPLUS-master/data\\\\FER2013Train\\\\fer0000001.png',\n",
       "  'FERPLUS-master/data\\\\FER2013Train\\\\fer0000002.png',\n",
       "  'FERPLUS-master/data\\\\FER2013Train\\\\fer0000003.png',\n",
       "  'FERPLUS-master/data\\\\FER2013Train\\\\fer0000004.png'])"
      ]
     },
     "execution_count": 8,
     "metadata": {},
     "output_type": "execute_result"
    }
   ],
   "source": [
    "# Load and normalize images\n",
    "def load_images(data, base_path):\n",
    "    images = []\n",
    "    labels = []\n",
    "    paths = []\n",
    "    \n",
    "    # Mapping from Usage to directory names\n",
    "    directory_map = {\n",
    "        \"Training\": \"FER2013Train\",\n",
    "        \"PublicTest\": \"FER2013Valid\",\n",
    "        \"PrivateTest\": \"FER2013Test\"\n",
    "    }\n",
    "    \n",
    "    for idx, row in data.iterrows():\n",
    "        directory = directory_map.get(row['Usage'], None)\n",
    "        if directory:\n",
    "            image_path = os.path.join(base_path, directory, row['Image name'])\n",
    "            \n",
    "            if os.path.exists(image_path):\n",
    "                # Load the image\n",
    "                image = Image.open(image_path).convert('L')  # Convert to grayscale\n",
    "                image_array = np.array(image) / 255.0  # Normalize to 0-1\n",
    "                \n",
    "                # Append data\n",
    "                images.append(image_array)\n",
    "                labels.append(row[2:12].values)  # Select emotion intensity columns\n",
    "                paths.append(image_path)\n",
    "    \n",
    "    return np.array(images), np.array(labels), paths\n",
    "\n",
    "# Base path for images\n",
    "base_image_path = 'FERPLUS-master/data'\n",
    "\n",
    "# Load images and their labels\n",
    "images, labels, image_paths = load_images(clean_df, base_image_path)\n",
    "\n",
    "# Check shapes and an example path\n",
    "images.shape, labels.shape, image_paths[:5]"
   ]
  },
  {
   "cell_type": "code",
   "execution_count": 9,
   "id": "5934b4ae",
   "metadata": {},
   "outputs": [
    {
     "data": {
      "text/plain": [
       "(35714,)"
      ]
     },
     "execution_count": 9,
     "metadata": {},
     "output_type": "execute_result"
    }
   ],
   "source": [
    "label_predominant_emotion_indices = np.argmax(labels, axis=1)\n",
    "label_predominant_emotion_indices.shape"
   ]
  },
  {
   "cell_type": "code",
   "execution_count": 72,
   "id": "24bb0136",
   "metadata": {},
   "outputs": [
    {
     "name": "stdout",
     "output_type": "stream",
     "text": [
      "       Emotion  Count\n",
      "0      neutral  12906\n",
      "1    happiness   9355\n",
      "2     surprise   4462\n",
      "3      sadness   4371\n",
      "4        anger   3111\n",
      "5      disgust    248\n",
      "6         fear    819\n",
      "7     contempt    216\n",
      "8      unknown    222\n",
      "9   not a face      4\n",
      "10       Total  35714\n"
     ]
    }
   ],
   "source": [
    "emotion_labels = {\n",
    "    0: \"neutral\",\n",
    "    1: \"happiness\",\n",
    "    2: \"surprise\",\n",
    "    3: \"sadness\",\n",
    "    4: \"anger\",\n",
    "    5: \"disgust\",\n",
    "    6: \"fear\",\n",
    "    7: \"contempt\",\n",
    "    8: \"unknown\",\n",
    "    9: \"not a face\"\n",
    "}\n",
    "\n",
    "unique_indices, counts = np.unique(label_predominant_emotion_indices, return_counts=True)\n",
    "\n",
    "# Create a DataFrame\n",
    "emotion_counts = pd.DataFrame({\n",
    "    'Emotion': [emotion_labels[index] for index in unique_indices],\n",
    "    'Count': counts\n",
    "})\n",
    "\n",
    "# Add a total row\n",
    "total = emotion_counts['Count'].sum()\n",
    "total_row = pd.DataFrame({'Emotion': ['Total'], 'Count': [total]})\n",
    "emotion_counts = pd.concat([emotion_counts, total_row], ignore_index=True)\n",
    "\n",
    "# Display the DataFrame\n",
    "print(emotion_counts)"
   ]
  },
  {
   "cell_type": "code",
   "execution_count": 92,
   "id": "d2ac3326",
   "metadata": {},
   "outputs": [
    {
     "data": {
      "text/plain": [
       "((35710, 48, 48), (35710,), (35710,))"
      ]
     },
     "execution_count": 92,
     "metadata": {},
     "output_type": "execute_result"
    }
   ],
   "source": [
    "# Identify indices where the label is NOT 'not a face'\n",
    "not_a_face_index = 9\n",
    "valid_indices_without_NF = label_predominant_emotion_indices != not_a_face_index  # Create a boolean array where 'not a face' indices are False\n",
    "\n",
    "# Filter both images and labels\n",
    "filtered_images = images[valid_indices_without_NF]\n",
    "filtered_labels = label_predominant_emotion_indices[valid_indices_without_NF]\n",
    "filtered_image_paths = np.array(image_paths)[valid_indices_without_NF]\n",
    "\n",
    "filtered_images.shape, filtered_labels.shape, filtered_image_paths.shape"
   ]
  },
  {
   "cell_type": "code",
   "execution_count": 87,
   "id": "c6fa8ce0",
   "metadata": {},
   "outputs": [
    {
     "name": "stdout",
     "output_type": "stream",
     "text": [
      "     Emotion  Count\n",
      "0    neutral  12906\n",
      "1  happiness   9355\n",
      "2   surprise   4462\n",
      "3    sadness   4371\n",
      "4      anger   3111\n",
      "5    disgust    248\n",
      "6       fear    819\n",
      "7   contempt    216\n",
      "8    unknown    222\n",
      "9      Total  35710\n"
     ]
    },
    {
     "data": {
      "image/png": "[encoded data removed]",
      "text/plain": [
       "<Figure size 1000x600 with 1 Axes>"
      ]
     },
     "metadata": {},
     "output_type": "display_data"
    }
   ],
   "source": [
    "emotion_labels = {\n",
    "    0: \"neutral\",\n",
    "    1: \"happiness\",\n",
    "    2: \"surprise\",\n",
    "    3: \"sadness\",\n",
    "    4: \"anger\",\n",
    "    5: \"disgust\",\n",
    "    6: \"fear\",\n",
    "    7: \"contempt\",\n",
    "    8: \"unknown\",\n",
    "}\n",
    "\n",
    "unique_indices, counts = np.unique(filtered_labels, return_counts=True)\n",
    "\n",
    "# Create a DataFrame\n",
    "emotion_counts = pd.DataFrame({\n",
    "    'Emotion': [emotion_labels[index] for index in unique_indices],\n",
    "    'Count': counts\n",
    "})\n",
    "\n",
    "# Add a total row\n",
    "total = emotion_counts['Count'].sum()\n",
    "total_row = pd.DataFrame({'Emotion': ['Total'], 'Count': [total]})\n",
    "emotion_counts = pd.concat([emotion_counts, total_row], ignore_index=True)\n",
    "\n",
    "# Display the DataFrame\n",
    "print(emotion_counts)\n",
    "\n",
    "plt.figure(figsize=(10, 6))\n",
    "plt.bar(emotion_counts['Emotion'][:-1], emotion_counts['Count'][:-1], color='skyblue')\n",
    "plt.xlabel('Emotion')\n",
    "plt.ylabel('Count')\n",
    "plt.title('Distribution of Predominant Emotions')\n",
    "plt.xticks(rotation=45)\n",
    "plt.tight_layout()\n",
    "plt.show()"
   ]
  },
  {
   "cell_type": "markdown",
   "id": "69ab9d7b",
   "metadata": {},
   "source": [
    "## Splitting data"
   ]
  },
  {
   "cell_type": "code",
   "execution_count": 75,
   "id": "bb89bdb9",
   "metadata": {},
   "outputs": [
    {
     "name": "stdout",
     "output_type": "stream",
     "text": [
      "Train images info: \n",
      "(28559, 48, 48) (28559,)\n",
      "Valid images info: \n",
      "(3578, 48, 48) (3578,)\n",
      "Test images info: \n",
      "(3573, 48, 48) (3573,)\n"
     ]
    }
   ],
   "source": [
    "# Split data into differente usage\n",
    "train_indices = [i for i, path in enumerate(filtered_image_paths) if 'FER2013Train' in path]\n",
    "test_indices = [i for i, path in enumerate(filtered_image_paths) if 'FER2013Test' in path]\n",
    "valid_indices = [i for i, path in enumerate(filtered_image_paths) if 'FER2013Valid' in path]\n",
    "\n",
    "train_images = filtered_images[train_indices]\n",
    "train_labels = filtered_labels[train_indices]\n",
    "\n",
    "valid_images = filtered_images[valid_indices]\n",
    "valid_labels = filtered_labels[valid_indices]\n",
    "\n",
    "test_images = filtered_images[test_indices]\n",
    "test_labels = filtered_labels[test_indices]"
   ]
  },
  {
   "cell_type": "markdown",
   "id": "c6513db2",
   "metadata": {},
   "source": [
    "# Basic CNN"
   ]
  },
  {
   "cell_type": "code",
   "execution_count": 76,
   "id": "6b0f4974",
   "metadata": {},
   "outputs": [
    {
     "name": "stderr",
     "output_type": "stream",
     "text": [
      "d:\\Julio\\Uc3m\\TFG\\venv\\Lib\\site-packages\\keras\\src\\layers\\convolutional\\base_conv.py:107: UserWarning: Do not pass an `input_shape`/`input_dim` argument to a layer. When using Sequential models, prefer using an `Input(shape)` object as the first layer in the model instead.\n",
      "  super().__init__(activity_regularizer=activity_regularizer, **kwargs)\n"
     ]
    },
    {
     "data": {
      "text/html": [
       "<pre style=\"white-space:pre;overflow-x:auto;line-height:normal;font-family:Menlo,'DejaVu Sans Mono',consolas,'Courier New',monospace\"><span style=\"font-weight: bold\">Model: \"sequential_1\"</span>\n",
       "</pre>\n"
      ],
      "text/plain": [
       "\u001b[1mModel: \"sequential_1\"\u001b[0m\n"
      ]
     },
     "metadata": {},
     "output_type": "display_data"
    },
    {
     "data": {
      "text/html": [
       "<pre style=\"white-space:pre;overflow-x:auto;line-height:normal;font-family:Menlo,'DejaVu Sans Mono',consolas,'Courier New',monospace\">┏━━━━━━━━━━━━━━━━━━━━━━━━━━━━━━━━━┳━━━━━━━━━━━━━━━━━━━━━━━━┳━━━━━━━━━━━━━━━┓\n",
       "┃<span style=\"font-weight: bold\"> Layer (type)                    </span>┃<span style=\"font-weight: bold\"> Output Shape           </span>┃<span style=\"font-weight: bold\">       Param # </span>┃\n",
       "┡━━━━━━━━━━━━━━━━━━━━━━━━━━━━━━━━━╇━━━━━━━━━━━━━━━━━━━━━━━━╇━━━━━━━━━━━━━━━┩\n",
       "│ conv2d_3 (<span style=\"color: #0087ff; text-decoration-color: #0087ff\">Conv2D</span>)               │ (<span style=\"color: #00d7ff; text-decoration-color: #00d7ff\">None</span>, <span style=\"color: #00af00; text-decoration-color: #00af00\">46</span>, <span style=\"color: #00af00; text-decoration-color: #00af00\">46</span>, <span style=\"color: #00af00; text-decoration-color: #00af00\">32</span>)     │           <span style=\"color: #00af00; text-decoration-color: #00af00\">320</span> │\n",
       "├─────────────────────────────────┼────────────────────────┼───────────────┤\n",
       "│ max_pooling2d_3 (<span style=\"color: #0087ff; text-decoration-color: #0087ff\">MaxPooling2D</span>)  │ (<span style=\"color: #00d7ff; text-decoration-color: #00d7ff\">None</span>, <span style=\"color: #00af00; text-decoration-color: #00af00\">23</span>, <span style=\"color: #00af00; text-decoration-color: #00af00\">23</span>, <span style=\"color: #00af00; text-decoration-color: #00af00\">32</span>)     │             <span style=\"color: #00af00; text-decoration-color: #00af00\">0</span> │\n",
       "├─────────────────────────────────┼────────────────────────┼───────────────┤\n",
       "│ conv2d_4 (<span style=\"color: #0087ff; text-decoration-color: #0087ff\">Conv2D</span>)               │ (<span style=\"color: #00d7ff; text-decoration-color: #00d7ff\">None</span>, <span style=\"color: #00af00; text-decoration-color: #00af00\">21</span>, <span style=\"color: #00af00; text-decoration-color: #00af00\">21</span>, <span style=\"color: #00af00; text-decoration-color: #00af00\">64</span>)     │        <span style=\"color: #00af00; text-decoration-color: #00af00\">18,496</span> │\n",
       "├─────────────────────────────────┼────────────────────────┼───────────────┤\n",
       "│ max_pooling2d_4 (<span style=\"color: #0087ff; text-decoration-color: #0087ff\">MaxPooling2D</span>)  │ (<span style=\"color: #00d7ff; text-decoration-color: #00d7ff\">None</span>, <span style=\"color: #00af00; text-decoration-color: #00af00\">10</span>, <span style=\"color: #00af00; text-decoration-color: #00af00\">10</span>, <span style=\"color: #00af00; text-decoration-color: #00af00\">64</span>)     │             <span style=\"color: #00af00; text-decoration-color: #00af00\">0</span> │\n",
       "├─────────────────────────────────┼────────────────────────┼───────────────┤\n",
       "│ conv2d_5 (<span style=\"color: #0087ff; text-decoration-color: #0087ff\">Conv2D</span>)               │ (<span style=\"color: #00d7ff; text-decoration-color: #00d7ff\">None</span>, <span style=\"color: #00af00; text-decoration-color: #00af00\">8</span>, <span style=\"color: #00af00; text-decoration-color: #00af00\">8</span>, <span style=\"color: #00af00; text-decoration-color: #00af00\">128</span>)      │        <span style=\"color: #00af00; text-decoration-color: #00af00\">73,856</span> │\n",
       "├─────────────────────────────────┼────────────────────────┼───────────────┤\n",
       "│ max_pooling2d_5 (<span style=\"color: #0087ff; text-decoration-color: #0087ff\">MaxPooling2D</span>)  │ (<span style=\"color: #00d7ff; text-decoration-color: #00d7ff\">None</span>, <span style=\"color: #00af00; text-decoration-color: #00af00\">4</span>, <span style=\"color: #00af00; text-decoration-color: #00af00\">4</span>, <span style=\"color: #00af00; text-decoration-color: #00af00\">128</span>)      │             <span style=\"color: #00af00; text-decoration-color: #00af00\">0</span> │\n",
       "├─────────────────────────────────┼────────────────────────┼───────────────┤\n",
       "│ flatten_1 (<span style=\"color: #0087ff; text-decoration-color: #0087ff\">Flatten</span>)             │ (<span style=\"color: #00d7ff; text-decoration-color: #00d7ff\">None</span>, <span style=\"color: #00af00; text-decoration-color: #00af00\">2048</span>)           │             <span style=\"color: #00af00; text-decoration-color: #00af00\">0</span> │\n",
       "├─────────────────────────────────┼────────────────────────┼───────────────┤\n",
       "│ dense_2 (<span style=\"color: #0087ff; text-decoration-color: #0087ff\">Dense</span>)                 │ (<span style=\"color: #00d7ff; text-decoration-color: #00d7ff\">None</span>, <span style=\"color: #00af00; text-decoration-color: #00af00\">128</span>)            │       <span style=\"color: #00af00; text-decoration-color: #00af00\">262,272</span> │\n",
       "├─────────────────────────────────┼────────────────────────┼───────────────┤\n",
       "│ dropout_1 (<span style=\"color: #0087ff; text-decoration-color: #0087ff\">Dropout</span>)             │ (<span style=\"color: #00d7ff; text-decoration-color: #00d7ff\">None</span>, <span style=\"color: #00af00; text-decoration-color: #00af00\">128</span>)            │             <span style=\"color: #00af00; text-decoration-color: #00af00\">0</span> │\n",
       "├─────────────────────────────────┼────────────────────────┼───────────────┤\n",
       "│ dense_3 (<span style=\"color: #0087ff; text-decoration-color: #0087ff\">Dense</span>)                 │ (<span style=\"color: #00d7ff; text-decoration-color: #00d7ff\">None</span>, <span style=\"color: #00af00; text-decoration-color: #00af00\">10</span>)             │         <span style=\"color: #00af00; text-decoration-color: #00af00\">1,290</span> │\n",
       "└─────────────────────────────────┴────────────────────────┴───────────────┘\n",
       "</pre>\n"
      ],
      "text/plain": [
       "┏━━━━━━━━━━━━━━━━━━━━━━━━━━━━━━━━━┳━━━━━━━━━━━━━━━━━━━━━━━━┳━━━━━━━━━━━━━━━┓\n",
       "┃\u001b[1m \u001b[0m\u001b[1mLayer (type)                   \u001b[0m\u001b[1m \u001b[0m┃\u001b[1m \u001b[0m\u001b[1mOutput Shape          \u001b[0m\u001b[1m \u001b[0m┃\u001b[1m \u001b[0m\u001b[1m      Param #\u001b[0m\u001b[1m \u001b[0m┃\n",
       "┡━━━━━━━━━━━━━━━━━━━━━━━━━━━━━━━━━╇━━━━━━━━━━━━━━━━━━━━━━━━╇━━━━━━━━━━━━━━━┩\n",
       "│ conv2d_3 (\u001b[38;5;33mConv2D\u001b[0m)               │ (\u001b[38;5;45mNone\u001b[0m, \u001b[38;5;34m46\u001b[0m, \u001b[38;5;34m46\u001b[0m, \u001b[38;5;34m32\u001b[0m)     │           \u001b[38;5;34m320\u001b[0m │\n",
       "├─────────────────────────────────┼────────────────────────┼───────────────┤\n",
       "│ max_pooling2d_3 (\u001b[38;5;33mMaxPooling2D\u001b[0m)  │ (\u001b[38;5;45mNone\u001b[0m, \u001b[38;5;34m23\u001b[0m, \u001b[38;5;34m23\u001b[0m, \u001b[38;5;34m32\u001b[0m)     │             \u001b[38;5;34m0\u001b[0m │\n",
       "├─────────────────────────────────┼────────────────────────┼───────────────┤\n",
       "│ conv2d_4 (\u001b[38;5;33mConv2D\u001b[0m)               │ (\u001b[38;5;45mNone\u001b[0m, \u001b[38;5;34m21\u001b[0m, \u001b[38;5;34m21\u001b[0m, \u001b[38;5;34m64\u001b[0m)     │        \u001b[38;5;34m18,496\u001b[0m │\n",
       "├─────────────────────────────────┼────────────────────────┼───────────────┤\n",
       "│ max_pooling2d_4 (\u001b[38;5;33mMaxPooling2D\u001b[0m)  │ (\u001b[38;5;45mNone\u001b[0m, \u001b[38;5;34m10\u001b[0m, \u001b[38;5;34m10\u001b[0m, \u001b[38;5;34m64\u001b[0m)     │             \u001b[38;5;34m0\u001b[0m │\n",
       "├─────────────────────────────────┼────────────────────────┼───────────────┤\n",
       "│ conv2d_5 (\u001b[38;5;33mConv2D\u001b[0m)               │ (\u001b[38;5;45mNone\u001b[0m, \u001b[38;5;34m8\u001b[0m, \u001b[38;5;34m8\u001b[0m, \u001b[38;5;34m128\u001b[0m)      │        \u001b[38;5;34m73,856\u001b[0m │\n",
       "├─────────────────────────────────┼────────────────────────┼───────────────┤\n",
       "│ max_pooling2d_5 (\u001b[38;5;33mMaxPooling2D\u001b[0m)  │ (\u001b[38;5;45mNone\u001b[0m, \u001b[38;5;34m4\u001b[0m, \u001b[38;5;34m4\u001b[0m, \u001b[38;5;34m128\u001b[0m)      │             \u001b[38;5;34m0\u001b[0m │\n",
       "├─────────────────────────────────┼────────────────────────┼───────────────┤\n",
       "│ flatten_1 (\u001b[38;5;33mFlatten\u001b[0m)             │ (\u001b[38;5;45mNone\u001b[0m, \u001b[38;5;34m2048\u001b[0m)           │             \u001b[38;5;34m0\u001b[0m │\n",
       "├─────────────────────────────────┼────────────────────────┼───────────────┤\n",
       "│ dense_2 (\u001b[38;5;33mDense\u001b[0m)                 │ (\u001b[38;5;45mNone\u001b[0m, \u001b[38;5;34m128\u001b[0m)            │       \u001b[38;5;34m262,272\u001b[0m │\n",
       "├─────────────────────────────────┼────────────────────────┼───────────────┤\n",
       "│ dropout_1 (\u001b[38;5;33mDropout\u001b[0m)             │ (\u001b[38;5;45mNone\u001b[0m, \u001b[38;5;34m128\u001b[0m)            │             \u001b[38;5;34m0\u001b[0m │\n",
       "├─────────────────────────────────┼────────────────────────┼───────────────┤\n",
       "│ dense_3 (\u001b[38;5;33mDense\u001b[0m)                 │ (\u001b[38;5;45mNone\u001b[0m, \u001b[38;5;34m10\u001b[0m)             │         \u001b[38;5;34m1,290\u001b[0m │\n",
       "└─────────────────────────────────┴────────────────────────┴───────────────┘\n"
      ]
     },
     "metadata": {},
     "output_type": "display_data"
    },
    {
     "data": {
      "text/html": [
       "<pre style=\"white-space:pre;overflow-x:auto;line-height:normal;font-family:Menlo,'DejaVu Sans Mono',consolas,'Courier New',monospace\"><span style=\"font-weight: bold\"> Total params: </span><span style=\"color: #00af00; text-decoration-color: #00af00\">356,234</span> (1.36 MB)\n",
       "</pre>\n"
      ],
      "text/plain": [
       "\u001b[1m Total params: \u001b[0m\u001b[38;5;34m356,234\u001b[0m (1.36 MB)\n"
      ]
     },
     "metadata": {},
     "output_type": "display_data"
    },
    {
     "data": {
      "text/html": [
       "<pre style=\"white-space:pre;overflow-x:auto;line-height:normal;font-family:Menlo,'DejaVu Sans Mono',consolas,'Courier New',monospace\"><span style=\"font-weight: bold\"> Trainable params: </span><span style=\"color: #00af00; text-decoration-color: #00af00\">356,234</span> (1.36 MB)\n",
       "</pre>\n"
      ],
      "text/plain": [
       "\u001b[1m Trainable params: \u001b[0m\u001b[38;5;34m356,234\u001b[0m (1.36 MB)\n"
      ]
     },
     "metadata": {},
     "output_type": "display_data"
    },
    {
     "data": {
      "text/html": [
       "<pre style=\"white-space:pre;overflow-x:auto;line-height:normal;font-family:Menlo,'DejaVu Sans Mono',consolas,'Courier New',monospace\"><span style=\"font-weight: bold\"> Non-trainable params: </span><span style=\"color: #00af00; text-decoration-color: #00af00\">0</span> (0.00 B)\n",
       "</pre>\n"
      ],
      "text/plain": [
       "\u001b[1m Non-trainable params: \u001b[0m\u001b[38;5;34m0\u001b[0m (0.00 B)\n"
      ]
     },
     "metadata": {},
     "output_type": "display_data"
    }
   ],
   "source": [
    "# Create a basic CNN model\n",
    "basic_model = Sequential([\n",
    "    Conv2D(32, (3, 3), activation='relu', input_shape=(48, 48, 1)),  # first conv layer\n",
    "    MaxPooling2D((2, 2)),  # first pooling layer\n",
    "    Conv2D(64, (3, 3), activation='relu'),  # second conv layer\n",
    "    MaxPooling2D((2, 2)),  # second pooling layer\n",
    "    Conv2D(128, (3, 3), activation='relu'),  # third conv layer\n",
    "    MaxPooling2D((2, 2)),  # third pooling layer\n",
    "    Flatten(),  # flatten the output for the dense layer\n",
    "    Dense(128, activation='relu'),  # fully connected layer\n",
    "    Dropout(0.5),  # dropout for regularization\n",
    "    Dense(10, activation='softmax')  # output layer with 10 units for each emotion\n",
    "])\n",
    "\n",
    "basic_model.summary()  # This will print the summary of the model architecture"
   ]
  },
  {
   "cell_type": "code",
   "execution_count": 77,
   "id": "9eb20988",
   "metadata": {},
   "outputs": [],
   "source": [
    "# Compile the model\n",
    "basic_model.compile(\n",
    "    optimizer='adam',\n",
    "    loss='sparse_categorical_crossentropy',\n",
    "    metrics=['accuracy']\n",
    ")"
   ]
  },
  {
   "cell_type": "markdown",
   "id": "b9900989",
   "metadata": {},
   "source": [
    "## Reshape images to add channel dimension for CNN"
   ]
  },
  {
   "cell_type": "code",
   "execution_count": 78,
   "id": "2527ed2a",
   "metadata": {},
   "outputs": [],
   "source": [
    "# Reshape or modify the data to add a channel dimension for CNNs, expect an input shape like (batch, height, width, channels)\n",
    "# Channel dimension is 1 for grayscale images\n",
    "train_images = train_images.reshape((-1, 48, 48, 1))\n",
    "test_images = test_images.reshape((-1, 48, 48, 1))\n",
    "valid_images = valid_images.reshape((-1, 48, 48, 1))"
   ]
  },
  {
   "cell_type": "code",
   "execution_count": 79,
   "id": "81ee3540",
   "metadata": {},
   "outputs": [
    {
     "name": "stdout",
     "output_type": "stream",
     "text": [
      "Train images shape: (28559, 48, 48, 1) float64\n",
      "Valid images shape: (3578, 48, 48, 1) float64\n",
      "Tests images shape: (3573, 48, 48, 1) float64\n",
      "Train labels shape: (28559,) int64\n",
      "Valid labels shape: (3578,) int64\n",
      "Tests labels shape: (3573,) int64\n"
     ]
    }
   ],
   "source": [
    "print(\"Train images shape:\", train_images.shape, train_images.dtype)\n",
    "print(\"Valid images shape:\", valid_images.shape, valid_images.dtype)\n",
    "print(\"Tests images shape:\", test_images.shape, test_images.dtype)\n",
    "\n",
    "print(\"Train labels shape:\", train_labels.shape, train_labels.dtype)\n",
    "print(\"Valid labels shape:\", valid_labels.shape, valid_labels.dtype)\n",
    "print(\"Tests labels shape:\", test_labels.shape, test_labels.dtype)\n"
   ]
  },
  {
   "cell_type": "markdown",
   "id": "4c82d721",
   "metadata": {},
   "source": [
    "## Fit model"
   ]
  },
  {
   "cell_type": "code",
   "execution_count": 80,
   "id": "96286a0e",
   "metadata": {},
   "outputs": [
    {
     "name": "stdout",
     "output_type": "stream",
     "text": [
      "Epoch 1/30\n",
      "\u001b[1m447/447\u001b[0m \u001b[32m━━━━━━━━━━━━━━━━━━━━\u001b[0m\u001b[37m\u001b[0m \u001b[1m53s\u001b[0m 100ms/step - accuracy: 0.3522 - loss: 1.7148 - val_accuracy: 0.5408 - val_loss: 1.3644\n",
      "Epoch 2/30\n",
      "\u001b[1m447/447\u001b[0m \u001b[32m━━━━━━━━━━━━━━━━━━━━\u001b[0m\u001b[37m\u001b[0m \u001b[1m42s\u001b[0m 93ms/step - accuracy: 0.5356 - loss: 1.3432 - val_accuracy: 0.6213 - val_loss: 1.0934\n",
      "Epoch 3/30\n",
      "\u001b[1m447/447\u001b[0m \u001b[32m━━━━━━━━━━━━━━━━━━━━\u001b[0m\u001b[37m\u001b[0m \u001b[1m44s\u001b[0m 98ms/step - accuracy: 0.6156 - loss: 1.1329 - val_accuracy: 0.6462 - val_loss: 1.0159\n",
      "Epoch 4/30\n",
      "\u001b[1m447/447\u001b[0m \u001b[32m━━━━━━━━━━━━━━━━━━━━\u001b[0m\u001b[37m\u001b[0m \u001b[1m43s\u001b[0m 96ms/step - accuracy: 0.6411 - loss: 1.0384 - val_accuracy: 0.6548 - val_loss: 0.9822\n",
      "Epoch 5/30\n",
      "\u001b[1m447/447\u001b[0m \u001b[32m━━━━━━━━━━━━━━━━━━━━\u001b[0m\u001b[37m\u001b[0m \u001b[1m39s\u001b[0m 88ms/step - accuracy: 0.6671 - loss: 0.9615 - val_accuracy: 0.6887 - val_loss: 0.8940\n",
      "Epoch 6/30\n",
      "\u001b[1m447/447\u001b[0m \u001b[32m━━━━━━━━━━━━━━━━━━━━\u001b[0m\u001b[37m\u001b[0m \u001b[1m40s\u001b[0m 89ms/step - accuracy: 0.6868 - loss: 0.9164 - val_accuracy: 0.6984 - val_loss: 0.8618\n",
      "Epoch 7/30\n",
      "\u001b[1m447/447\u001b[0m \u001b[32m━━━━━━━━━━━━━━━━━━━━\u001b[0m\u001b[37m\u001b[0m \u001b[1m42s\u001b[0m 94ms/step - accuracy: 0.7003 - loss: 0.8670 - val_accuracy: 0.7135 - val_loss: 0.8290\n",
      "Epoch 8/30\n",
      "\u001b[1m447/447\u001b[0m \u001b[32m━━━━━━━━━━━━━━━━━━━━\u001b[0m\u001b[37m\u001b[0m \u001b[1m41s\u001b[0m 92ms/step - accuracy: 0.7205 - loss: 0.8137 - val_accuracy: 0.7049 - val_loss: 0.8414\n",
      "Epoch 9/30\n",
      "\u001b[1m447/447\u001b[0m \u001b[32m━━━━━━━━━━━━━━━━━━━━\u001b[0m\u001b[37m\u001b[0m \u001b[1m42s\u001b[0m 95ms/step - accuracy: 0.7309 - loss: 0.7748 - val_accuracy: 0.7186 - val_loss: 0.8193\n",
      "Epoch 10/30\n",
      "\u001b[1m447/447\u001b[0m \u001b[32m━━━━━━━━━━━━━━━━━━━━\u001b[0m\u001b[37m\u001b[0m \u001b[1m41s\u001b[0m 92ms/step - accuracy: 0.7412 - loss: 0.7425 - val_accuracy: 0.7191 - val_loss: 0.8031\n",
      "Epoch 11/30\n",
      "\u001b[1m447/447\u001b[0m \u001b[32m━━━━━━━━━━━━━━━━━━━━\u001b[0m\u001b[37m\u001b[0m \u001b[1m43s\u001b[0m 96ms/step - accuracy: 0.7537 - loss: 0.7034 - val_accuracy: 0.7233 - val_loss: 0.8243\n",
      "Epoch 12/30\n",
      "\u001b[1m447/447\u001b[0m \u001b[32m━━━━━━━━━━━━━━━━━━━━\u001b[0m\u001b[37m\u001b[0m \u001b[1m43s\u001b[0m 96ms/step - accuracy: 0.7633 - loss: 0.6742 - val_accuracy: 0.7214 - val_loss: 0.8053\n",
      "Epoch 13/30\n",
      "\u001b[1m447/447\u001b[0m \u001b[32m━━━━━━━━━━━━━━━━━━━━\u001b[0m\u001b[37m\u001b[0m \u001b[1m42s\u001b[0m 95ms/step - accuracy: 0.7729 - loss: 0.6422 - val_accuracy: 0.7289 - val_loss: 0.8122\n",
      "Epoch 14/30\n",
      "\u001b[1m447/447\u001b[0m \u001b[32m━━━━━━━━━━━━━━━━━━━━\u001b[0m\u001b[37m\u001b[0m \u001b[1m44s\u001b[0m 98ms/step - accuracy: 0.7910 - loss: 0.5954 - val_accuracy: 0.7272 - val_loss: 0.8078\n",
      "Epoch 15/30\n",
      "\u001b[1m447/447\u001b[0m \u001b[32m━━━━━━━━━━━━━━━━━━━━\u001b[0m\u001b[37m\u001b[0m \u001b[1m43s\u001b[0m 95ms/step - accuracy: 0.7943 - loss: 0.5751 - val_accuracy: 0.7236 - val_loss: 0.8385\n",
      "Epoch 16/30\n",
      "\u001b[1m447/447\u001b[0m \u001b[32m━━━━━━━━━━━━━━━━━━━━\u001b[0m\u001b[37m\u001b[0m \u001b[1m43s\u001b[0m 96ms/step - accuracy: 0.7996 - loss: 0.5539 - val_accuracy: 0.7334 - val_loss: 0.8473\n",
      "Epoch 17/30\n",
      "\u001b[1m447/447\u001b[0m \u001b[32m━━━━━━━━━━━━━━━━━━━━\u001b[0m\u001b[37m\u001b[0m \u001b[1m42s\u001b[0m 95ms/step - accuracy: 0.8141 - loss: 0.5214 - val_accuracy: 0.7323 - val_loss: 0.8744\n",
      "Epoch 18/30\n",
      "\u001b[1m447/447\u001b[0m \u001b[32m━━━━━━━━━━━━━━━━━━━━\u001b[0m\u001b[37m\u001b[0m \u001b[1m43s\u001b[0m 96ms/step - accuracy: 0.8251 - loss: 0.4819 - val_accuracy: 0.7309 - val_loss: 0.8675\n",
      "Epoch 19/30\n",
      "\u001b[1m447/447\u001b[0m \u001b[32m━━━━━━━━━━━━━━━━━━━━\u001b[0m\u001b[37m\u001b[0m \u001b[1m44s\u001b[0m 99ms/step - accuracy: 0.8252 - loss: 0.4846 - val_accuracy: 0.7267 - val_loss: 0.9453\n",
      "Epoch 20/30\n",
      "\u001b[1m447/447\u001b[0m \u001b[32m━━━━━━━━━━━━━━━━━━━━\u001b[0m\u001b[37m\u001b[0m \u001b[1m44s\u001b[0m 99ms/step - accuracy: 0.8374 - loss: 0.4496 - val_accuracy: 0.7250 - val_loss: 0.9422\n",
      "Epoch 21/30\n",
      "\u001b[1m447/447\u001b[0m \u001b[32m━━━━━━━━━━━━━━━━━━━━\u001b[0m\u001b[37m\u001b[0m \u001b[1m45s\u001b[0m 101ms/step - accuracy: 0.8427 - loss: 0.4276 - val_accuracy: 0.7283 - val_loss: 0.9405\n",
      "Epoch 22/30\n",
      "\u001b[1m447/447\u001b[0m \u001b[32m━━━━━━━━━━━━━━━━━━━━\u001b[0m\u001b[37m\u001b[0m \u001b[1m43s\u001b[0m 96ms/step - accuracy: 0.8509 - loss: 0.4128 - val_accuracy: 0.7297 - val_loss: 1.0193\n",
      "Epoch 23/30\n",
      "\u001b[1m447/447\u001b[0m \u001b[32m━━━━━━━━━━━━━━━━━━━━\u001b[0m\u001b[37m\u001b[0m \u001b[1m43s\u001b[0m 95ms/step - accuracy: 0.8550 - loss: 0.3972 - val_accuracy: 0.7295 - val_loss: 1.0028\n",
      "Epoch 24/30\n",
      "\u001b[1m447/447\u001b[0m \u001b[32m━━━━━━━━━━━━━━━━━━━━\u001b[0m\u001b[37m\u001b[0m \u001b[1m43s\u001b[0m 96ms/step - accuracy: 0.8511 - loss: 0.4014 - val_accuracy: 0.7286 - val_loss: 0.9951\n",
      "Epoch 25/30\n",
      "\u001b[1m447/447\u001b[0m \u001b[32m━━━━━━━━━━━━━━━━━━━━\u001b[0m\u001b[37m\u001b[0m \u001b[1m43s\u001b[0m 96ms/step - accuracy: 0.8610 - loss: 0.3686 - val_accuracy: 0.7264 - val_loss: 1.0633\n",
      "Epoch 26/30\n",
      "\u001b[1m447/447\u001b[0m \u001b[32m━━━━━━━━━━━━━━━━━━━━\u001b[0m\u001b[37m\u001b[0m \u001b[1m44s\u001b[0m 98ms/step - accuracy: 0.8638 - loss: 0.3610 - val_accuracy: 0.7222 - val_loss: 1.0149\n",
      "Epoch 27/30\n",
      "\u001b[1m447/447\u001b[0m \u001b[32m━━━━━━━━━━━━━━━━━━━━\u001b[0m\u001b[37m\u001b[0m \u001b[1m44s\u001b[0m 98ms/step - accuracy: 0.8732 - loss: 0.3347 - val_accuracy: 0.7328 - val_loss: 1.0499\n",
      "Epoch 28/30\n",
      "\u001b[1m447/447\u001b[0m \u001b[32m━━━━━━━━━━━━━━━━━━━━\u001b[0m\u001b[37m\u001b[0m \u001b[1m44s\u001b[0m 98ms/step - accuracy: 0.8773 - loss: 0.3272 - val_accuracy: 0.7211 - val_loss: 1.0865\n",
      "Epoch 29/30\n",
      "\u001b[1m447/447\u001b[0m \u001b[32m━━━━━━━━━━━━━━━━━━━━\u001b[0m\u001b[37m\u001b[0m \u001b[1m45s\u001b[0m 101ms/step - accuracy: 0.8835 - loss: 0.3131 - val_accuracy: 0.7353 - val_loss: 1.2115\n",
      "Epoch 30/30\n",
      "\u001b[1m447/447\u001b[0m \u001b[32m━━━━━━━━━━━━━━━━━━━━\u001b[0m\u001b[37m\u001b[0m \u001b[1m46s\u001b[0m 103ms/step - accuracy: 0.8875 - loss: 0.2987 - val_accuracy: 0.7328 - val_loss: 1.2611\n"
     ]
    }
   ],
   "source": [
    "# Fit the model\n",
    "basic_model_history = basic_model.fit(\n",
    "    train_images, train_labels,\n",
    "    epochs=30,\n",
    "    batch_size=64,\n",
    "    validation_data=(valid_images, valid_labels)\n",
    ")"
   ]
  },
  {
   "cell_type": "markdown",
   "id": "c5c52e4d",
   "metadata": {},
   "source": [
    "## Evaluate"
   ]
  },
  {
   "cell_type": "code",
   "execution_count": 82,
   "id": "25a7039e",
   "metadata": {},
   "outputs": [
    {
     "name": "stdout",
     "output_type": "stream",
     "text": [
      "\u001b[1m112/112\u001b[0m \u001b[32m━━━━━━━━━━━━━━━━━━━━\u001b[0m\u001b[37m\u001b[0m \u001b[1m3s\u001b[0m 26ms/step - accuracy: 0.7107 - loss: 1.4209\n",
      "Test Accuracy: 0.7108871936798096\n"
     ]
    }
   ],
   "source": [
    "# Evaluate the model\n",
    "test_loss, test_acc = basic_model.evaluate(test_images, test_labels)\n",
    "print(\"Test Accuracy:\", test_acc)"
   ]
  },
  {
   "cell_type": "markdown",
   "id": "4c7dc9ce",
   "metadata": {},
   "source": [
    "## Plot "
   ]
  },
  {
   "cell_type": "code",
   "execution_count": 83,
   "id": "6646205b",
   "metadata": {},
   "outputs": [
    {
     "data": {
      "image/png": "[encoded data removed]",
      "text/plain": [
       "<Figure size 1400x500 with 2 Axes>"
      ]
     },
     "metadata": {},
     "output_type": "display_data"
    }
   ],
   "source": [
    "# Plot the history\n",
    "# Assuming 'history' is the output from your model.fit()\n",
    "plt.figure(figsize=(14, 5))\n",
    "\n",
    "# Plot training & validation loss values\n",
    "plt.subplot(1, 2, 1)\n",
    "plt.plot(basic_model_history.history['loss'], label='Train Loss')\n",
    "plt.plot(basic_model_history.history['val_loss'], label='Validation Loss')\n",
    "plt.title('Model Loss')\n",
    "plt.ylabel('Loss')\n",
    "plt.xlabel('Epoch')\n",
    "plt.legend(loc='upper right')\n",
    "\n",
    "# Plot training & validation mean squared error\n",
    "plt.subplot(1, 2, 2)\n",
    "plt.plot(basic_model_history.history['accuracy'], label='Train accuracy')\n",
    "plt.plot(basic_model_history.history['val_accuracy'], label='Validation accuracy')\n",
    "plt.title('Model Accuracy')\n",
    "plt.ylabel('Accuracy')\n",
    "plt.xlabel('Epoch')\n",
    "plt.legend(loc='upper right')\n",
    "\n",
    "plt.tight_layout()\n",
    "plt.show()"
   ]
  },
  {
   "cell_type": "code",
   "execution_count": 84,
   "id": "052bea1e",
   "metadata": {},
   "outputs": [
    {
     "name": "stdout",
     "output_type": "stream",
     "text": [
      "\u001b[1m112/112\u001b[0m \u001b[32m━━━━━━━━━━━━━━━━━━━━\u001b[0m\u001b[37m\u001b[0m \u001b[1m3s\u001b[0m 25ms/step\n"
     ]
    },
    {
     "data": {
      "text/plain": [
       "(array([7, 3, 0, ..., 4, 1, 3], dtype=int64),\n",
       " array([0, 3, 0, ..., 0, 0, 3], dtype=int64))"
      ]
     },
     "execution_count": 84,
     "metadata": {},
     "output_type": "execute_result"
    }
   ],
   "source": [
    "# Get the prediction reusults\n",
    "predictions = basic_model.predict(test_images)\n",
    "predicted_labels = np.argmax(predictions, axis=1)\n",
    "test_labels, predicted_labels"
   ]
  },
  {
   "cell_type": "code",
   "execution_count": 85,
   "id": "61872ac5",
   "metadata": {},
   "outputs": [
    {
     "name": "stdout",
     "output_type": "stream",
     "text": [
      "Accuracy: 0.7108872096277637\n"
     ]
    }
   ],
   "source": [
    "accuracy = accuracy_score(test_labels, predicted_labels)\n",
    "print(\"Accuracy:\", accuracy)"
   ]
  },
  {
   "cell_type": "code",
   "execution_count": 88,
   "id": "494605bc",
   "metadata": {},
   "outputs": [
    {
     "name": "stdout",
     "output_type": "stream",
     "text": [
      "Confusion Matrix:\n",
      " [[964  82  31 141  39   0   5   0   0]\n",
      " [ 71 758  23  37  37   0   2   0   0]\n",
      " [ 48  18 343   9  22   0   4   0   0]\n",
      " [155  31   6 234  14   1   3   0   0]\n",
      " [ 51  27  13  23 209   0   2   0   0]\n",
      " [  3   2   2   3   8   5   0   0   0]\n",
      " [ 13  14  30   7   4   0  25   0   0]\n",
      " [ 14   3   2   4   3   0   0   1   0]\n",
      " [ 11   3   4   6   2   0   0   0   1]]\n"
     ]
    },
    {
     "data": {
      "image/png": "[encoded data removed]",
      "text/plain": [
       "<Figure size 1000x800 with 1 Axes>"
      ]
     },
     "metadata": {},
     "output_type": "display_data"
    }
   ],
   "source": [
    "# Get the confusion matrix\n",
    "conf_matrix = confusion_matrix(test_labels, predicted_labels)\n",
    "print(\"Confusion Matrix:\\n\", conf_matrix)\n",
    "\n",
    "# Plotting the confusion matrix\n",
    "plt.figure(figsize=(10, 8))\n",
    "ax = sns.heatmap(conf_matrix, annot=True, fmt='d', cmap='Blues', xticklabels=emotion_labels.values(), yticklabels=emotion_labels.values(), cbar=False)\n",
    "plt.xlabel('Predicted Labels')\n",
    "plt.ylabel('True Labels')\n",
    "plt.title('Confusion Matrix')\n",
    "\n",
    "# Move the X-axis to the top of the plot\n",
    "ax.xaxis.tick_top()  # X-axis on top\n",
    "ax.xaxis.set_label_position('top')  # Move the x-axis label to the top\n",
    "\n",
    "plt.show()"
   ]
  },
  {
   "cell_type": "markdown",
   "id": "6af4f1c1",
   "metadata": {},
   "source": [
    "# Advanced CNN (VGG-like, ResNet)"
   ]
  },
  {
   "cell_type": "markdown",
   "id": "67d23d61",
   "metadata": {},
   "source": [
    "## Preprocessing"
   ]
  },
  {
   "cell_type": "code",
   "execution_count": 89,
   "id": "327722f7",
   "metadata": {},
   "outputs": [
    {
     "name": "stdout",
     "output_type": "stream",
     "text": [
      "Train images shape: (28559, 48, 48, 1) float64\n",
      "Valid images shape: (3578, 48, 48, 1) float64\n",
      "Tests images shape: (3573, 48, 48, 1) float64\n",
      "Train labels shape: (28559,) int64\n",
      "Valid labels shape: (3578,) int64\n",
      "Tests labels shape: (3573,) int64\n"
     ]
    }
   ],
   "source": [
    "print(\"Train images shape:\", train_images.shape, train_images.dtype)\n",
    "print(\"Valid images shape:\", valid_images.shape, valid_images.dtype)\n",
    "print(\"Tests images shape:\", test_images.shape, test_images.dtype)\n",
    "\n",
    "print(\"Train labels shape:\", train_labels.shape, train_labels.dtype)\n",
    "print(\"Valid labels shape:\", valid_labels.shape, valid_labels.dtype)\n",
    "print(\"Tests labels shape:\", test_labels.shape, test_labels.dtype)"
   ]
  },
  {
   "cell_type": "code",
   "execution_count": 93,
   "id": "894afeb4",
   "metadata": {},
   "outputs": [],
   "source": [
    "def load_and_resize_images(data, base_path):\n",
    "    images = []\n",
    "    \n",
    "    # Mapping from Usage to directory names\n",
    "    directory_map = {\n",
    "        \"Training\": \"FER2013Train\",\n",
    "        \"PublicTest\": \"FER2013Valid\",\n",
    "        \"PrivateTest\": \"FER2013Test\"\n",
    "    }\n",
    "    \n",
    "    for idx, row in data.iterrows():\n",
    "        directory = directory_map.get(row['Usage'], None)\n",
    "        if directory:\n",
    "            image_path = os.path.join(base_path, directory, row['Image name'])\n",
    "            \n",
    "            if os.path.exists(image_path):\n",
    "                # Load the image\n",
    "                image = Image.open(image_path).convert('L')  # Convert to grayscale\n",
    "                image = image.resize((224, 224))  # Resize the image to 224x224\n",
    "                image_array = np.array(image, dtype=np.float32) / 255.0  # Normalize to 0-1\n",
    "                image_array = np.stack((image_array,)*3, axis=-1)  # Duplicate grayscale to 3 channels\n",
    "                \n",
    "                # Append data\n",
    "                images.append(image_array)\n",
    "    \n",
    "    return np.array(images)\n",
    "\n",
    "# Base path for images\n",
    "base_image_path = 'FERPLUS-master/data'\n",
    "\n",
    "# Assuming 'clean_df' is your DataFrame containing the image metadata\n",
    "resized_images = load_and_resize_images(clean_df, base_image_path)\n",
    "\n",
    "# Check shapes and an example path\n",
    "print(resized_images.shape, labels.shape, image_paths[:5])"
   ]
  },
  {
   "cell_type": "code",
   "execution_count": null,
   "id": "902d3fca",
   "metadata": {},
   "outputs": [],
   "source": [
    "avc_filtered_images = images[valid_indices_without_NF]\n",
    "\n",
    "avc_train_images = avc_filtered_images[train_indices]\n",
    "\n",
    "avc_valid_images = avc_filtered_images[valid_indices]\n",
    "\n",
    "avc_test_images = avc_filtered_images[test_indices]\n",
    "\n",
    "print(\"Train images shape:\", avc_train_images.shape, avc_train_images.dtype)\n",
    "print(\"Valid images shape:\", avc_valid_images.shape, avc_valid_images.dtype)\n",
    "print(\"Tests images shape:\", avc_test_images.shape, avc_test_images.dtype)\n",
    "\n",
    "print(\"Train labels shape:\", train_labels.shape, train_labels.dtype)\n",
    "print(\"Valid labels shape:\", valid_labels.shape, valid_labels.dtype)\n",
    "print(\"Tests labels shape:\", test_labels.shape, test_labels.dtype)"
   ]
  },
  {
   "cell_type": "code",
   "execution_count": null,
   "id": "f30d409c",
   "metadata": {},
   "outputs": [],
   "source": [
    "# Implement EarlyStopping callback function\n",
    "early_stopping = EarlyStopping(\n",
    "    monitor='val_loss',   # Monitor the validation loss\n",
    "    patience=10,          # Number of epochs with no improvement after which training will be stopped\n",
    "    verbose=1,            # Log when training stops\n",
    "    restore_best_weights=True  # Restores model weights from the epoch with the best value of the monitored metric\n",
    ")"
   ]
  },
  {
   "cell_type": "markdown",
   "id": "7a84e75a",
   "metadata": {},
   "source": [
    "## VGG16 Model"
   ]
  },
  {
   "cell_type": "code",
   "execution_count": null,
   "id": "b5a52d32",
   "metadata": {},
   "outputs": [],
   "source": [
    "# Load the base model with pre-trained weights on ImageNet and without the top layer\n",
    "vgg16_base_model = VGG16(include_top=False, weights='imagenet', input_shape=(224, 224, 3))\n",
    "\n",
    "# Flatten the output layer to 1 dimension\n",
    "x = Flatten()(vgg16_base_model.output)\n",
    "\n",
    "# Add a fully connected layer with 256 hidden units and ReLU activation\n",
    "x = Dense(256, activation='relu')(x)\n",
    "x = Dropout(0.5)(x)\n",
    "\n",
    "# Add a final softmax layer for classification\n",
    "output = Dense(10, activation='softmax')(x)\n",
    "\n",
    "# Configure and compile the model\n",
    "vgg16_model = Model(inputs=vgg16_base_model.input, outputs=output)\n",
    "vgg16_model.compile(optimizer='adam', loss='sparse_categorical_crossentropy', metrics=['accuracy'])"
   ]
  },
  {
   "cell_type": "code",
   "execution_count": null,
   "id": "0a604deb",
   "metadata": {},
   "outputs": [],
   "source": [
    "# Fit the model\n",
    "vgg16_model_history = vgg16_model.fit(\n",
    "    avc_train_images, train_labels,\n",
    "    steps_per_epoch=len(avc_train_images) // 32,\n",
    "    epochs=50,\n",
    "    batch_size=32,\n",
    "    validation_data=(avc_valid_images, valid_labels)\n",
    "    #callbacks=[early_stopping]  # Include the early stopping callback\n",
    ")  # Ensure validation data is also preprocessed"
   ]
  },
  {
   "cell_type": "markdown",
   "id": "2a5095b9",
   "metadata": {},
   "source": [
    "## ResNet50 Model"
   ]
  },
  {
   "cell_type": "code",
   "execution_count": null,
   "id": "e87d873b",
   "metadata": {},
   "outputs": [],
   "source": [
    "# Load ResNet50 model, similar adjustments as VGG16\n",
    "resnet50_base_model = ResNet50(include_top=False, weights='imagenet', input_shape=(224, 224, 3))\n",
    "\n",
    "x = Flatten()(resnet50_base_model.output)\n",
    "\n",
    "x = Dense(256, activation='relu')(x)\n",
    "x = Dropout(0.5)(x)\n",
    "\n",
    "output = Dense(10, activation='softmax')(x)\n",
    "\n",
    "resnet50_model = Model(inputs=resnet50_base_model.input, outputs=output)\n",
    "resnet50_model.compile(optimizer='adam', loss='sparse_categorical_crossentropy', metrics=['accuracy'])"
   ]
  },
  {
   "cell_type": "code",
   "execution_count": null,
   "id": "cade0b75",
   "metadata": {},
   "outputs": [],
   "source": [
    "# Fit the model\n",
    "resnet50_model_history = resnet50_model.fit(\n",
    "    avc_train_images, train_labels,\n",
    "    steps_per_epoch=len(avc_train_images) // 32,\n",
    "    epochs=50,\n",
    "    batch_size=32,\n",
    "    validation_data=(avc_valid_images, valid_labels)\n",
    "    #callbacks=[early_stopping]  # Include the early stopping callback\n",
    ")  # Ensure validation data is also preprocessed"
   ]
  },
  {
   "cell_type": "markdown",
   "id": "27c02780",
   "metadata": {},
   "source": [
    "# Transfer Learning (VGGFace, FaceNet)"
   ]
  },
  {
   "cell_type": "code",
   "execution_count": 90,
   "id": "3cd995ea",
   "metadata": {},
   "outputs": [
    {
     "name": "stdout",
     "output_type": "stream",
     "text": [
      "Train images shape: (28559, 48, 48, 1) float64\n",
      "Valid images shape: (3578, 48, 48, 1) float64\n",
      "Tests images shape: (3573, 48, 48, 1) float64\n",
      "Train labels shape: (28559,) int64\n",
      "Valid labels shape: (3578,) int64\n",
      "Tests labels shape: (3573,) int64\n"
     ]
    }
   ],
   "source": [
    "print(\"Train images shape:\", train_images.shape, train_images.dtype)\n",
    "print(\"Valid images shape:\", valid_images.shape, valid_images.dtype)\n",
    "print(\"Tests images shape:\", test_images.shape, test_images.dtype)\n",
    "\n",
    "print(\"Train labels shape:\", train_labels.shape, train_labels.dtype)\n",
    "print(\"Valid labels shape:\", valid_labels.shape, valid_labels.dtype)\n",
    "print(\"Tests labels shape:\", test_labels.shape, test_labels.dtype)"
   ]
  }
 ],
 "metadata": {
  "kernelspec": {
   "display_name": "Python 3",
   "language": "python",
   "name": "python3"
  },
  "language_info": {
   "codemirror_mode": {
    "name": "ipython",
    "version": 3
   },
   "file_extension": ".py",
   "mimetype": "text/x-python",
   "name": "python",
   "nbconvert_exporter": "python",
   "pygments_lexer": "ipython3",
   "version": "3.11.9"
  }
 },
 "nbformat": 4,
 "nbformat_minor": 5
}
