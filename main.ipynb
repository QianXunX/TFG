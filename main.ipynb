{
 "cells": [
  {
   "cell_type": "code",
   "execution_count": 31,
   "id": "8b03525f",
   "metadata": {},
   "outputs": [
    {
     "name": "stdout",
     "output_type": "stream",
     "text": [
      "No GPU detected\n"
     ]
    }
   ],
   "source": [
    "import os\n",
    "import numpy as np\n",
    "import pandas as pd\n",
    "from PIL import Image\n",
    "import tensorflow as tf\n",
    "from tensorflow.keras.utils import to_categorical\n",
    "from tensorflow.keras.models import Sequential\n",
    "from tensorflow.keras.layers import Conv2D, MaxPooling2D, Flatten, Dense, Dropout\n",
    "import matplotlib.pyplot as plt\n",
    "\n",
    "gpus = tf.config.list_physical_devices('GPU')\n",
    "if gpus:\n",
    "    for gpu in gpus:\n",
    "        print(f\"GPU Detected: {gpu.device_type} - {gpu.name}\")\n",
    "else:\n",
    "    print(\"No GPU detected\")"
   ]
  },
  {
   "cell_type": "markdown",
   "id": "2cc51408",
   "metadata": {},
   "source": [
    "## Data acquisition"
   ]
  },
  {
   "cell_type": "code",
   "execution_count": 2,
   "id": "initial_id",
   "metadata": {
    "ExecuteTime": {
     "end_time": "2024-04-30T16:44:51.359770Z",
     "start_time": "2024-04-30T16:44:50.837019Z"
    },
    "collapsed": true
   },
   "outputs": [
    {
     "data": {
      "text/html": [
       "<div>\n",
       "<style scoped>\n",
       "    .dataframe tbody tr th:only-of-type {\n",
       "        vertical-align: middle;\n",
       "    }\n",
       "\n",
       "    .dataframe tbody tr th {\n",
       "        vertical-align: top;\n",
       "    }\n",
       "\n",
       "    .dataframe thead th {\n",
       "        text-align: right;\n",
       "    }\n",
       "</style>\n",
       "<table border=\"1\" class=\"dataframe\">\n",
       "  <thead>\n",
       "    <tr style=\"text-align: right;\">\n",
       "      <th></th>\n",
       "      <th>Usage</th>\n",
       "      <th>Image name</th>\n",
       "      <th>neutral</th>\n",
       "      <th>happiness</th>\n",
       "      <th>surprise</th>\n",
       "      <th>sadness</th>\n",
       "      <th>anger</th>\n",
       "      <th>disgust</th>\n",
       "      <th>fear</th>\n",
       "      <th>contempt</th>\n",
       "      <th>unknown</th>\n",
       "      <th>NF</th>\n",
       "    </tr>\n",
       "  </thead>\n",
       "  <tbody>\n",
       "    <tr>\n",
       "      <th>0</th>\n",
       "      <td>Training</td>\n",
       "      <td>fer0000000.png</td>\n",
       "      <td>4</td>\n",
       "      <td>0</td>\n",
       "      <td>0</td>\n",
       "      <td>1</td>\n",
       "      <td>3</td>\n",
       "      <td>2</td>\n",
       "      <td>0</td>\n",
       "      <td>0</td>\n",
       "      <td>0</td>\n",
       "      <td>0</td>\n",
       "    </tr>\n",
       "    <tr>\n",
       "      <th>1</th>\n",
       "      <td>Training</td>\n",
       "      <td>fer0000001.png</td>\n",
       "      <td>6</td>\n",
       "      <td>0</td>\n",
       "      <td>1</td>\n",
       "      <td>1</td>\n",
       "      <td>0</td>\n",
       "      <td>0</td>\n",
       "      <td>0</td>\n",
       "      <td>0</td>\n",
       "      <td>2</td>\n",
       "      <td>0</td>\n",
       "    </tr>\n",
       "    <tr>\n",
       "      <th>2</th>\n",
       "      <td>Training</td>\n",
       "      <td>fer0000002.png</td>\n",
       "      <td>5</td>\n",
       "      <td>0</td>\n",
       "      <td>0</td>\n",
       "      <td>3</td>\n",
       "      <td>1</td>\n",
       "      <td>0</td>\n",
       "      <td>0</td>\n",
       "      <td>0</td>\n",
       "      <td>1</td>\n",
       "      <td>0</td>\n",
       "    </tr>\n",
       "    <tr>\n",
       "      <th>3</th>\n",
       "      <td>Training</td>\n",
       "      <td>fer0000003.png</td>\n",
       "      <td>4</td>\n",
       "      <td>0</td>\n",
       "      <td>0</td>\n",
       "      <td>4</td>\n",
       "      <td>1</td>\n",
       "      <td>0</td>\n",
       "      <td>0</td>\n",
       "      <td>0</td>\n",
       "      <td>1</td>\n",
       "      <td>0</td>\n",
       "    </tr>\n",
       "    <tr>\n",
       "      <th>4</th>\n",
       "      <td>Training</td>\n",
       "      <td>fer0000004.png</td>\n",
       "      <td>9</td>\n",
       "      <td>0</td>\n",
       "      <td>0</td>\n",
       "      <td>1</td>\n",
       "      <td>0</td>\n",
       "      <td>0</td>\n",
       "      <td>0</td>\n",
       "      <td>0</td>\n",
       "      <td>0</td>\n",
       "      <td>0</td>\n",
       "    </tr>\n",
       "    <tr>\n",
       "      <th>...</th>\n",
       "      <td>...</td>\n",
       "      <td>...</td>\n",
       "      <td>...</td>\n",
       "      <td>...</td>\n",
       "      <td>...</td>\n",
       "      <td>...</td>\n",
       "      <td>...</td>\n",
       "      <td>...</td>\n",
       "      <td>...</td>\n",
       "      <td>...</td>\n",
       "      <td>...</td>\n",
       "      <td>...</td>\n",
       "    </tr>\n",
       "    <tr>\n",
       "      <th>35882</th>\n",
       "      <td>PrivateTest</td>\n",
       "      <td>fer0035797.png</td>\n",
       "      <td>8</td>\n",
       "      <td>0</td>\n",
       "      <td>0</td>\n",
       "      <td>2</td>\n",
       "      <td>0</td>\n",
       "      <td>0</td>\n",
       "      <td>0</td>\n",
       "      <td>0</td>\n",
       "      <td>0</td>\n",
       "      <td>0</td>\n",
       "    </tr>\n",
       "    <tr>\n",
       "      <th>35883</th>\n",
       "      <td>PrivateTest</td>\n",
       "      <td>NaN</td>\n",
       "      <td>0</td>\n",
       "      <td>0</td>\n",
       "      <td>0</td>\n",
       "      <td>0</td>\n",
       "      <td>0</td>\n",
       "      <td>0</td>\n",
       "      <td>0</td>\n",
       "      <td>0</td>\n",
       "      <td>0</td>\n",
       "      <td>10</td>\n",
       "    </tr>\n",
       "    <tr>\n",
       "      <th>35884</th>\n",
       "      <td>PrivateTest</td>\n",
       "      <td>fer0035799.png</td>\n",
       "      <td>0</td>\n",
       "      <td>0</td>\n",
       "      <td>0</td>\n",
       "      <td>0</td>\n",
       "      <td>7</td>\n",
       "      <td>1</td>\n",
       "      <td>0</td>\n",
       "      <td>2</td>\n",
       "      <td>0</td>\n",
       "      <td>0</td>\n",
       "    </tr>\n",
       "    <tr>\n",
       "      <th>35885</th>\n",
       "      <td>PrivateTest</td>\n",
       "      <td>fer0035800.png</td>\n",
       "      <td>0</td>\n",
       "      <td>10</td>\n",
       "      <td>0</td>\n",
       "      <td>0</td>\n",
       "      <td>0</td>\n",
       "      <td>0</td>\n",
       "      <td>0</td>\n",
       "      <td>0</td>\n",
       "      <td>0</td>\n",
       "      <td>0</td>\n",
       "    </tr>\n",
       "    <tr>\n",
       "      <th>35886</th>\n",
       "      <td>PrivateTest</td>\n",
       "      <td>fer0035801.png</td>\n",
       "      <td>2</td>\n",
       "      <td>0</td>\n",
       "      <td>0</td>\n",
       "      <td>5</td>\n",
       "      <td>1</td>\n",
       "      <td>1</td>\n",
       "      <td>0</td>\n",
       "      <td>0</td>\n",
       "      <td>1</td>\n",
       "      <td>0</td>\n",
       "    </tr>\n",
       "  </tbody>\n",
       "</table>\n",
       "<p>35887 rows × 12 columns</p>\n",
       "</div>"
      ],
      "text/plain": [
       "             Usage      Image name  neutral  happiness  surprise  sadness  \\\n",
       "0         Training  fer0000000.png        4          0         0        1   \n",
       "1         Training  fer0000001.png        6          0         1        1   \n",
       "2         Training  fer0000002.png        5          0         0        3   \n",
       "3         Training  fer0000003.png        4          0         0        4   \n",
       "4         Training  fer0000004.png        9          0         0        1   \n",
       "...            ...             ...      ...        ...       ...      ...   \n",
       "35882  PrivateTest  fer0035797.png        8          0         0        2   \n",
       "35883  PrivateTest             NaN        0          0         0        0   \n",
       "35884  PrivateTest  fer0035799.png        0          0         0        0   \n",
       "35885  PrivateTest  fer0035800.png        0         10         0        0   \n",
       "35886  PrivateTest  fer0035801.png        2          0         0        5   \n",
       "\n",
       "       anger  disgust  fear  contempt  unknown  NF  \n",
       "0          3        2     0         0        0   0  \n",
       "1          0        0     0         0        2   0  \n",
       "2          1        0     0         0        1   0  \n",
       "3          1        0     0         0        1   0  \n",
       "4          0        0     0         0        0   0  \n",
       "...      ...      ...   ...       ...      ...  ..  \n",
       "35882      0        0     0         0        0   0  \n",
       "35883      0        0     0         0        0  10  \n",
       "35884      7        1     0         2        0   0  \n",
       "35885      0        0     0         0        0   0  \n",
       "35886      1        1     0         0        1   0  \n",
       "\n",
       "[35887 rows x 12 columns]"
      ]
     },
     "execution_count": 2,
     "metadata": {},
     "output_type": "execute_result"
    }
   ],
   "source": [
    "# Read data form csv\n",
    "df = pd.read_csv(\"./FERPlus-master/fer2013new.csv\")\n",
    "df"
   ]
  },
  {
   "cell_type": "code",
   "execution_count": 5,
   "id": "00b8fd58",
   "metadata": {},
   "outputs": [
    {
     "name": "stdout",
     "output_type": "stream",
     "text": [
      "<class 'pandas.core.frame.DataFrame'>\n",
      "RangeIndex: 35887 entries, 0 to 35886\n",
      "Data columns (total 12 columns):\n",
      " #   Column      Non-Null Count  Dtype \n",
      "---  ------      --------------  ----- \n",
      " 0   Usage       35887 non-null  object\n",
      " 1   Image name  35714 non-null  object\n",
      " 2   neutral     35887 non-null  int64 \n",
      " 3   happiness   35887 non-null  int64 \n",
      " 4   surprise    35887 non-null  int64 \n",
      " 5   sadness     35887 non-null  int64 \n",
      " 6   anger       35887 non-null  int64 \n",
      " 7   disgust     35887 non-null  int64 \n",
      " 8   fear        35887 non-null  int64 \n",
      " 9   contempt    35887 non-null  int64 \n",
      " 10  unknown     35887 non-null  int64 \n",
      " 11  NF          35887 non-null  int64 \n",
      "dtypes: int64(10), object(2)\n",
      "memory usage: 3.3+ MB\n"
     ]
    }
   ],
   "source": [
    "# Display its general information\n",
    "df.info()"
   ]
  },
  {
   "cell_type": "markdown",
   "id": "2714cec3",
   "metadata": {},
   "source": [
    "# Preprocessing"
   ]
  },
  {
   "cell_type": "code",
   "execution_count": 6,
   "id": "7b558e53",
   "metadata": {},
   "outputs": [
    {
     "data": {
      "text/plain": [
       "Usage           0\n",
       "Image name    173\n",
       "neutral         0\n",
       "happiness       0\n",
       "surprise        0\n",
       "sadness         0\n",
       "anger           0\n",
       "disgust         0\n",
       "fear            0\n",
       "contempt        0\n",
       "unknown         0\n",
       "NF              0\n",
       "dtype: int64"
      ]
     },
     "execution_count": 6,
     "metadata": {},
     "output_type": "execute_result"
    }
   ],
   "source": [
    "# Check for any missing data particularly in 'Image name' column\n",
    "missing_data = df.isnull().sum()\n",
    "missing_data"
   ]
  },
  {
   "cell_type": "code",
   "execution_count": 7,
   "id": "eb1d9a11",
   "metadata": {},
   "outputs": [
    {
     "name": "stdout",
     "output_type": "stream",
     "text": [
      "<class 'pandas.core.frame.DataFrame'>\n",
      "Index: 35714 entries, 0 to 35886\n",
      "Data columns (total 12 columns):\n",
      " #   Column      Non-Null Count  Dtype \n",
      "---  ------      --------------  ----- \n",
      " 0   Usage       35714 non-null  object\n",
      " 1   Image name  35714 non-null  object\n",
      " 2   neutral     35714 non-null  int64 \n",
      " 3   happiness   35714 non-null  int64 \n",
      " 4   surprise    35714 non-null  int64 \n",
      " 5   sadness     35714 non-null  int64 \n",
      " 6   anger       35714 non-null  int64 \n",
      " 7   disgust     35714 non-null  int64 \n",
      " 8   fear        35714 non-null  int64 \n",
      " 9   contempt    35714 non-null  int64 \n",
      " 10  unknown     35714 non-null  int64 \n",
      " 11  NF          35714 non-null  int64 \n",
      "dtypes: int64(10), object(2)\n",
      "memory usage: 3.5+ MB\n"
     ]
    }
   ],
   "source": [
    "# Remove entries with missing 'Image name'\n",
    "clean_df = df.dropna(subset=['Image name'])\n",
    "\n",
    "# Confirm the removal\n",
    "clean_df.info()"
   ]
  },
  {
   "cell_type": "code",
   "execution_count": 22,
   "id": "10ce085a",
   "metadata": {},
   "outputs": [
    {
     "name": "stdout",
     "output_type": "stream",
     "text": [
      "Usage\n",
      "Training       28561\n",
      "PublicTest      3579\n",
      "PrivateTest     3574\n",
      "Name: count, dtype: int64\n"
     ]
    }
   ],
   "source": [
    "# Count of row types\n",
    "print(clean_df['Usage'].value_counts())"
   ]
  },
  {
   "cell_type": "markdown",
   "id": "b00f3c85",
   "metadata": {},
   "source": [
    "## Normalization"
   ]
  },
  {
   "cell_type": "code",
   "execution_count": 26,
   "id": "35761524",
   "metadata": {},
   "outputs": [
    {
     "data": {
      "text/plain": [
       "((35714, 48, 48),\n",
       " (35714, 9),\n",
       " ['FERPLUS-master/data\\\\FER2013Train\\\\fer0000000.png',\n",
       "  'FERPLUS-master/data\\\\FER2013Train\\\\fer0000001.png',\n",
       "  'FERPLUS-master/data\\\\FER2013Train\\\\fer0000002.png',\n",
       "  'FERPLUS-master/data\\\\FER2013Train\\\\fer0000003.png',\n",
       "  'FERPLUS-master/data\\\\FER2013Train\\\\fer0000004.png'])"
      ]
     },
     "execution_count": 26,
     "metadata": {},
     "output_type": "execute_result"
    }
   ],
   "source": [
    "# Load and normalize images\n",
    "def load_images(data, base_path):\n",
    "    images = []\n",
    "    labels = []\n",
    "    paths = []\n",
    "    \n",
    "    # Mapping from Usage to directory names\n",
    "    directory_map = {\n",
    "        \"Training\": \"FER2013Train\",\n",
    "        \"PublicTest\": \"FER2013Valid\",\n",
    "        \"PrivateTest\": \"FER2013Test\"\n",
    "    }\n",
    "    \n",
    "    for idx, row in data.iterrows():\n",
    "        directory = directory_map.get(row['Usage'], None)\n",
    "        if directory:\n",
    "            image_path = os.path.join(base_path, directory, row['Image name'])\n",
    "            \n",
    "            if os.path.exists(image_path):\n",
    "                # Load the image\n",
    "                image = Image.open(image_path).convert('L')  # Convert to grayscale\n",
    "                image_array = np.array(image) / 255.0  # Normalize to 0-1\n",
    "                \n",
    "                # Append data\n",
    "                images.append(image_array)\n",
    "                labels.append(row[2:11].values)  # Select emotion intensity columns\n",
    "                paths.append(image_path)\n",
    "    \n",
    "    return np.array(images), np.array(labels), paths\n",
    "\n",
    "# Base path for images\n",
    "base_image_path = 'FERPLUS-master/data'\n",
    "\n",
    "# Load images and their labels\n",
    "images, labels, image_paths = load_images(clean_df, base_image_path)\n",
    "\n",
    "# Check shapes and an example path\n",
    "images.shape, labels.shape, image_paths[:5]"
   ]
  },
  {
   "cell_type": "markdown",
   "id": "69ab9d7b",
   "metadata": {},
   "source": [
    "## Splitting data"
   ]
  },
  {
   "cell_type": "code",
   "execution_count": 28,
   "id": "bb89bdb9",
   "metadata": {},
   "outputs": [
    {
     "name": "stdout",
     "output_type": "stream",
     "text": [
      "Train images info: \n",
      "(28561, 48, 48) (28561, 9)\n",
      "Valid images info: \n",
      "(3579, 48, 48) (3579, 9)\n",
      "Test images info: \n",
      "(3574, 48, 48) (3574, 9)\n"
     ]
    }
   ],
   "source": [
    "# Split data into differente usage\n",
    "train_indices = [i for i, path in enumerate(image_paths) if 'FER2013Train' in path]\n",
    "test_indices = [i for i, path in enumerate(image_paths) if 'FER2013Test' in path]\n",
    "valid_indices = [i for i, path in enumerate(image_paths) if 'FER2013Valid' in path]\n",
    "\n",
    "train_images = images[train_indices]\n",
    "train_labels = labels[train_indices]\n",
    "print(\"Train images info: \")\n",
    "print(train_images.shape, train_labels.shape)\n",
    "\n",
    "valid_images = images[valid_indices]\n",
    "valid_labels = labels[valid_indices]\n",
    "print(\"Valid images info: \")\n",
    "print(valid_images.shape, valid_labels.shape)\n",
    "\n",
    "test_images = images[test_indices]\n",
    "test_labels = labels[test_indices]\n",
    "print(\"Test images info: \")\n",
    "print(test_images.shape, test_labels.shape)"
   ]
  },
  {
   "cell_type": "markdown",
   "id": "b9900989",
   "metadata": {},
   "source": [
    "## Reshape images to add channel dimension for CNN"
   ]
  },
  {
   "cell_type": "code",
   "execution_count": null,
   "id": "2527ed2a",
   "metadata": {},
   "outputs": [],
   "source": [
    "# Reshape or modify the data to add a channel dimension for CNNs, expect an input shape like (batch, height, width, channels)\n",
    "# Channel dimension is 1 for grayscale images\n",
    "train_images = train_images.reshape((-1, 48, 48, 1))\n",
    "test_images = test_images.reshape((-1, 48, 48, 1))\n",
    "valid_images = valid_images.reshape((-1, 48, 48, 1))"
   ]
  },
  {
   "cell_type": "markdown",
   "id": "347dcbdc",
   "metadata": {},
   "source": [
    "## One hot encoding for labels"
   ]
  },
  {
   "cell_type": "code",
   "execution_count": null,
   "id": "80a1fc93",
   "metadata": {},
   "outputs": [],
   "source": [
    "# One hot encode the labels\n",
    "train_labels = to_categorical(train_labels)\n",
    "test_labels = to_categorical(test_labels)\n",
    "valid_labels = to_categorical(valid_labels)"
   ]
  },
  {
   "cell_type": "markdown",
   "id": "c6513db2",
   "metadata": {},
   "source": [
    "# Basic CNN"
   ]
  },
  {
   "cell_type": "code",
   "execution_count": null,
   "id": "6b0f4974",
   "metadata": {},
   "outputs": [],
   "source": [
    "# Create a basic CNN model\n",
    "basic_model = Sequential([\n",
    "    Conv2D(32, (3, 3), activation='relu', input_shape=(48, 48, 1)),\n",
    "    MaxPooling2D((2, 2)),\n",
    "    Conv2D(64, (3, 3), activation='relu'),\n",
    "    MaxPooling2D((2, 2)),\n",
    "    Conv2D(128, (3, 3), activation='relu'),\n",
    "    MaxPooling2D((2, 2)),\n",
    "    Flatten(),\n",
    "    Dense(128, activation='relu'),\n",
    "    Dropout(0.5),\n",
    "    Dense(9, activation='softmax')  # Assuming 9 different emotions\n",
    "])\n",
    "\n",
    "basic_model.summary()  # This will print the summary of the model architecture"
   ]
  },
  {
   "cell_type": "code",
   "execution_count": null,
   "id": "9eb20988",
   "metadata": {},
   "outputs": [],
   "source": [
    "# Compile the model\n",
    "basic_model.compile(optimizer='adam',\n",
    "                    loss='categorical_crossentropy',  # Suitable for multi-class classification\n",
    "                    metrics=['accuracy'])"
   ]
  },
  {
   "cell_type": "code",
   "execution_count": null,
   "id": "96286a0e",
   "metadata": {},
   "outputs": [],
   "source": [
    "# Fit the model\n",
    "basic_model_history = basic_model.fit(train_images, train_labels,\n",
    "                                      epochs=30,  # Number of epochs to train for\n",
    "                                      batch_size=64,  # Size of batches of data (adjust based on your memory)\n",
    "                                      validation_data=(valid_images, valid_labels))"
   ]
  },
  {
   "cell_type": "code",
   "execution_count": null,
   "id": "25a7039e",
   "metadata": {},
   "outputs": [],
   "source": [
    "# Evaluate the model\n",
    "test_loss, test_acc = basic_model.evaluate(test_images, test_labels)\n",
    "print('Test accuracy:', test_acc)"
   ]
  },
  {
   "cell_type": "code",
   "execution_count": null,
   "id": "6646205b",
   "metadata": {},
   "outputs": [],
   "source": [
    "# Plot the history\n",
    "plt.figure(figsize=(12, 5))\n",
    "plt.subplot(1, 2, 1)\n",
    "plt.plot(basic_model_history.history['accuracy'], label='Training Accuracy')\n",
    "plt.plot(basic_model_history.history['val_accuracy'], label='Validation Accuracy')\n",
    "plt.title('Basic Model Training and Validation Accuracy')\n",
    "plt.xlabel('Epoch')\n",
    "plt.ylabel('Accuracy')\n",
    "plt.legend()\n",
    "\n",
    "plt.subplot(1, 2, 2)\n",
    "plt.plot(basic_model_history.history['loss'], label='Training Loss')\n",
    "plt.plot(basic_model_history.history['val_loss'], label='Validation Loss')\n",
    "plt.title('Basic Model Training and Validation Loss')\n",
    "plt.xlabel('Epoch')\n",
    "plt.ylabel('Loss')\n",
    "plt.legend()\n",
    "\n",
    "plt.show()"
   ]
  },
  {
   "cell_type": "markdown",
   "id": "6af4f1c1",
   "metadata": {},
   "source": [
    "# Advanced CNN (VGG-like, ResNet)"
   ]
  },
  {
   "cell_type": "markdown",
   "id": "27c02780",
   "metadata": {},
   "source": [
    "# Transfer Learning (VGGFace, FaceNet)"
   ]
  }
 ],
 "metadata": {
  "kernelspec": {
   "display_name": "Python 3",
   "language": "python",
   "name": "python3"
  },
  "language_info": {
   "codemirror_mode": {
    "name": "ipython",
    "version": 3
   },
   "file_extension": ".py",
   "mimetype": "text/x-python",
   "name": "python",
   "nbconvert_exporter": "python",
   "pygments_lexer": "ipython3",
   "version": "3.11.9"
  }
 },
 "nbformat": 4,
 "nbformat_minor": 5
}
