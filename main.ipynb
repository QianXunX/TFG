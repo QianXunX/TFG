{
 "cells": [
  {
   "cell_type": "code",
   "execution_count": 60,
   "id": "8b03525f",
   "metadata": {},
   "outputs": [
    {
     "name": "stdout",
     "output_type": "stream",
     "text": [
      "No GPU detected\n"
     ]
    }
   ],
   "source": [
    "import os\n",
    "import numpy as np\n",
    "import pandas as pd\n",
    "from PIL import Image\n",
    "import tensorflow as tf\n",
    "from tensorflow.keras.utils import to_categorical\n",
    "from tensorflow.keras.models import Sequential\n",
    "from tensorflow.keras.layers import Conv2D, MaxPooling2D, Flatten, Dense, Dropout\n",
    "import matplotlib.pyplot as plt\n",
    "from sklearn.metrics import mean_squared_error\n",
    "\n",
    "gpus = tf.config.list_physical_devices('GPU')\n",
    "if gpus:\n",
    "    for gpu in gpus:\n",
    "        print(f\"GPU Detected: {gpu.device_type} - {gpu.name}\")\n",
    "else:\n",
    "    print(\"No GPU detected\")"
   ]
  },
  {
   "cell_type": "markdown",
   "id": "2cc51408",
   "metadata": {},
   "source": [
    "## Data acquisition"
   ]
  },
  {
   "cell_type": "code",
   "execution_count": 38,
   "id": "initial_id",
   "metadata": {
    "ExecuteTime": {
     "end_time": "2024-04-30T16:44:51.359770Z",
     "start_time": "2024-04-30T16:44:50.837019Z"
    },
    "collapsed": true
   },
   "outputs": [
    {
     "data": {
      "text/html": [
       "<div>\n",
       "<style scoped>\n",
       "    .dataframe tbody tr th:only-of-type {\n",
       "        vertical-align: middle;\n",
       "    }\n",
       "\n",
       "    .dataframe tbody tr th {\n",
       "        vertical-align: top;\n",
       "    }\n",
       "\n",
       "    .dataframe thead th {\n",
       "        text-align: right;\n",
       "    }\n",
       "</style>\n",
       "<table border=\"1\" class=\"dataframe\">\n",
       "  <thead>\n",
       "    <tr style=\"text-align: right;\">\n",
       "      <th></th>\n",
       "      <th>Usage</th>\n",
       "      <th>Image name</th>\n",
       "      <th>neutral</th>\n",
       "      <th>happiness</th>\n",
       "      <th>surprise</th>\n",
       "      <th>sadness</th>\n",
       "      <th>anger</th>\n",
       "      <th>disgust</th>\n",
       "      <th>fear</th>\n",
       "      <th>contempt</th>\n",
       "      <th>unknown</th>\n",
       "      <th>NF</th>\n",
       "    </tr>\n",
       "  </thead>\n",
       "  <tbody>\n",
       "    <tr>\n",
       "      <th>0</th>\n",
       "      <td>Training</td>\n",
       "      <td>fer0000000.png</td>\n",
       "      <td>4</td>\n",
       "      <td>0</td>\n",
       "      <td>0</td>\n",
       "      <td>1</td>\n",
       "      <td>3</td>\n",
       "      <td>2</td>\n",
       "      <td>0</td>\n",
       "      <td>0</td>\n",
       "      <td>0</td>\n",
       "      <td>0</td>\n",
       "    </tr>\n",
       "    <tr>\n",
       "      <th>1</th>\n",
       "      <td>Training</td>\n",
       "      <td>fer0000001.png</td>\n",
       "      <td>6</td>\n",
       "      <td>0</td>\n",
       "      <td>1</td>\n",
       "      <td>1</td>\n",
       "      <td>0</td>\n",
       "      <td>0</td>\n",
       "      <td>0</td>\n",
       "      <td>0</td>\n",
       "      <td>2</td>\n",
       "      <td>0</td>\n",
       "    </tr>\n",
       "    <tr>\n",
       "      <th>2</th>\n",
       "      <td>Training</td>\n",
       "      <td>fer0000002.png</td>\n",
       "      <td>5</td>\n",
       "      <td>0</td>\n",
       "      <td>0</td>\n",
       "      <td>3</td>\n",
       "      <td>1</td>\n",
       "      <td>0</td>\n",
       "      <td>0</td>\n",
       "      <td>0</td>\n",
       "      <td>1</td>\n",
       "      <td>0</td>\n",
       "    </tr>\n",
       "    <tr>\n",
       "      <th>3</th>\n",
       "      <td>Training</td>\n",
       "      <td>fer0000003.png</td>\n",
       "      <td>4</td>\n",
       "      <td>0</td>\n",
       "      <td>0</td>\n",
       "      <td>4</td>\n",
       "      <td>1</td>\n",
       "      <td>0</td>\n",
       "      <td>0</td>\n",
       "      <td>0</td>\n",
       "      <td>1</td>\n",
       "      <td>0</td>\n",
       "    </tr>\n",
       "    <tr>\n",
       "      <th>4</th>\n",
       "      <td>Training</td>\n",
       "      <td>fer0000004.png</td>\n",
       "      <td>9</td>\n",
       "      <td>0</td>\n",
       "      <td>0</td>\n",
       "      <td>1</td>\n",
       "      <td>0</td>\n",
       "      <td>0</td>\n",
       "      <td>0</td>\n",
       "      <td>0</td>\n",
       "      <td>0</td>\n",
       "      <td>0</td>\n",
       "    </tr>\n",
       "    <tr>\n",
       "      <th>...</th>\n",
       "      <td>...</td>\n",
       "      <td>...</td>\n",
       "      <td>...</td>\n",
       "      <td>...</td>\n",
       "      <td>...</td>\n",
       "      <td>...</td>\n",
       "      <td>...</td>\n",
       "      <td>...</td>\n",
       "      <td>...</td>\n",
       "      <td>...</td>\n",
       "      <td>...</td>\n",
       "      <td>...</td>\n",
       "    </tr>\n",
       "    <tr>\n",
       "      <th>35882</th>\n",
       "      <td>PrivateTest</td>\n",
       "      <td>fer0035797.png</td>\n",
       "      <td>8</td>\n",
       "      <td>0</td>\n",
       "      <td>0</td>\n",
       "      <td>2</td>\n",
       "      <td>0</td>\n",
       "      <td>0</td>\n",
       "      <td>0</td>\n",
       "      <td>0</td>\n",
       "      <td>0</td>\n",
       "      <td>0</td>\n",
       "    </tr>\n",
       "    <tr>\n",
       "      <th>35883</th>\n",
       "      <td>PrivateTest</td>\n",
       "      <td>NaN</td>\n",
       "      <td>0</td>\n",
       "      <td>0</td>\n",
       "      <td>0</td>\n",
       "      <td>0</td>\n",
       "      <td>0</td>\n",
       "      <td>0</td>\n",
       "      <td>0</td>\n",
       "      <td>0</td>\n",
       "      <td>0</td>\n",
       "      <td>10</td>\n",
       "    </tr>\n",
       "    <tr>\n",
       "      <th>35884</th>\n",
       "      <td>PrivateTest</td>\n",
       "      <td>fer0035799.png</td>\n",
       "      <td>0</td>\n",
       "      <td>0</td>\n",
       "      <td>0</td>\n",
       "      <td>0</td>\n",
       "      <td>7</td>\n",
       "      <td>1</td>\n",
       "      <td>0</td>\n",
       "      <td>2</td>\n",
       "      <td>0</td>\n",
       "      <td>0</td>\n",
       "    </tr>\n",
       "    <tr>\n",
       "      <th>35885</th>\n",
       "      <td>PrivateTest</td>\n",
       "      <td>fer0035800.png</td>\n",
       "      <td>0</td>\n",
       "      <td>10</td>\n",
       "      <td>0</td>\n",
       "      <td>0</td>\n",
       "      <td>0</td>\n",
       "      <td>0</td>\n",
       "      <td>0</td>\n",
       "      <td>0</td>\n",
       "      <td>0</td>\n",
       "      <td>0</td>\n",
       "    </tr>\n",
       "    <tr>\n",
       "      <th>35886</th>\n",
       "      <td>PrivateTest</td>\n",
       "      <td>fer0035801.png</td>\n",
       "      <td>2</td>\n",
       "      <td>0</td>\n",
       "      <td>0</td>\n",
       "      <td>5</td>\n",
       "      <td>1</td>\n",
       "      <td>1</td>\n",
       "      <td>0</td>\n",
       "      <td>0</td>\n",
       "      <td>1</td>\n",
       "      <td>0</td>\n",
       "    </tr>\n",
       "  </tbody>\n",
       "</table>\n",
       "<p>35887 rows × 12 columns</p>\n",
       "</div>"
      ],
      "text/plain": [
       "             Usage      Image name  neutral  happiness  surprise  sadness  \\\n",
       "0         Training  fer0000000.png        4          0         0        1   \n",
       "1         Training  fer0000001.png        6          0         1        1   \n",
       "2         Training  fer0000002.png        5          0         0        3   \n",
       "3         Training  fer0000003.png        4          0         0        4   \n",
       "4         Training  fer0000004.png        9          0         0        1   \n",
       "...            ...             ...      ...        ...       ...      ...   \n",
       "35882  PrivateTest  fer0035797.png        8          0         0        2   \n",
       "35883  PrivateTest             NaN        0          0         0        0   \n",
       "35884  PrivateTest  fer0035799.png        0          0         0        0   \n",
       "35885  PrivateTest  fer0035800.png        0         10         0        0   \n",
       "35886  PrivateTest  fer0035801.png        2          0         0        5   \n",
       "\n",
       "       anger  disgust  fear  contempt  unknown  NF  \n",
       "0          3        2     0         0        0   0  \n",
       "1          0        0     0         0        2   0  \n",
       "2          1        0     0         0        1   0  \n",
       "3          1        0     0         0        1   0  \n",
       "4          0        0     0         0        0   0  \n",
       "...      ...      ...   ...       ...      ...  ..  \n",
       "35882      0        0     0         0        0   0  \n",
       "35883      0        0     0         0        0  10  \n",
       "35884      7        1     0         2        0   0  \n",
       "35885      0        0     0         0        0   0  \n",
       "35886      1        1     0         0        1   0  \n",
       "\n",
       "[35887 rows x 12 columns]"
      ]
     },
     "execution_count": 38,
     "metadata": {},
     "output_type": "execute_result"
    }
   ],
   "source": [
    "# Read data form csv\n",
    "df = pd.read_csv(\"./FERPlus-master/fer2013new.csv\")\n",
    "df"
   ]
  },
  {
   "cell_type": "code",
   "execution_count": 39,
   "id": "00b8fd58",
   "metadata": {},
   "outputs": [
    {
     "name": "stdout",
     "output_type": "stream",
     "text": [
      "<class 'pandas.core.frame.DataFrame'>\n",
      "RangeIndex: 35887 entries, 0 to 35886\n",
      "Data columns (total 12 columns):\n",
      " #   Column      Non-Null Count  Dtype \n",
      "---  ------      --------------  ----- \n",
      " 0   Usage       35887 non-null  object\n",
      " 1   Image name  35714 non-null  object\n",
      " 2   neutral     35887 non-null  int64 \n",
      " 3   happiness   35887 non-null  int64 \n",
      " 4   surprise    35887 non-null  int64 \n",
      " 5   sadness     35887 non-null  int64 \n",
      " 6   anger       35887 non-null  int64 \n",
      " 7   disgust     35887 non-null  int64 \n",
      " 8   fear        35887 non-null  int64 \n",
      " 9   contempt    35887 non-null  int64 \n",
      " 10  unknown     35887 non-null  int64 \n",
      " 11  NF          35887 non-null  int64 \n",
      "dtypes: int64(10), object(2)\n",
      "memory usage: 3.3+ MB\n"
     ]
    }
   ],
   "source": [
    "# Display its general information\n",
    "df.info()"
   ]
  },
  {
   "cell_type": "markdown",
   "id": "2714cec3",
   "metadata": {},
   "source": [
    "# Preprocessing"
   ]
  },
  {
   "cell_type": "code",
   "execution_count": 40,
   "id": "7b558e53",
   "metadata": {},
   "outputs": [
    {
     "data": {
      "text/plain": [
       "Usage           0\n",
       "Image name    173\n",
       "neutral         0\n",
       "happiness       0\n",
       "surprise        0\n",
       "sadness         0\n",
       "anger           0\n",
       "disgust         0\n",
       "fear            0\n",
       "contempt        0\n",
       "unknown         0\n",
       "NF              0\n",
       "dtype: int64"
      ]
     },
     "execution_count": 40,
     "metadata": {},
     "output_type": "execute_result"
    }
   ],
   "source": [
    "# Check for any missing data particularly in 'Image name' column\n",
    "missing_data = df.isnull().sum()\n",
    "missing_data"
   ]
  },
  {
   "cell_type": "code",
   "execution_count": 41,
   "id": "eb1d9a11",
   "metadata": {},
   "outputs": [
    {
     "name": "stdout",
     "output_type": "stream",
     "text": [
      "<class 'pandas.core.frame.DataFrame'>\n",
      "Index: 35714 entries, 0 to 35886\n",
      "Data columns (total 12 columns):\n",
      " #   Column      Non-Null Count  Dtype \n",
      "---  ------      --------------  ----- \n",
      " 0   Usage       35714 non-null  object\n",
      " 1   Image name  35714 non-null  object\n",
      " 2   neutral     35714 non-null  int64 \n",
      " 3   happiness   35714 non-null  int64 \n",
      " 4   surprise    35714 non-null  int64 \n",
      " 5   sadness     35714 non-null  int64 \n",
      " 6   anger       35714 non-null  int64 \n",
      " 7   disgust     35714 non-null  int64 \n",
      " 8   fear        35714 non-null  int64 \n",
      " 9   contempt    35714 non-null  int64 \n",
      " 10  unknown     35714 non-null  int64 \n",
      " 11  NF          35714 non-null  int64 \n",
      "dtypes: int64(10), object(2)\n",
      "memory usage: 3.5+ MB\n"
     ]
    }
   ],
   "source": [
    "# Remove entries with missing 'Image name'\n",
    "clean_df = df.dropna(subset=['Image name'])\n",
    "\n",
    "# Confirm the removal\n",
    "clean_df.info()"
   ]
  },
  {
   "cell_type": "code",
   "execution_count": 42,
   "id": "10ce085a",
   "metadata": {},
   "outputs": [
    {
     "name": "stdout",
     "output_type": "stream",
     "text": [
      "Usage\n",
      "Training       28561\n",
      "PublicTest      3579\n",
      "PrivateTest     3574\n",
      "Name: count, dtype: int64\n"
     ]
    }
   ],
   "source": [
    "# Count of row types\n",
    "print(clean_df['Usage'].value_counts())"
   ]
  },
  {
   "cell_type": "markdown",
   "id": "b00f3c85",
   "metadata": {},
   "source": [
    "## Normalization"
   ]
  },
  {
   "cell_type": "code",
   "execution_count": 43,
   "id": "35761524",
   "metadata": {},
   "outputs": [
    {
     "data": {
      "text/plain": [
       "((35714, 48, 48),\n",
       " (35714, 10),\n",
       " ['FERPLUS-master/data\\\\FER2013Train\\\\fer0000000.png',\n",
       "  'FERPLUS-master/data\\\\FER2013Train\\\\fer0000001.png',\n",
       "  'FERPLUS-master/data\\\\FER2013Train\\\\fer0000002.png',\n",
       "  'FERPLUS-master/data\\\\FER2013Train\\\\fer0000003.png',\n",
       "  'FERPLUS-master/data\\\\FER2013Train\\\\fer0000004.png'])"
      ]
     },
     "execution_count": 43,
     "metadata": {},
     "output_type": "execute_result"
    }
   ],
   "source": [
    "# Load and normalize images\n",
    "def load_images(data, base_path):\n",
    "    images = []\n",
    "    labels = []\n",
    "    paths = []\n",
    "    \n",
    "    # Mapping from Usage to directory names\n",
    "    directory_map = {\n",
    "        \"Training\": \"FER2013Train\",\n",
    "        \"PublicTest\": \"FER2013Valid\",\n",
    "        \"PrivateTest\": \"FER2013Test\"\n",
    "    }\n",
    "    \n",
    "    for idx, row in data.iterrows():\n",
    "        directory = directory_map.get(row['Usage'], None)\n",
    "        if directory:\n",
    "            image_path = os.path.join(base_path, directory, row['Image name'])\n",
    "            \n",
    "            if os.path.exists(image_path):\n",
    "                # Load the image\n",
    "                image = Image.open(image_path).convert('L')  # Convert to grayscale\n",
    "                image_array = np.array(image) / 255.0  # Normalize to 0-1\n",
    "                \n",
    "                # Append data\n",
    "                images.append(image_array)\n",
    "                labels.append(row[2:12].values)  # Select emotion intensity columns\n",
    "                paths.append(image_path)\n",
    "    \n",
    "    return np.array(images), np.array(labels), paths\n",
    "\n",
    "# Base path for images\n",
    "base_image_path = 'FERPLUS-master/data'\n",
    "\n",
    "# Load images and their labels\n",
    "images, labels, image_paths = load_images(clean_df, base_image_path)\n",
    "\n",
    "# Check shapes and an example path\n",
    "images.shape, labels.shape, image_paths[:5]"
   ]
  },
  {
   "cell_type": "markdown",
   "id": "69ab9d7b",
   "metadata": {},
   "source": [
    "## Splitting data"
   ]
  },
  {
   "cell_type": "code",
   "execution_count": 44,
   "id": "bb89bdb9",
   "metadata": {},
   "outputs": [
    {
     "name": "stdout",
     "output_type": "stream",
     "text": [
      "Train images info: \n",
      "(28561, 48, 48) (28561, 10)\n",
      "Valid images info: \n",
      "(3579, 48, 48) (3579, 10)\n",
      "Test images info: \n",
      "(3574, 48, 48) (3574, 10)\n"
     ]
    }
   ],
   "source": [
    "# Split data into differente usage\n",
    "train_indices = [i for i, path in enumerate(image_paths) if 'FER2013Train' in path]\n",
    "test_indices = [i for i, path in enumerate(image_paths) if 'FER2013Test' in path]\n",
    "valid_indices = [i for i, path in enumerate(image_paths) if 'FER2013Valid' in path]\n",
    "\n",
    "train_images = images[train_indices]\n",
    "train_labels = labels[train_indices]\n",
    "print(\"Train images info: \")\n",
    "print(train_images.shape, train_labels.shape)\n",
    "\n",
    "valid_images = images[valid_indices]\n",
    "valid_labels = labels[valid_indices]\n",
    "print(\"Valid images info: \")\n",
    "print(valid_images.shape, valid_labels.shape)\n",
    "\n",
    "test_images = images[test_indices]\n",
    "test_labels = labels[test_indices]\n",
    "print(\"Test images info: \")\n",
    "print(test_images.shape, test_labels.shape)"
   ]
  },
  {
   "cell_type": "markdown",
   "id": "347dcbdc",
   "metadata": {},
   "source": [
    "## One hot encoding for labels"
   ]
  },
  {
   "cell_type": "code",
   "execution_count": 45,
   "id": "80a1fc93",
   "metadata": {},
   "outputs": [
    {
     "ename": "IndentationError",
     "evalue": "unexpected indent (1270747917.py, line 2)",
     "output_type": "error",
     "traceback": [
      "\u001b[1;36m  Cell \u001b[1;32mIn[45], line 2\u001b[1;36m\u001b[0m\n\u001b[1;33m    train_labels = to_categorical(train_labels)\u001b[0m\n\u001b[1;37m    ^\u001b[0m\n\u001b[1;31mIndentationError\u001b[0m\u001b[1;31m:\u001b[0m unexpected indent\n"
     ]
    }
   ],
   "source": [
    "# One hot encode the labels\n",
    "#train_labels = to_categorical(train_labels)\n",
    "#test_labels = to_categorical(test_labels)\n",
    "#valid_labels = to_categorical(valid_labels)"
   ]
  },
  {
   "cell_type": "markdown",
   "id": "c6513db2",
   "metadata": {},
   "source": [
    "# Basic CNN"
   ]
  },
  {
   "cell_type": "code",
   "execution_count": 46,
   "id": "6b0f4974",
   "metadata": {},
   "outputs": [
    {
     "name": "stdout",
     "output_type": "stream",
     "text": [
      "Model: \"sequential_3\"\n",
      "_________________________________________________________________\n",
      " Layer (type)                Output Shape              Param #   \n",
      "=================================================================\n",
      " conv2d_9 (Conv2D)           (None, 46, 46, 32)        320       \n",
      "                                                                 \n",
      " max_pooling2d_9 (MaxPooling  (None, 23, 23, 32)       0         \n",
      " 2D)                                                             \n",
      "                                                                 \n",
      " conv2d_10 (Conv2D)          (None, 21, 21, 64)        18496     \n",
      "                                                                 \n",
      " max_pooling2d_10 (MaxPoolin  (None, 10, 10, 64)       0         \n",
      " g2D)                                                            \n",
      "                                                                 \n",
      " conv2d_11 (Conv2D)          (None, 8, 8, 128)         73856     \n",
      "                                                                 \n",
      " max_pooling2d_11 (MaxPoolin  (None, 4, 4, 128)        0         \n",
      " g2D)                                                            \n",
      "                                                                 \n",
      " flatten_3 (Flatten)         (None, 2048)              0         \n",
      "                                                                 \n",
      " dense_6 (Dense)             (None, 128)               262272    \n",
      "                                                                 \n",
      " dropout_3 (Dropout)         (None, 128)               0         \n",
      "                                                                 \n",
      " dense_7 (Dense)             (None, 10)                1290      \n",
      "                                                                 \n",
      "=================================================================\n",
      "Total params: 356,234\n",
      "Trainable params: 356,234\n",
      "Non-trainable params: 0\n",
      "_________________________________________________________________\n"
     ]
    }
   ],
   "source": [
    "# Create a basic CNN model\n",
    "basic_model = Sequential([\n",
    "    Conv2D(32, (3, 3), activation='relu', input_shape=(48, 48, 1)),  # first conv layer\n",
    "    MaxPooling2D((2, 2)),  # first pooling layer\n",
    "    Conv2D(64, (3, 3), activation='relu'),  # second conv layer\n",
    "    MaxPooling2D((2, 2)),  # second pooling layer\n",
    "    Conv2D(128, (3, 3), activation='relu'),  # third conv layer\n",
    "    MaxPooling2D((2, 2)),  # third pooling layer\n",
    "    Flatten(),  # flatten the output for the dense layer\n",
    "    Dense(128, activation='relu'),  # fully connected layer\n",
    "    Dropout(0.5),  # dropout for regularization\n",
    "    Dense(10, activation='linear')  # output layer with 10 units for each emotion\n",
    "])\n",
    "\n",
    "basic_model.summary()  # This will print the summary of the model architecture"
   ]
  },
  {
   "cell_type": "code",
   "execution_count": 47,
   "id": "9eb20988",
   "metadata": {},
   "outputs": [],
   "source": [
    "# Compile the model\n",
    "basic_model.compile(\n",
    "    optimizer='adam',\n",
    "    loss='mean_squared_error',\n",
    "    metrics=['mean_squared_error']\n",
    ")"
   ]
  },
  {
   "cell_type": "markdown",
   "id": "b9900989",
   "metadata": {},
   "source": [
    "## Reshape images to add channel dimension for CNN"
   ]
  },
  {
   "cell_type": "code",
   "execution_count": 48,
   "id": "2527ed2a",
   "metadata": {},
   "outputs": [],
   "source": [
    "# Reshape or modify the data to add a channel dimension for CNNs, expect an input shape like (batch, height, width, channels)\n",
    "# Channel dimension is 1 for grayscale images\n",
    "train_images = train_images.reshape((-1, 48, 48, 1))\n",
    "test_images = test_images.reshape((-1, 48, 48, 1))\n",
    "valid_images = valid_images.reshape((-1, 48, 48, 1))"
   ]
  },
  {
   "cell_type": "code",
   "execution_count": 53,
   "id": "81ee3540",
   "metadata": {},
   "outputs": [
    {
     "name": "stdout",
     "output_type": "stream",
     "text": [
      "Train images shape: (28561, 48, 48, 1) float64\n",
      "Valid images shape: (3579, 48, 48, 1) float64\n",
      "Tests images shape: (3574, 48, 48, 1) float64\n",
      "Train labels shape: (28561, 10) float32\n",
      "Valid labels shape: (3579, 10) float32\n",
      "Tests labels shape: (3574, 10) float32\n"
     ]
    }
   ],
   "source": [
    "print(\"Train images shape:\", train_images.shape, train_images.dtype)\n",
    "print(\"Valid images shape:\", valid_images.shape, valid_images.dtype)\n",
    "print(\"Tests images shape:\", test_images.shape, test_images.dtype)\n",
    "\n",
    "print(\"Train labels shape:\", train_labels.shape, train_labels.dtype)\n",
    "print(\"Valid labels shape:\", valid_labels.shape, valid_labels.dtype)\n",
    "print(\"Tests labels shape:\", test_labels.shape, test_labels.dtype)\n"
   ]
  },
  {
   "cell_type": "code",
   "execution_count": 51,
   "id": "b9ccf258",
   "metadata": {},
   "outputs": [],
   "source": [
    "train_labels = np.array(train_labels, dtype='float32')\n",
    "valid_labels = np.array(valid_labels, dtype='float32')\n",
    "test_labels = np.array(test_labels, dtype='float32')"
   ]
  },
  {
   "cell_type": "markdown",
   "id": "4c82d721",
   "metadata": {},
   "source": [
    "## Fit model"
   ]
  },
  {
   "cell_type": "code",
   "execution_count": 54,
   "id": "96286a0e",
   "metadata": {},
   "outputs": [
    {
     "name": "stdout",
     "output_type": "stream",
     "text": [
      "Epoch 1/30\n",
      "447/447 [==============================] - 89s 199ms/step - loss: 4.3210 - mean_squared_error: 4.3210 - val_loss: 3.7261 - val_mean_squared_error: 3.7261\n",
      "Epoch 2/30\n",
      "447/447 [==============================] - 32s 70ms/step - loss: 3.2655 - mean_squared_error: 3.2655 - val_loss: 3.0554 - val_mean_squared_error: 3.0554\n",
      "Epoch 3/30\n",
      "447/447 [==============================] - 23s 52ms/step - loss: 2.8954 - mean_squared_error: 2.8954 - val_loss: 2.8132 - val_mean_squared_error: 2.8132\n",
      "Epoch 4/30\n",
      "447/447 [==============================] - 23s 52ms/step - loss: 2.6848 - mean_squared_error: 2.6848 - val_loss: 2.6728 - val_mean_squared_error: 2.6728\n",
      "Epoch 5/30\n",
      "447/447 [==============================] - 23s 52ms/step - loss: 2.5267 - mean_squared_error: 2.5267 - val_loss: 2.4869 - val_mean_squared_error: 2.4869\n",
      "Epoch 6/30\n",
      "447/447 [==============================] - 23s 52ms/step - loss: 2.3932 - mean_squared_error: 2.3932 - val_loss: 2.3404 - val_mean_squared_error: 2.3404\n",
      "Epoch 7/30\n",
      "447/447 [==============================] - 23s 52ms/step - loss: 2.2768 - mean_squared_error: 2.2768 - val_loss: 2.2327 - val_mean_squared_error: 2.2327\n",
      "Epoch 8/30\n",
      "447/447 [==============================] - 23s 52ms/step - loss: 2.1690 - mean_squared_error: 2.1690 - val_loss: 2.1993 - val_mean_squared_error: 2.1993\n",
      "Epoch 9/30\n",
      "447/447 [==============================] - 23s 52ms/step - loss: 2.0861 - mean_squared_error: 2.0861 - val_loss: 2.2033 - val_mean_squared_error: 2.2033\n",
      "Epoch 10/30\n",
      "447/447 [==============================] - 23s 52ms/step - loss: 1.9991 - mean_squared_error: 1.9991 - val_loss: 2.0678 - val_mean_squared_error: 2.0678\n",
      "Epoch 11/30\n",
      "447/447 [==============================] - 25s 56ms/step - loss: 1.9469 - mean_squared_error: 1.9469 - val_loss: 2.1154 - val_mean_squared_error: 2.1154\n",
      "Epoch 12/30\n",
      "447/447 [==============================] - 26s 58ms/step - loss: 1.8755 - mean_squared_error: 1.8755 - val_loss: 2.0558 - val_mean_squared_error: 2.0558\n",
      "Epoch 13/30\n",
      "447/447 [==============================] - 26s 58ms/step - loss: 1.8120 - mean_squared_error: 1.8120 - val_loss: 2.0480 - val_mean_squared_error: 2.0480\n",
      "Epoch 14/30\n",
      "447/447 [==============================] - 26s 58ms/step - loss: 1.7614 - mean_squared_error: 1.7614 - val_loss: 2.0661 - val_mean_squared_error: 2.0661\n",
      "Epoch 15/30\n",
      "447/447 [==============================] - 26s 58ms/step - loss: 1.7031 - mean_squared_error: 1.7031 - val_loss: 2.0362 - val_mean_squared_error: 2.0362\n",
      "Epoch 16/30\n",
      "447/447 [==============================] - 23s 50ms/step - loss: 1.6687 - mean_squared_error: 1.6687 - val_loss: 2.0039 - val_mean_squared_error: 2.0039\n",
      "Epoch 17/30\n",
      "447/447 [==============================] - 24s 54ms/step - loss: 1.6310 - mean_squared_error: 1.6310 - val_loss: 2.0293 - val_mean_squared_error: 2.0293\n",
      "Epoch 18/30\n",
      "447/447 [==============================] - 24s 55ms/step - loss: 1.5975 - mean_squared_error: 1.5975 - val_loss: 2.0055 - val_mean_squared_error: 2.0055\n",
      "Epoch 19/30\n",
      "447/447 [==============================] - 23s 52ms/step - loss: 1.5612 - mean_squared_error: 1.5612 - val_loss: 2.0449 - val_mean_squared_error: 2.0449\n",
      "Epoch 20/30\n",
      "447/447 [==============================] - 23s 53ms/step - loss: 1.5250 - mean_squared_error: 1.5250 - val_loss: 1.9475 - val_mean_squared_error: 1.9475\n",
      "Epoch 21/30\n",
      "447/447 [==============================] - 24s 54ms/step - loss: 1.4966 - mean_squared_error: 1.4966 - val_loss: 1.9983 - val_mean_squared_error: 1.9983\n",
      "Epoch 22/30\n",
      "447/447 [==============================] - 23s 52ms/step - loss: 1.4823 - mean_squared_error: 1.4823 - val_loss: 1.9899 - val_mean_squared_error: 1.9899\n",
      "Epoch 23/30\n",
      "447/447 [==============================] - 23s 52ms/step - loss: 1.4550 - mean_squared_error: 1.4550 - val_loss: 2.0269 - val_mean_squared_error: 2.0269\n",
      "Epoch 24/30\n",
      "447/447 [==============================] - 25s 55ms/step - loss: 1.4335 - mean_squared_error: 1.4335 - val_loss: 2.0471 - val_mean_squared_error: 2.0471\n",
      "Epoch 25/30\n",
      "447/447 [==============================] - 25s 57ms/step - loss: 1.4013 - mean_squared_error: 1.4013 - val_loss: 1.9573 - val_mean_squared_error: 1.9573\n",
      "Epoch 26/30\n",
      "447/447 [==============================] - 26s 57ms/step - loss: 1.3873 - mean_squared_error: 1.3873 - val_loss: 1.9712 - val_mean_squared_error: 1.9712\n",
      "Epoch 27/30\n",
      "447/447 [==============================] - 25s 56ms/step - loss: 1.3708 - mean_squared_error: 1.3708 - val_loss: 2.0021 - val_mean_squared_error: 2.0021\n",
      "Epoch 28/30\n",
      "447/447 [==============================] - 25s 57ms/step - loss: 1.3635 - mean_squared_error: 1.3635 - val_loss: 1.9725 - val_mean_squared_error: 1.9725\n",
      "Epoch 29/30\n",
      "447/447 [==============================] - 23s 52ms/step - loss: 1.3389 - mean_squared_error: 1.3389 - val_loss: 2.0025 - val_mean_squared_error: 2.0025\n",
      "Epoch 30/30\n",
      "447/447 [==============================] - 23s 52ms/step - loss: 1.3210 - mean_squared_error: 1.3210 - val_loss: 2.0061 - val_mean_squared_error: 2.0061\n"
     ]
    }
   ],
   "source": [
    "# Fit the model\n",
    "basic_model_history = basic_model.fit(\n",
    "    train_images, train_labels,\n",
    "    epochs=30,\n",
    "    batch_size=64,\n",
    "    validation_data=(valid_images, valid_labels)\n",
    ")"
   ]
  },
  {
   "cell_type": "markdown",
   "id": "c5c52e4d",
   "metadata": {},
   "source": [
    "## Evaluate"
   ]
  },
  {
   "cell_type": "code",
   "execution_count": 55,
   "id": "25a7039e",
   "metadata": {},
   "outputs": [
    {
     "name": "stdout",
     "output_type": "stream",
     "text": [
      "112/112 [==============================] - 1s 7ms/step - loss: 1.9039 - mean_squared_error: 1.9039\n",
      "Test MSE: 1.9038771390914917\n"
     ]
    }
   ],
   "source": [
    "# Evaluate the model\n",
    "test_loss, test_mse = basic_model.evaluate(test_images, test_labels)\n",
    "print('Test MSE:', test_mse)"
   ]
  },
  {
   "cell_type": "markdown",
   "id": "4c7dc9ce",
   "metadata": {},
   "source": [
    "## Plot "
   ]
  },
  {
   "cell_type": "code",
   "execution_count": 57,
   "id": "6646205b",
   "metadata": {},
   "outputs": [
    {
     "data": {
      "image/png": "[encoded data removed]",
      "text/plain": [
       "<Figure size 1400x500 with 2 Axes>"
      ]
     },
     "metadata": {},
     "output_type": "display_data"
    }
   ],
   "source": [
    "# Plot the history\n",
    "# Assuming 'history' is the output from your model.fit()\n",
    "plt.figure(figsize=(14, 5))\n",
    "\n",
    "# Plot training & validation loss values\n",
    "plt.subplot(1, 2, 1)\n",
    "plt.plot(basic_model_history.history['loss'], label='Train Loss')\n",
    "plt.plot(basic_model_history.history['val_loss'], label='Validation Loss')\n",
    "plt.title('Model Loss')\n",
    "plt.ylabel('Loss')\n",
    "plt.xlabel('Epoch')\n",
    "plt.legend(loc='upper right')\n",
    "\n",
    "# Plot training & validation mean squared error\n",
    "plt.subplot(1, 2, 2)\n",
    "plt.plot(basic_model_history.history['mean_squared_error'], label='Train MSE')\n",
    "plt.plot(basic_model_history.history['val_mean_squared_error'], label='Validation MSE')\n",
    "plt.title('Model Mean Squared Error')\n",
    "plt.ylabel('Mean Squared Error')\n",
    "plt.xlabel('Epoch')\n",
    "plt.legend(loc='upper right')\n",
    "\n",
    "plt.tight_layout()\n",
    "plt.show()"
   ]
  },
  {
   "cell_type": "markdown",
   "id": "6af4f1c1",
   "metadata": {},
   "source": [
    "# Advanced CNN (VGG-like, ResNet)"
   ]
  },
  {
   "cell_type": "markdown",
   "id": "27c02780",
   "metadata": {},
   "source": [
    "# Transfer Learning (VGGFace, FaceNet)"
   ]
  }
 ],
 "metadata": {
  "kernelspec": {
   "display_name": "Python 3",
   "language": "python",
   "name": "python3"
  },
  "language_info": {
   "codemirror_mode": {
    "name": "ipython",
    "version": 3
   },
   "file_extension": ".py",
   "mimetype": "text/x-python",
   "name": "python",
   "nbconvert_exporter": "python",
   "pygments_lexer": "ipython3",
   "version": "3.10.0"
  }
 },
 "nbformat": 4,
 "nbformat_minor": 5
}
