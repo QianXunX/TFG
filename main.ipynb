{
 "cells": [
  {
   "cell_type": "code",
   "execution_count": 8,
   "id": "8b03525f",
   "metadata": {},
   "outputs": [
    {
     "name": "stdout",
     "output_type": "stream",
     "text": [
      "No GPU detected\n"
     ]
    }
   ],
   "source": [
    "import os\n",
    "import numpy as np\n",
    "import pandas as pd\n",
    "from PIL import Image\n",
    "import tensorflow as tf\n",
    "from tensorflow.keras.utils import to_categorical\n",
    "from tensorflow.keras.models import Sequential, Model\n",
    "from tensorflow.keras.layers import Conv2D, MaxPooling2D, Flatten, Dense, Dropout, Input\n",
    "import matplotlib.pyplot as plt\n",
    "from sklearn.metrics import accuracy_score, confusion_matrix\n",
    "import seaborn as sns\n",
    "from tensorflow.keras.applications import VGG16, ResNet50\n",
    "from tensorflow.keras.callbacks import EarlyStopping\n",
    "import h5py\n",
    "\n",
    "\n",
    "gpus = tf.config.list_physical_devices('GPU')\n",
    "if gpus:\n",
    "    for gpu in gpus:\n",
    "        print(f\"GPU Detected: {gpu.device_type} - {gpu.name}\")\n",
    "else:\n",
    "    print(\"No GPU detected\")"
   ]
  },
  {
   "cell_type": "markdown",
   "id": "2cc51408",
   "metadata": {},
   "source": [
    "## Data acquisition"
   ]
  },
  {
   "cell_type": "code",
   "execution_count": 9,
   "id": "initial_id",
   "metadata": {
    "ExecuteTime": {
     "end_time": "2024-04-30T16:44:51.359770Z",
     "start_time": "2024-04-30T16:44:50.837019Z"
    },
    "collapsed": true
   },
   "outputs": [
    {
     "data": {
      "text/html": [
       "<div>\n",
       "<style scoped>\n",
       "    .dataframe tbody tr th:only-of-type {\n",
       "        vertical-align: middle;\n",
       "    }\n",
       "\n",
       "    .dataframe tbody tr th {\n",
       "        vertical-align: top;\n",
       "    }\n",
       "\n",
       "    .dataframe thead th {\n",
       "        text-align: right;\n",
       "    }\n",
       "</style>\n",
       "<table border=\"1\" class=\"dataframe\">\n",
       "  <thead>\n",
       "    <tr style=\"text-align: right;\">\n",
       "      <th></th>\n",
       "      <th>Usage</th>\n",
       "      <th>Image name</th>\n",
       "      <th>neutral</th>\n",
       "      <th>happiness</th>\n",
       "      <th>surprise</th>\n",
       "      <th>sadness</th>\n",
       "      <th>anger</th>\n",
       "      <th>disgust</th>\n",
       "      <th>fear</th>\n",
       "      <th>contempt</th>\n",
       "      <th>unknown</th>\n",
       "      <th>NF</th>\n",
       "    </tr>\n",
       "  </thead>\n",
       "  <tbody>\n",
       "    <tr>\n",
       "      <th>0</th>\n",
       "      <td>Training</td>\n",
       "      <td>fer0000000.png</td>\n",
       "      <td>4</td>\n",
       "      <td>0</td>\n",
       "      <td>0</td>\n",
       "      <td>1</td>\n",
       "      <td>3</td>\n",
       "      <td>2</td>\n",
       "      <td>0</td>\n",
       "      <td>0</td>\n",
       "      <td>0</td>\n",
       "      <td>0</td>\n",
       "    </tr>\n",
       "    <tr>\n",
       "      <th>1</th>\n",
       "      <td>Training</td>\n",
       "      <td>fer0000001.png</td>\n",
       "      <td>6</td>\n",
       "      <td>0</td>\n",
       "      <td>1</td>\n",
       "      <td>1</td>\n",
       "      <td>0</td>\n",
       "      <td>0</td>\n",
       "      <td>0</td>\n",
       "      <td>0</td>\n",
       "      <td>2</td>\n",
       "      <td>0</td>\n",
       "    </tr>\n",
       "    <tr>\n",
       "      <th>2</th>\n",
       "      <td>Training</td>\n",
       "      <td>fer0000002.png</td>\n",
       "      <td>5</td>\n",
       "      <td>0</td>\n",
       "      <td>0</td>\n",
       "      <td>3</td>\n",
       "      <td>1</td>\n",
       "      <td>0</td>\n",
       "      <td>0</td>\n",
       "      <td>0</td>\n",
       "      <td>1</td>\n",
       "      <td>0</td>\n",
       "    </tr>\n",
       "    <tr>\n",
       "      <th>3</th>\n",
       "      <td>Training</td>\n",
       "      <td>fer0000003.png</td>\n",
       "      <td>4</td>\n",
       "      <td>0</td>\n",
       "      <td>0</td>\n",
       "      <td>4</td>\n",
       "      <td>1</td>\n",
       "      <td>0</td>\n",
       "      <td>0</td>\n",
       "      <td>0</td>\n",
       "      <td>1</td>\n",
       "      <td>0</td>\n",
       "    </tr>\n",
       "    <tr>\n",
       "      <th>4</th>\n",
       "      <td>Training</td>\n",
       "      <td>fer0000004.png</td>\n",
       "      <td>9</td>\n",
       "      <td>0</td>\n",
       "      <td>0</td>\n",
       "      <td>1</td>\n",
       "      <td>0</td>\n",
       "      <td>0</td>\n",
       "      <td>0</td>\n",
       "      <td>0</td>\n",
       "      <td>0</td>\n",
       "      <td>0</td>\n",
       "    </tr>\n",
       "    <tr>\n",
       "      <th>...</th>\n",
       "      <td>...</td>\n",
       "      <td>...</td>\n",
       "      <td>...</td>\n",
       "      <td>...</td>\n",
       "      <td>...</td>\n",
       "      <td>...</td>\n",
       "      <td>...</td>\n",
       "      <td>...</td>\n",
       "      <td>...</td>\n",
       "      <td>...</td>\n",
       "      <td>...</td>\n",
       "      <td>...</td>\n",
       "    </tr>\n",
       "    <tr>\n",
       "      <th>35882</th>\n",
       "      <td>PrivateTest</td>\n",
       "      <td>fer0035797.png</td>\n",
       "      <td>8</td>\n",
       "      <td>0</td>\n",
       "      <td>0</td>\n",
       "      <td>2</td>\n",
       "      <td>0</td>\n",
       "      <td>0</td>\n",
       "      <td>0</td>\n",
       "      <td>0</td>\n",
       "      <td>0</td>\n",
       "      <td>0</td>\n",
       "    </tr>\n",
       "    <tr>\n",
       "      <th>35883</th>\n",
       "      <td>PrivateTest</td>\n",
       "      <td>NaN</td>\n",
       "      <td>0</td>\n",
       "      <td>0</td>\n",
       "      <td>0</td>\n",
       "      <td>0</td>\n",
       "      <td>0</td>\n",
       "      <td>0</td>\n",
       "      <td>0</td>\n",
       "      <td>0</td>\n",
       "      <td>0</td>\n",
       "      <td>10</td>\n",
       "    </tr>\n",
       "    <tr>\n",
       "      <th>35884</th>\n",
       "      <td>PrivateTest</td>\n",
       "      <td>fer0035799.png</td>\n",
       "      <td>0</td>\n",
       "      <td>0</td>\n",
       "      <td>0</td>\n",
       "      <td>0</td>\n",
       "      <td>7</td>\n",
       "      <td>1</td>\n",
       "      <td>0</td>\n",
       "      <td>2</td>\n",
       "      <td>0</td>\n",
       "      <td>0</td>\n",
       "    </tr>\n",
       "    <tr>\n",
       "      <th>35885</th>\n",
       "      <td>PrivateTest</td>\n",
       "      <td>fer0035800.png</td>\n",
       "      <td>0</td>\n",
       "      <td>10</td>\n",
       "      <td>0</td>\n",
       "      <td>0</td>\n",
       "      <td>0</td>\n",
       "      <td>0</td>\n",
       "      <td>0</td>\n",
       "      <td>0</td>\n",
       "      <td>0</td>\n",
       "      <td>0</td>\n",
       "    </tr>\n",
       "    <tr>\n",
       "      <th>35886</th>\n",
       "      <td>PrivateTest</td>\n",
       "      <td>fer0035801.png</td>\n",
       "      <td>2</td>\n",
       "      <td>0</td>\n",
       "      <td>0</td>\n",
       "      <td>5</td>\n",
       "      <td>1</td>\n",
       "      <td>1</td>\n",
       "      <td>0</td>\n",
       "      <td>0</td>\n",
       "      <td>1</td>\n",
       "      <td>0</td>\n",
       "    </tr>\n",
       "  </tbody>\n",
       "</table>\n",
       "<p>35887 rows × 12 columns</p>\n",
       "</div>"
      ],
      "text/plain": [
       "             Usage      Image name  neutral  happiness  surprise  sadness  \\\n",
       "0         Training  fer0000000.png        4          0         0        1   \n",
       "1         Training  fer0000001.png        6          0         1        1   \n",
       "2         Training  fer0000002.png        5          0         0        3   \n",
       "3         Training  fer0000003.png        4          0         0        4   \n",
       "4         Training  fer0000004.png        9          0         0        1   \n",
       "...            ...             ...      ...        ...       ...      ...   \n",
       "35882  PrivateTest  fer0035797.png        8          0         0        2   \n",
       "35883  PrivateTest             NaN        0          0         0        0   \n",
       "35884  PrivateTest  fer0035799.png        0          0         0        0   \n",
       "35885  PrivateTest  fer0035800.png        0         10         0        0   \n",
       "35886  PrivateTest  fer0035801.png        2          0         0        5   \n",
       "\n",
       "       anger  disgust  fear  contempt  unknown  NF  \n",
       "0          3        2     0         0        0   0  \n",
       "1          0        0     0         0        2   0  \n",
       "2          1        0     0         0        1   0  \n",
       "3          1        0     0         0        1   0  \n",
       "4          0        0     0         0        0   0  \n",
       "...      ...      ...   ...       ...      ...  ..  \n",
       "35882      0        0     0         0        0   0  \n",
       "35883      0        0     0         0        0  10  \n",
       "35884      7        1     0         2        0   0  \n",
       "35885      0        0     0         0        0   0  \n",
       "35886      1        1     0         0        1   0  \n",
       "\n",
       "[35887 rows x 12 columns]"
      ]
     },
     "execution_count": 9,
     "metadata": {},
     "output_type": "execute_result"
    }
   ],
   "source": [
    "# Read data form csv\n",
    "df = pd.read_csv(\"./FERPlus-master/fer2013new.csv\")\n",
    "df"
   ]
  },
  {
   "cell_type": "code",
   "execution_count": 10,
   "id": "00b8fd58",
   "metadata": {},
   "outputs": [
    {
     "name": "stdout",
     "output_type": "stream",
     "text": [
      "<class 'pandas.core.frame.DataFrame'>\n",
      "RangeIndex: 35887 entries, 0 to 35886\n",
      "Data columns (total 12 columns):\n",
      " #   Column      Non-Null Count  Dtype \n",
      "---  ------      --------------  ----- \n",
      " 0   Usage       35887 non-null  object\n",
      " 1   Image name  35714 non-null  object\n",
      " 2   neutral     35887 non-null  int64 \n",
      " 3   happiness   35887 non-null  int64 \n",
      " 4   surprise    35887 non-null  int64 \n",
      " 5   sadness     35887 non-null  int64 \n",
      " 6   anger       35887 non-null  int64 \n",
      " 7   disgust     35887 non-null  int64 \n",
      " 8   fear        35887 non-null  int64 \n",
      " 9   contempt    35887 non-null  int64 \n",
      " 10  unknown     35887 non-null  int64 \n",
      " 11  NF          35887 non-null  int64 \n",
      "dtypes: int64(10), object(2)\n",
      "memory usage: 3.3+ MB\n"
     ]
    }
   ],
   "source": [
    "# Display its general information\n",
    "df.info()"
   ]
  },
  {
   "cell_type": "markdown",
   "id": "2714cec3",
   "metadata": {},
   "source": [
    "# Preprocessing"
   ]
  },
  {
   "cell_type": "code",
   "execution_count": 11,
   "id": "7b558e53",
   "metadata": {},
   "outputs": [
    {
     "data": {
      "text/plain": [
       "Usage           0\n",
       "Image name    173\n",
       "neutral         0\n",
       "happiness       0\n",
       "surprise        0\n",
       "sadness         0\n",
       "anger           0\n",
       "disgust         0\n",
       "fear            0\n",
       "contempt        0\n",
       "unknown         0\n",
       "NF              0\n",
       "dtype: int64"
      ]
     },
     "execution_count": 11,
     "metadata": {},
     "output_type": "execute_result"
    }
   ],
   "source": [
    "# Check for any missing data particularly in 'Image name' column\n",
    "missing_data = df.isnull().sum()\n",
    "missing_data"
   ]
  },
  {
   "cell_type": "code",
   "execution_count": 19,
   "id": "eb1d9a11",
   "metadata": {},
   "outputs": [
    {
     "name": "stdout",
     "output_type": "stream",
     "text": [
      "<class 'pandas.core.frame.DataFrame'>\n",
      "Index: 35714 entries, 0 to 35886\n",
      "Data columns (total 12 columns):\n",
      " #   Column      Non-Null Count  Dtype \n",
      "---  ------      --------------  ----- \n",
      " 0   Usage       35714 non-null  object\n",
      " 1   Image name  35714 non-null  object\n",
      " 2   neutral     35714 non-null  int64 \n",
      " 3   happiness   35714 non-null  int64 \n",
      " 4   surprise    35714 non-null  int64 \n",
      " 5   sadness     35714 non-null  int64 \n",
      " 6   anger       35714 non-null  int64 \n",
      " 7   disgust     35714 non-null  int64 \n",
      " 8   fear        35714 non-null  int64 \n",
      " 9   contempt    35714 non-null  int64 \n",
      " 10  unknown     35714 non-null  int64 \n",
      " 11  NF          35714 non-null  int64 \n",
      "dtypes: int64(10), object(2)\n",
      "memory usage: 3.5+ MB\n"
     ]
    }
   ],
   "source": [
    "# Remove entries with missing 'Image name'\n",
    "clean_df = df.dropna(subset=['Image name'])\n",
    "\n",
    "# Confirm the removal\n",
    "clean_df.info()"
   ]
  },
  {
   "cell_type": "code",
   "execution_count": 20,
   "id": "dea27277",
   "metadata": {},
   "outputs": [
    {
     "name": "stderr",
     "output_type": "stream",
     "text": [
      "C:\\Users\\julio\\AppData\\Local\\Temp\\ipykernel_16672\\285943505.py:6: SettingWithCopyWarning: \n",
      "A value is trying to be set on a copy of a slice from a DataFrame.\n",
      "Try using .loc[row_indexer,col_indexer] = value instead\n",
      "\n",
      "See the caveats in the documentation: https://pandas.pydata.org/pandas-docs/stable/user_guide/indexing.html#returning-a-view-versus-a-copy\n",
      "  clean_df['predominant_emotion_index'] = clean_df[emotion_columns].idxmax(axis=1).apply(emotion_columns.index)\n"
     ]
    },
    {
     "data": {
      "text/html": [
       "<div>\n",
       "<style scoped>\n",
       "    .dataframe tbody tr th:only-of-type {\n",
       "        vertical-align: middle;\n",
       "    }\n",
       "\n",
       "    .dataframe tbody tr th {\n",
       "        vertical-align: top;\n",
       "    }\n",
       "\n",
       "    .dataframe thead th {\n",
       "        text-align: right;\n",
       "    }\n",
       "</style>\n",
       "<table border=\"1\" class=\"dataframe\">\n",
       "  <thead>\n",
       "    <tr style=\"text-align: right;\">\n",
       "      <th></th>\n",
       "      <th>Usage</th>\n",
       "      <th>Image name</th>\n",
       "      <th>predominant_emotion_index</th>\n",
       "    </tr>\n",
       "  </thead>\n",
       "  <tbody>\n",
       "    <tr>\n",
       "      <th>0</th>\n",
       "      <td>Training</td>\n",
       "      <td>fer0000000.png</td>\n",
       "      <td>0</td>\n",
       "    </tr>\n",
       "    <tr>\n",
       "      <th>1</th>\n",
       "      <td>Training</td>\n",
       "      <td>fer0000001.png</td>\n",
       "      <td>0</td>\n",
       "    </tr>\n",
       "    <tr>\n",
       "      <th>2</th>\n",
       "      <td>Training</td>\n",
       "      <td>fer0000002.png</td>\n",
       "      <td>0</td>\n",
       "    </tr>\n",
       "    <tr>\n",
       "      <th>3</th>\n",
       "      <td>Training</td>\n",
       "      <td>fer0000003.png</td>\n",
       "      <td>0</td>\n",
       "    </tr>\n",
       "    <tr>\n",
       "      <th>4</th>\n",
       "      <td>Training</td>\n",
       "      <td>fer0000004.png</td>\n",
       "      <td>0</td>\n",
       "    </tr>\n",
       "    <tr>\n",
       "      <th>...</th>\n",
       "      <td>...</td>\n",
       "      <td>...</td>\n",
       "      <td>...</td>\n",
       "    </tr>\n",
       "    <tr>\n",
       "      <th>35881</th>\n",
       "      <td>PrivateTest</td>\n",
       "      <td>fer0035796.png</td>\n",
       "      <td>0</td>\n",
       "    </tr>\n",
       "    <tr>\n",
       "      <th>35882</th>\n",
       "      <td>PrivateTest</td>\n",
       "      <td>fer0035797.png</td>\n",
       "      <td>0</td>\n",
       "    </tr>\n",
       "    <tr>\n",
       "      <th>35884</th>\n",
       "      <td>PrivateTest</td>\n",
       "      <td>fer0035799.png</td>\n",
       "      <td>4</td>\n",
       "    </tr>\n",
       "    <tr>\n",
       "      <th>35885</th>\n",
       "      <td>PrivateTest</td>\n",
       "      <td>fer0035800.png</td>\n",
       "      <td>1</td>\n",
       "    </tr>\n",
       "    <tr>\n",
       "      <th>35886</th>\n",
       "      <td>PrivateTest</td>\n",
       "      <td>fer0035801.png</td>\n",
       "      <td>3</td>\n",
       "    </tr>\n",
       "  </tbody>\n",
       "</table>\n",
       "<p>35714 rows × 3 columns</p>\n",
       "</div>"
      ],
      "text/plain": [
       "             Usage      Image name  predominant_emotion_index\n",
       "0         Training  fer0000000.png                          0\n",
       "1         Training  fer0000001.png                          0\n",
       "2         Training  fer0000002.png                          0\n",
       "3         Training  fer0000003.png                          0\n",
       "4         Training  fer0000004.png                          0\n",
       "...            ...             ...                        ...\n",
       "35881  PrivateTest  fer0035796.png                          0\n",
       "35882  PrivateTest  fer0035797.png                          0\n",
       "35884  PrivateTest  fer0035799.png                          4\n",
       "35885  PrivateTest  fer0035800.png                          1\n",
       "35886  PrivateTest  fer0035801.png                          3\n",
       "\n",
       "[35714 rows x 3 columns]"
      ]
     },
     "execution_count": 20,
     "metadata": {},
     "output_type": "execute_result"
    }
   ],
   "source": [
    "# Extracting the emotion columns\n",
    "emotion_columns = ['neutral', 'happiness', 'surprise', 'sadness', 'anger', \n",
    "                   'disgust', 'fear', 'contempt', 'unknown', 'NF']\n",
    "\n",
    "# Finding the index of the maximum value in the emotion columns\n",
    "clean_df['predominant_emotion_index'] = clean_df[emotion_columns].idxmax(axis=1).apply(emotion_columns.index)\n",
    "\n",
    "# Drop the original emotion columns\n",
    "emo_idx_df = clean_df.drop(columns=emotion_columns)\n",
    "\n",
    "# Show the updated dataset with the new 'predominant_emotion_index' column\n",
    "emo_idx_df"
   ]
  },
  {
   "cell_type": "code",
   "execution_count": 22,
   "id": "10ce085a",
   "metadata": {},
   "outputs": [
    {
     "name": "stdout",
     "output_type": "stream",
     "text": [
      "Usage\n",
      "Training       28561\n",
      "PublicTest      3579\n",
      "PrivateTest     3574\n",
      "Name: count, dtype: int64\n"
     ]
    }
   ],
   "source": [
    "# Count of row types\n",
    "print(emo_idx_df['Usage'].value_counts())"
   ]
  },
  {
   "cell_type": "code",
   "execution_count": 23,
   "id": "24bb0136",
   "metadata": {},
   "outputs": [
    {
     "name": "stdout",
     "output_type": "stream",
     "text": [
      "       Emotion  Count\n",
      "0      neutral  12906\n",
      "1    happiness   9355\n",
      "2     surprise   4462\n",
      "3      sadness   4371\n",
      "4        anger   3111\n",
      "5      disgust    248\n",
      "6         fear    819\n",
      "7     contempt    216\n",
      "8      unknown    222\n",
      "9   not a face      4\n",
      "10       Total  35714\n"
     ]
    }
   ],
   "source": [
    "emotion_labels = {\n",
    "    0: \"neutral\",\n",
    "    1: \"happiness\",\n",
    "    2: \"surprise\",\n",
    "    3: \"sadness\",\n",
    "    4: \"anger\",\n",
    "    5: \"disgust\",\n",
    "    6: \"fear\",\n",
    "    7: \"contempt\",\n",
    "    8: \"unknown\",\n",
    "    9: \"not a face\"\n",
    "}\n",
    "\n",
    "unique_indices, counts = np.unique(emo_idx_df['predominant_emotion_index'], return_counts=True)\n",
    "\n",
    "# Create a DataFrame\n",
    "emotion_counts = pd.DataFrame({\n",
    "    'Emotion': [emotion_labels[index] for index in unique_indices],\n",
    "    'Count': counts\n",
    "})\n",
    "\n",
    "# Add a total row\n",
    "total = emotion_counts['Count'].sum()\n",
    "total_row = pd.DataFrame({'Emotion': ['Total'], 'Count': [total]})\n",
    "emotion_counts = pd.concat([emotion_counts, total_row], ignore_index=True)\n",
    "\n",
    "# Display the DataFrame\n",
    "print(emotion_counts)"
   ]
  },
  {
   "cell_type": "code",
   "execution_count": 27,
   "id": "d8cb6851",
   "metadata": {},
   "outputs": [
    {
     "name": "stdout",
     "output_type": "stream",
     "text": [
      "<class 'pandas.core.frame.DataFrame'>\n",
      "Index: 35710 entries, 0 to 35886\n",
      "Data columns (total 3 columns):\n",
      " #   Column                     Non-Null Count  Dtype \n",
      "---  ------                     --------------  ----- \n",
      " 0   Usage                      35710 non-null  object\n",
      " 1   Image name                 35710 non-null  object\n",
      " 2   predominant_emotion_index  35710 non-null  int64 \n",
      "dtypes: int64(1), object(2)\n",
      "memory usage: 1.1+ MB\n"
     ]
    }
   ],
   "source": [
    "emo_idx_df = emo_idx_df[emo_idx_df['predominant_emotion_index'] != 9]\n",
    "emo_idx_df.info()"
   ]
  },
  {
   "cell_type": "code",
   "execution_count": 38,
   "id": "c6fa8ce0",
   "metadata": {},
   "outputs": [
    {
     "name": "stdout",
     "output_type": "stream",
     "text": [
      "     Emotion  Count\n",
      "0    neutral  12906\n",
      "1  happiness   9355\n",
      "2   surprise   4462\n",
      "3    sadness   4371\n",
      "4      anger   3111\n",
      "5    disgust    248\n",
      "6       fear    819\n",
      "7   contempt    216\n",
      "8    unknown    222\n",
      "9      Total  35710\n"
     ]
    },
    {
     "data": {
      "image/png": "[encoded data removed]",
      "text/plain": [
       "<Figure size 1000x600 with 1 Axes>"
      ]
     },
     "metadata": {},
     "output_type": "display_data"
    }
   ],
   "source": [
    "unique_indices, counts = np.unique(emo_idx_df['predominant_emotion_index'], return_counts=True)\n",
    "\n",
    "# Create a DataFrame\n",
    "emotion_counts = pd.DataFrame({\n",
    "    'Emotion': [emotion_labels[index] for index in unique_indices],\n",
    "    'Count': counts\n",
    "})\n",
    "\n",
    "# Add a total row\n",
    "total = emotion_counts['Count'].sum()\n",
    "total_row = pd.DataFrame({'Emotion': ['Total'], 'Count': [total]})\n",
    "emotion_counts = pd.concat([emotion_counts, total_row], ignore_index=True)\n",
    "\n",
    "# Display the DataFrame\n",
    "print(emotion_counts)\n",
    "\n",
    "plt.figure(figsize=(10, 6))\n",
    "plt.bar(emotion_counts['Emotion'][:-1], emotion_counts['Count'][:-1], color='skyblue')\n",
    "plt.xlabel('Emotion')\n",
    "plt.ylabel('Count')\n",
    "plt.title('Distribution of Predominant Emotions')\n",
    "plt.xticks(rotation=45)\n",
    "plt.tight_layout()\n",
    "plt.show()"
   ]
  },
  {
   "cell_type": "markdown",
   "id": "27e07020",
   "metadata": {},
   "source": [
    "## Splitting data"
   ]
  },
  {
   "cell_type": "code",
   "execution_count": 37,
   "id": "dff3fac3",
   "metadata": {},
   "outputs": [
    {
     "data": {
      "text/plain": [
       "((28559, 3), (3578, 3), (3573, 3))"
      ]
     },
     "execution_count": 37,
     "metadata": {},
     "output_type": "execute_result"
    }
   ],
   "source": [
    "# Creating separate DataFrame variables for each 'Usage' type\n",
    "train_df = emo_idx_df[emo_idx_df['Usage'] == 'Training']\n",
    "valid_df = emo_idx_df[emo_idx_df['Usage'] == 'PublicTest']\n",
    "test_df = emo_idx_df[emo_idx_df['Usage'] == 'PrivateTest']\n",
    "train_df.shape, valid_df.shape, test_df.shape"
   ]
  },
  {
   "cell_type": "code",
   "execution_count": 42,
   "id": "aed4772b",
   "metadata": {},
   "outputs": [
    {
     "name": "stdout",
     "output_type": "stream",
     "text": [
      "     Emotion  Count\n",
      "0    neutral  10309\n",
      "1  happiness   7528\n",
      "2   surprise   3562\n",
      "3    sadness   3515\n",
      "4      anger   2467\n",
      "5    disgust    191\n",
      "6       fear    652\n",
      "7   contempt    165\n",
      "8    unknown    170\n",
      "9      Total  28559\n"
     ]
    }
   ],
   "source": [
    "unique_indices, counts = np.unique(train_df['predominant_emotion_index'], return_counts=True)\n",
    "\n",
    "# Create a DataFrame\n",
    "emotion_counts = pd.DataFrame({\n",
    "    'Emotion': [emotion_labels[index] for index in unique_indices],\n",
    "    'Count': counts\n",
    "})\n",
    "\n",
    "# Add a total row\n",
    "total = emotion_counts['Count'].sum()\n",
    "total_row = pd.DataFrame({'Emotion': ['Total'], 'Count': [total]})\n",
    "emotion_counts = pd.concat([emotion_counts, total_row], ignore_index=True)\n",
    "\n",
    "# Display the DataFrame\n",
    "print(emotion_counts)"
   ]
  },
  {
   "cell_type": "code",
   "execution_count": 43,
   "id": "ef28f843",
   "metadata": {},
   "outputs": [
    {
     "name": "stdout",
     "output_type": "stream",
     "text": [
      "     Emotion  Count\n",
      "0    neutral   1335\n",
      "1  happiness    899\n",
      "2   surprise    456\n",
      "3    sadness    412\n",
      "4      anger    319\n",
      "5    disgust     34\n",
      "6       fear     74\n",
      "7   contempt     24\n",
      "8    unknown     25\n",
      "9      Total   3578\n"
     ]
    }
   ],
   "source": [
    "unique_indices, counts = np.unique(valid_df['predominant_emotion_index'], return_counts=True)\n",
    "\n",
    "# Create a DataFrame\n",
    "emotion_counts = pd.DataFrame({\n",
    "    'Emotion': [emotion_labels[index] for index in unique_indices],\n",
    "    'Count': counts\n",
    "})\n",
    "\n",
    "# Add a total row\n",
    "total = emotion_counts['Count'].sum()\n",
    "total_row = pd.DataFrame({'Emotion': ['Total'], 'Count': [total]})\n",
    "emotion_counts = pd.concat([emotion_counts, total_row], ignore_index=True)\n",
    "\n",
    "# Display the DataFrame\n",
    "print(emotion_counts)"
   ]
  },
  {
   "cell_type": "code",
   "execution_count": 44,
   "id": "5f870b1c",
   "metadata": {},
   "outputs": [
    {
     "name": "stdout",
     "output_type": "stream",
     "text": [
      "     Emotion  Count\n",
      "0    neutral   1262\n",
      "1  happiness    928\n",
      "2   surprise    444\n",
      "3    sadness    444\n",
      "4      anger    325\n",
      "5    disgust     23\n",
      "6       fear     93\n",
      "7   contempt     27\n",
      "8    unknown     27\n",
      "9      Total   3573\n"
     ]
    }
   ],
   "source": [
    "unique_indices, counts = np.unique(test_df['predominant_emotion_index'], return_counts=True)\n",
    "\n",
    "# Create a DataFrame\n",
    "emotion_counts = pd.DataFrame({\n",
    "    'Emotion': [emotion_labels[index] for index in unique_indices],\n",
    "    'Count': counts\n",
    "})\n",
    "\n",
    "# Add a total row\n",
    "total = emotion_counts['Count'].sum()\n",
    "total_row = pd.DataFrame({'Emotion': ['Total'], 'Count': [total]})\n",
    "emotion_counts = pd.concat([emotion_counts, total_row], ignore_index=True)\n",
    "\n",
    "# Display the DataFrame\n",
    "print(emotion_counts)"
   ]
  },
  {
   "cell_type": "markdown",
   "id": "b00f3c85",
   "metadata": {},
   "source": [
    "## Image Loading and Normalization"
   ]
  },
  {
   "cell_type": "code",
   "execution_count": 64,
   "id": "35761524",
   "metadata": {},
   "outputs": [
    {
     "name": "stdout",
     "output_type": "stream",
     "text": [
      "Train images shape: (28559, 48, 48) float64\n",
      "Train labels shape: (28559,) int32\n",
      "Valid images shape: (3578, 48, 48) float64\n",
      "Valid labels shape: (3578,) int32\n",
      "Tests images shape: (3573, 48, 48) float64\n",
      "Tests labels shape: (3573,) int32\n"
     ]
    }
   ],
   "source": [
    "# Load and normalize images\n",
    "def load_images(data, base_path):\n",
    "    images = []\n",
    "    labels = []\n",
    "    paths = []\n",
    "    \n",
    "    # Mapping from Usage to directory names\n",
    "    directory_map = {\n",
    "        \"Training\": \"FER2013Train\",\n",
    "        \"PublicTest\": \"FER2013Valid\",\n",
    "        \"PrivateTest\": \"FER2013Test\"\n",
    "    }\n",
    "    \n",
    "    for idx, row in data.iterrows():\n",
    "        directory = directory_map.get(row['Usage'], None)\n",
    "        if directory:\n",
    "            image_path = os.path.join(base_path, directory, row['Image name'])\n",
    "            \n",
    "            if os.path.exists(image_path):\n",
    "                # Load the image\n",
    "                image = Image.open(image_path).convert('L')  # Convert to grayscale\n",
    "                image_array = np.array(image) / 255.0  # Normalize to 0-1\n",
    "                \n",
    "                # Append data\n",
    "                images.append(image_array)\n",
    "                labels.append(row['predominant_emotion_index'])  # Select emotion intensity columns\n",
    "                paths.append(image_path)\n",
    "    \n",
    "    return np.array(images), np.array(labels), paths\n",
    "\n",
    "# Base path for images\n",
    "base_image_path = 'FERPLUS-master/data'\n",
    "\n",
    "# Load images and their labels\n",
    "train_images, train_labels, train_image_paths = load_images(train_df, base_image_path)\n",
    "valid_images, valid_labels, valid_image_paths = load_images(valid_df, base_image_path)\n",
    "test_images, test_labels, test_image_paths = load_images(test_df, base_image_path)\n",
    "\n",
    "# Check shapes and an example path\n",
    "print(\"Train images shape:\", train_images.shape, train_images.dtype)\n",
    "print(\"Train labels shape:\", train_labels.shape, train_labels.dtype)\n",
    "\n",
    "print(\"Valid images shape:\", valid_images.shape, valid_images.dtype)\n",
    "print(\"Valid labels shape:\", valid_labels.shape, valid_labels.dtype)\n",
    "\n",
    "print(\"Tests images shape:\", test_images.shape, test_images.dtype)\n",
    "print(\"Tests labels shape:\", test_labels.shape, test_labels.dtype)\n"
   ]
  },
  {
   "cell_type": "markdown",
   "id": "c6513db2",
   "metadata": {},
   "source": [
    "# Basic CNN"
   ]
  },
  {
   "cell_type": "code",
   "execution_count": 52,
   "id": "6b0f4974",
   "metadata": {},
   "outputs": [
    {
     "name": "stderr",
     "output_type": "stream",
     "text": [
      "d:\\Julio\\Uc3m\\TFG\\venv\\lib\\site-packages\\keras\\src\\layers\\convolutional\\base_conv.py:107: UserWarning: Do not pass an `input_shape`/`input_dim` argument to a layer. When using Sequential models, prefer using an `Input(shape)` object as the first layer in the model instead.\n",
      "  super().__init__(activity_regularizer=activity_regularizer, **kwargs)\n"
     ]
    },
    {
     "data": {
      "text/html": [
       "<pre style=\"white-space:pre;overflow-x:auto;line-height:normal;font-family:Menlo,'DejaVu Sans Mono',consolas,'Courier New',monospace\"><span style=\"font-weight: bold\">Model: \"sequential\"</span>\n",
       "</pre>\n"
      ],
      "text/plain": [
       "\u001b[1mModel: \"sequential\"\u001b[0m\n"
      ]
     },
     "metadata": {},
     "output_type": "display_data"
    },
    {
     "data": {
      "text/html": [
       "<pre style=\"white-space:pre;overflow-x:auto;line-height:normal;font-family:Menlo,'DejaVu Sans Mono',consolas,'Courier New',monospace\">┏━━━━━━━━━━━━━━━━━━━━━━━━━━━━━━━━━┳━━━━━━━━━━━━━━━━━━━━━━━━┳━━━━━━━━━━━━━━━┓\n",
       "┃<span style=\"font-weight: bold\"> Layer (type)                    </span>┃<span style=\"font-weight: bold\"> Output Shape           </span>┃<span style=\"font-weight: bold\">       Param # </span>┃\n",
       "┡━━━━━━━━━━━━━━━━━━━━━━━━━━━━━━━━━╇━━━━━━━━━━━━━━━━━━━━━━━━╇━━━━━━━━━━━━━━━┩\n",
       "│ conv2d (<span style=\"color: #0087ff; text-decoration-color: #0087ff\">Conv2D</span>)                 │ (<span style=\"color: #00d7ff; text-decoration-color: #00d7ff\">None</span>, <span style=\"color: #00af00; text-decoration-color: #00af00\">46</span>, <span style=\"color: #00af00; text-decoration-color: #00af00\">46</span>, <span style=\"color: #00af00; text-decoration-color: #00af00\">32</span>)     │           <span style=\"color: #00af00; text-decoration-color: #00af00\">320</span> │\n",
       "├─────────────────────────────────┼────────────────────────┼───────────────┤\n",
       "│ max_pooling2d (<span style=\"color: #0087ff; text-decoration-color: #0087ff\">MaxPooling2D</span>)    │ (<span style=\"color: #00d7ff; text-decoration-color: #00d7ff\">None</span>, <span style=\"color: #00af00; text-decoration-color: #00af00\">23</span>, <span style=\"color: #00af00; text-decoration-color: #00af00\">23</span>, <span style=\"color: #00af00; text-decoration-color: #00af00\">32</span>)     │             <span style=\"color: #00af00; text-decoration-color: #00af00\">0</span> │\n",
       "├─────────────────────────────────┼────────────────────────┼───────────────┤\n",
       "│ conv2d_1 (<span style=\"color: #0087ff; text-decoration-color: #0087ff\">Conv2D</span>)               │ (<span style=\"color: #00d7ff; text-decoration-color: #00d7ff\">None</span>, <span style=\"color: #00af00; text-decoration-color: #00af00\">21</span>, <span style=\"color: #00af00; text-decoration-color: #00af00\">21</span>, <span style=\"color: #00af00; text-decoration-color: #00af00\">64</span>)     │        <span style=\"color: #00af00; text-decoration-color: #00af00\">18,496</span> │\n",
       "├─────────────────────────────────┼────────────────────────┼───────────────┤\n",
       "│ max_pooling2d_1 (<span style=\"color: #0087ff; text-decoration-color: #0087ff\">MaxPooling2D</span>)  │ (<span style=\"color: #00d7ff; text-decoration-color: #00d7ff\">None</span>, <span style=\"color: #00af00; text-decoration-color: #00af00\">10</span>, <span style=\"color: #00af00; text-decoration-color: #00af00\">10</span>, <span style=\"color: #00af00; text-decoration-color: #00af00\">64</span>)     │             <span style=\"color: #00af00; text-decoration-color: #00af00\">0</span> │\n",
       "├─────────────────────────────────┼────────────────────────┼───────────────┤\n",
       "│ conv2d_2 (<span style=\"color: #0087ff; text-decoration-color: #0087ff\">Conv2D</span>)               │ (<span style=\"color: #00d7ff; text-decoration-color: #00d7ff\">None</span>, <span style=\"color: #00af00; text-decoration-color: #00af00\">8</span>, <span style=\"color: #00af00; text-decoration-color: #00af00\">8</span>, <span style=\"color: #00af00; text-decoration-color: #00af00\">128</span>)      │        <span style=\"color: #00af00; text-decoration-color: #00af00\">73,856</span> │\n",
       "├─────────────────────────────────┼────────────────────────┼───────────────┤\n",
       "│ max_pooling2d_2 (<span style=\"color: #0087ff; text-decoration-color: #0087ff\">MaxPooling2D</span>)  │ (<span style=\"color: #00d7ff; text-decoration-color: #00d7ff\">None</span>, <span style=\"color: #00af00; text-decoration-color: #00af00\">4</span>, <span style=\"color: #00af00; text-decoration-color: #00af00\">4</span>, <span style=\"color: #00af00; text-decoration-color: #00af00\">128</span>)      │             <span style=\"color: #00af00; text-decoration-color: #00af00\">0</span> │\n",
       "├─────────────────────────────────┼────────────────────────┼───────────────┤\n",
       "│ flatten (<span style=\"color: #0087ff; text-decoration-color: #0087ff\">Flatten</span>)               │ (<span style=\"color: #00d7ff; text-decoration-color: #00d7ff\">None</span>, <span style=\"color: #00af00; text-decoration-color: #00af00\">2048</span>)           │             <span style=\"color: #00af00; text-decoration-color: #00af00\">0</span> │\n",
       "├─────────────────────────────────┼────────────────────────┼───────────────┤\n",
       "│ dense (<span style=\"color: #0087ff; text-decoration-color: #0087ff\">Dense</span>)                   │ (<span style=\"color: #00d7ff; text-decoration-color: #00d7ff\">None</span>, <span style=\"color: #00af00; text-decoration-color: #00af00\">128</span>)            │       <span style=\"color: #00af00; text-decoration-color: #00af00\">262,272</span> │\n",
       "├─────────────────────────────────┼────────────────────────┼───────────────┤\n",
       "│ dropout (<span style=\"color: #0087ff; text-decoration-color: #0087ff\">Dropout</span>)               │ (<span style=\"color: #00d7ff; text-decoration-color: #00d7ff\">None</span>, <span style=\"color: #00af00; text-decoration-color: #00af00\">128</span>)            │             <span style=\"color: #00af00; text-decoration-color: #00af00\">0</span> │\n",
       "├─────────────────────────────────┼────────────────────────┼───────────────┤\n",
       "│ dense_1 (<span style=\"color: #0087ff; text-decoration-color: #0087ff\">Dense</span>)                 │ (<span style=\"color: #00d7ff; text-decoration-color: #00d7ff\">None</span>, <span style=\"color: #00af00; text-decoration-color: #00af00\">10</span>)             │         <span style=\"color: #00af00; text-decoration-color: #00af00\">1,290</span> │\n",
       "└─────────────────────────────────┴────────────────────────┴───────────────┘\n",
       "</pre>\n"
      ],
      "text/plain": [
       "┏━━━━━━━━━━━━━━━━━━━━━━━━━━━━━━━━━┳━━━━━━━━━━━━━━━━━━━━━━━━┳━━━━━━━━━━━━━━━┓\n",
       "┃\u001b[1m \u001b[0m\u001b[1mLayer (type)                   \u001b[0m\u001b[1m \u001b[0m┃\u001b[1m \u001b[0m\u001b[1mOutput Shape          \u001b[0m\u001b[1m \u001b[0m┃\u001b[1m \u001b[0m\u001b[1m      Param #\u001b[0m\u001b[1m \u001b[0m┃\n",
       "┡━━━━━━━━━━━━━━━━━━━━━━━━━━━━━━━━━╇━━━━━━━━━━━━━━━━━━━━━━━━╇━━━━━━━━━━━━━━━┩\n",
       "│ conv2d (\u001b[38;5;33mConv2D\u001b[0m)                 │ (\u001b[38;5;45mNone\u001b[0m, \u001b[38;5;34m46\u001b[0m, \u001b[38;5;34m46\u001b[0m, \u001b[38;5;34m32\u001b[0m)     │           \u001b[38;5;34m320\u001b[0m │\n",
       "├─────────────────────────────────┼────────────────────────┼───────────────┤\n",
       "│ max_pooling2d (\u001b[38;5;33mMaxPooling2D\u001b[0m)    │ (\u001b[38;5;45mNone\u001b[0m, \u001b[38;5;34m23\u001b[0m, \u001b[38;5;34m23\u001b[0m, \u001b[38;5;34m32\u001b[0m)     │             \u001b[38;5;34m0\u001b[0m │\n",
       "├─────────────────────────────────┼────────────────────────┼───────────────┤\n",
       "│ conv2d_1 (\u001b[38;5;33mConv2D\u001b[0m)               │ (\u001b[38;5;45mNone\u001b[0m, \u001b[38;5;34m21\u001b[0m, \u001b[38;5;34m21\u001b[0m, \u001b[38;5;34m64\u001b[0m)     │        \u001b[38;5;34m18,496\u001b[0m │\n",
       "├─────────────────────────────────┼────────────────────────┼───────────────┤\n",
       "│ max_pooling2d_1 (\u001b[38;5;33mMaxPooling2D\u001b[0m)  │ (\u001b[38;5;45mNone\u001b[0m, \u001b[38;5;34m10\u001b[0m, \u001b[38;5;34m10\u001b[0m, \u001b[38;5;34m64\u001b[0m)     │             \u001b[38;5;34m0\u001b[0m │\n",
       "├─────────────────────────────────┼────────────────────────┼───────────────┤\n",
       "│ conv2d_2 (\u001b[38;5;33mConv2D\u001b[0m)               │ (\u001b[38;5;45mNone\u001b[0m, \u001b[38;5;34m8\u001b[0m, \u001b[38;5;34m8\u001b[0m, \u001b[38;5;34m128\u001b[0m)      │        \u001b[38;5;34m73,856\u001b[0m │\n",
       "├─────────────────────────────────┼────────────────────────┼───────────────┤\n",
       "│ max_pooling2d_2 (\u001b[38;5;33mMaxPooling2D\u001b[0m)  │ (\u001b[38;5;45mNone\u001b[0m, \u001b[38;5;34m4\u001b[0m, \u001b[38;5;34m4\u001b[0m, \u001b[38;5;34m128\u001b[0m)      │             \u001b[38;5;34m0\u001b[0m │\n",
       "├─────────────────────────────────┼────────────────────────┼───────────────┤\n",
       "│ flatten (\u001b[38;5;33mFlatten\u001b[0m)               │ (\u001b[38;5;45mNone\u001b[0m, \u001b[38;5;34m2048\u001b[0m)           │             \u001b[38;5;34m0\u001b[0m │\n",
       "├─────────────────────────────────┼────────────────────────┼───────────────┤\n",
       "│ dense (\u001b[38;5;33mDense\u001b[0m)                   │ (\u001b[38;5;45mNone\u001b[0m, \u001b[38;5;34m128\u001b[0m)            │       \u001b[38;5;34m262,272\u001b[0m │\n",
       "├─────────────────────────────────┼────────────────────────┼───────────────┤\n",
       "│ dropout (\u001b[38;5;33mDropout\u001b[0m)               │ (\u001b[38;5;45mNone\u001b[0m, \u001b[38;5;34m128\u001b[0m)            │             \u001b[38;5;34m0\u001b[0m │\n",
       "├─────────────────────────────────┼────────────────────────┼───────────────┤\n",
       "│ dense_1 (\u001b[38;5;33mDense\u001b[0m)                 │ (\u001b[38;5;45mNone\u001b[0m, \u001b[38;5;34m10\u001b[0m)             │         \u001b[38;5;34m1,290\u001b[0m │\n",
       "└─────────────────────────────────┴────────────────────────┴───────────────┘\n"
      ]
     },
     "metadata": {},
     "output_type": "display_data"
    },
    {
     "data": {
      "text/html": [
       "<pre style=\"white-space:pre;overflow-x:auto;line-height:normal;font-family:Menlo,'DejaVu Sans Mono',consolas,'Courier New',monospace\"><span style=\"font-weight: bold\"> Total params: </span><span style=\"color: #00af00; text-decoration-color: #00af00\">356,234</span> (1.36 MB)\n",
       "</pre>\n"
      ],
      "text/plain": [
       "\u001b[1m Total params: \u001b[0m\u001b[38;5;34m356,234\u001b[0m (1.36 MB)\n"
      ]
     },
     "metadata": {},
     "output_type": "display_data"
    },
    {
     "data": {
      "text/html": [
       "<pre style=\"white-space:pre;overflow-x:auto;line-height:normal;font-family:Menlo,'DejaVu Sans Mono',consolas,'Courier New',monospace\"><span style=\"font-weight: bold\"> Trainable params: </span><span style=\"color: #00af00; text-decoration-color: #00af00\">356,234</span> (1.36 MB)\n",
       "</pre>\n"
      ],
      "text/plain": [
       "\u001b[1m Trainable params: \u001b[0m\u001b[38;5;34m356,234\u001b[0m (1.36 MB)\n"
      ]
     },
     "metadata": {},
     "output_type": "display_data"
    },
    {
     "data": {
      "text/html": [
       "<pre style=\"white-space:pre;overflow-x:auto;line-height:normal;font-family:Menlo,'DejaVu Sans Mono',consolas,'Courier New',monospace\"><span style=\"font-weight: bold\"> Non-trainable params: </span><span style=\"color: #00af00; text-decoration-color: #00af00\">0</span> (0.00 B)\n",
       "</pre>\n"
      ],
      "text/plain": [
       "\u001b[1m Non-trainable params: \u001b[0m\u001b[38;5;34m0\u001b[0m (0.00 B)\n"
      ]
     },
     "metadata": {},
     "output_type": "display_data"
    }
   ],
   "source": [
    "# Create a basic CNN model\n",
    "basic_model = Sequential([\n",
    "    Conv2D(32, (3, 3), activation='relu', input_shape=(48, 48, 1)),  # first conv layer\n",
    "    MaxPooling2D((2, 2)),  # first pooling layer\n",
    "    Conv2D(64, (3, 3), activation='relu'),  # second conv layer\n",
    "    MaxPooling2D((2, 2)),  # second pooling layer\n",
    "    Conv2D(128, (3, 3), activation='relu'),  # third conv layer\n",
    "    MaxPooling2D((2, 2)),  # third pooling layer\n",
    "    Flatten(),  # flatten the output for the dense layer\n",
    "    Dense(128, activation='relu'),  # fully connected layer\n",
    "    Dropout(0.5),  # dropout for regularization\n",
    "    Dense(10, activation='softmax')  # output layer with 10 units for each emotion\n",
    "])\n",
    "\n",
    "basic_model.summary()  # This will print the summary of the model architecture"
   ]
  },
  {
   "cell_type": "code",
   "execution_count": 53,
   "id": "9eb20988",
   "metadata": {},
   "outputs": [],
   "source": [
    "# Compile the model\n",
    "basic_model.compile(\n",
    "    optimizer='adam',\n",
    "    loss='sparse_categorical_crossentropy',\n",
    "    metrics=['accuracy']\n",
    ")"
   ]
  },
  {
   "cell_type": "markdown",
   "id": "b9900989",
   "metadata": {},
   "source": [
    "## Reshape images to add channel dimension for CNN"
   ]
  },
  {
   "cell_type": "code",
   "execution_count": 54,
   "id": "2527ed2a",
   "metadata": {},
   "outputs": [],
   "source": [
    "# Reshape or modify the data to add a channel dimension for CNNs, expect an input shape like (batch, height, width, channels)\n",
    "# Channel dimension is 1 for grayscale images\n",
    "train_images = train_images.reshape((-1, 48, 48, 1))\n",
    "valid_images = valid_images.reshape((-1, 48, 48, 1))\n",
    "test_images = test_images.reshape((-1, 48, 48, 1))"
   ]
  },
  {
   "cell_type": "code",
   "execution_count": 56,
   "id": "81ee3540",
   "metadata": {},
   "outputs": [
    {
     "name": "stdout",
     "output_type": "stream",
     "text": [
      "Train images shape: (28559, 48, 48, 1) float64\n",
      "Train labels shape: (28559,) int32\n",
      "Valid images shape: (3578, 48, 48, 1) float64\n",
      "Valid labels shape: (3578,) int32\n",
      "Tests images shape: (3573, 48, 48, 1) float64\n",
      "Tests labels shape: (3573,) int32\n"
     ]
    }
   ],
   "source": [
    "print(\"Train images shape:\", train_images.shape, train_images.dtype)\n",
    "print(\"Train labels shape:\", train_labels.shape, train_labels.dtype)\n",
    "\n",
    "print(\"Valid images shape:\", valid_images.shape, valid_images.dtype)\n",
    "print(\"Valid labels shape:\", valid_labels.shape, valid_labels.dtype)\n",
    "\n",
    "print(\"Tests images shape:\", test_images.shape, test_images.dtype)\n",
    "print(\"Tests labels shape:\", test_labels.shape, test_labels.dtype)"
   ]
  },
  {
   "cell_type": "markdown",
   "id": "4c82d721",
   "metadata": {},
   "source": [
    "## Fit model"
   ]
  },
  {
   "cell_type": "code",
   "execution_count": 57,
   "id": "96286a0e",
   "metadata": {},
   "outputs": [
    {
     "name": "stdout",
     "output_type": "stream",
     "text": [
      "Epoch 1/30\n",
      "\u001b[1m447/447\u001b[0m \u001b[32m━━━━━━━━━━━━━━━━━━━━\u001b[0m\u001b[37m\u001b[0m \u001b[1m10s\u001b[0m 21ms/step - accuracy: 0.3587 - loss: 1.6834 - val_accuracy: 0.5439 - val_loss: 1.3473\n",
      "Epoch 2/30\n",
      "\u001b[1m447/447\u001b[0m \u001b[32m━━━━━━━━━━━━━━━━━━━━\u001b[0m\u001b[37m\u001b[0m \u001b[1m10s\u001b[0m 20ms/step - accuracy: 0.5633 - loss: 1.3017 - val_accuracy: 0.6230 - val_loss: 1.0851\n",
      "Epoch 3/30\n",
      "\u001b[1m447/447\u001b[0m \u001b[32m━━━━━━━━━━━━━━━━━━━━\u001b[0m\u001b[37m\u001b[0m \u001b[1m9s\u001b[0m 20ms/step - accuracy: 0.6316 - loss: 1.0808 - val_accuracy: 0.6722 - val_loss: 0.9560\n",
      "Epoch 4/30\n",
      "\u001b[1m447/447\u001b[0m \u001b[32m━━━━━━━━━━━━━━━━━━━━\u001b[0m\u001b[37m\u001b[0m \u001b[1m9s\u001b[0m 19ms/step - accuracy: 0.6649 - loss: 0.9861 - val_accuracy: 0.6878 - val_loss: 0.9015\n",
      "Epoch 5/30\n",
      "\u001b[1m447/447\u001b[0m \u001b[32m━━━━━━━━━━━━━━━━━━━━\u001b[0m\u001b[37m\u001b[0m \u001b[1m9s\u001b[0m 19ms/step - accuracy: 0.6928 - loss: 0.9011 - val_accuracy: 0.7018 - val_loss: 0.8630\n",
      "Epoch 6/30\n",
      "\u001b[1m447/447\u001b[0m \u001b[32m━━━━━━━━━━━━━━━━━━━━\u001b[0m\u001b[37m\u001b[0m \u001b[1m9s\u001b[0m 19ms/step - accuracy: 0.7066 - loss: 0.8468 - val_accuracy: 0.6970 - val_loss: 0.8624\n",
      "Epoch 7/30\n",
      "\u001b[1m447/447\u001b[0m \u001b[32m━━━━━━━━━━━━━━━━━━━━\u001b[0m\u001b[37m\u001b[0m \u001b[1m9s\u001b[0m 19ms/step - accuracy: 0.7264 - loss: 0.7931 - val_accuracy: 0.7230 - val_loss: 0.8153\n",
      "Epoch 8/30\n",
      "\u001b[1m447/447\u001b[0m \u001b[32m━━━━━━━━━━━━━━━━━━━━\u001b[0m\u001b[37m\u001b[0m \u001b[1m9s\u001b[0m 19ms/step - accuracy: 0.7378 - loss: 0.7537 - val_accuracy: 0.7275 - val_loss: 0.8061\n",
      "Epoch 9/30\n",
      "\u001b[1m447/447\u001b[0m \u001b[32m━━━━━━━━━━━━━━━━━━━━\u001b[0m\u001b[37m\u001b[0m \u001b[1m9s\u001b[0m 19ms/step - accuracy: 0.7610 - loss: 0.6958 - val_accuracy: 0.7325 - val_loss: 0.7870\n",
      "Epoch 10/30\n",
      "\u001b[1m447/447\u001b[0m \u001b[32m━━━━━━━━━━━━━━━━━━━━\u001b[0m\u001b[37m\u001b[0m \u001b[1m9s\u001b[0m 19ms/step - accuracy: 0.7710 - loss: 0.6632 - val_accuracy: 0.7362 - val_loss: 0.7911\n",
      "Epoch 11/30\n",
      "\u001b[1m447/447\u001b[0m \u001b[32m━━━━━━━━━━━━━━━━━━━━\u001b[0m\u001b[37m\u001b[0m \u001b[1m9s\u001b[0m 19ms/step - accuracy: 0.7770 - loss: 0.6285 - val_accuracy: 0.7392 - val_loss: 0.7988\n",
      "Epoch 12/30\n",
      "\u001b[1m447/447\u001b[0m \u001b[32m━━━━━━━━━━━━━━━━━━━━\u001b[0m\u001b[37m\u001b[0m \u001b[1m9s\u001b[0m 20ms/step - accuracy: 0.7871 - loss: 0.5930 - val_accuracy: 0.7362 - val_loss: 0.8123\n",
      "Epoch 13/30\n",
      "\u001b[1m447/447\u001b[0m \u001b[32m━━━━━━━━━━━━━━━━━━━━\u001b[0m\u001b[37m\u001b[0m \u001b[1m9s\u001b[0m 19ms/step - accuracy: 0.7992 - loss: 0.5618 - val_accuracy: 0.7364 - val_loss: 0.8187\n",
      "Epoch 14/30\n",
      "\u001b[1m447/447\u001b[0m \u001b[32m━━━━━━━━━━━━━━━━━━━━\u001b[0m\u001b[37m\u001b[0m \u001b[1m9s\u001b[0m 19ms/step - accuracy: 0.8152 - loss: 0.5220 - val_accuracy: 0.7378 - val_loss: 0.8579\n",
      "Epoch 15/30\n",
      "\u001b[1m447/447\u001b[0m \u001b[32m━━━━━━━━━━━━━━━━━━━━\u001b[0m\u001b[37m\u001b[0m \u001b[1m9s\u001b[0m 20ms/step - accuracy: 0.8202 - loss: 0.5085 - val_accuracy: 0.7395 - val_loss: 0.8311\n",
      "Epoch 16/30\n",
      "\u001b[1m447/447\u001b[0m \u001b[32m━━━━━━━━━━━━━━━━━━━━\u001b[0m\u001b[37m\u001b[0m \u001b[1m9s\u001b[0m 20ms/step - accuracy: 0.8320 - loss: 0.4709 - val_accuracy: 0.7356 - val_loss: 0.8630\n",
      "Epoch 17/30\n",
      "\u001b[1m447/447\u001b[0m \u001b[32m━━━━━━━━━━━━━━━━━━━━\u001b[0m\u001b[37m\u001b[0m \u001b[1m9s\u001b[0m 20ms/step - accuracy: 0.8367 - loss: 0.4492 - val_accuracy: 0.7415 - val_loss: 0.8939\n",
      "Epoch 18/30\n",
      "\u001b[1m447/447\u001b[0m \u001b[32m━━━━━━━━━━━━━━━━━━━━\u001b[0m\u001b[37m\u001b[0m \u001b[1m9s\u001b[0m 19ms/step - accuracy: 0.8392 - loss: 0.4407 - val_accuracy: 0.7359 - val_loss: 0.9153\n",
      "Epoch 19/30\n",
      "\u001b[1m447/447\u001b[0m \u001b[32m━━━━━━━━━━━━━━━━━━━━\u001b[0m\u001b[37m\u001b[0m \u001b[1m9s\u001b[0m 19ms/step - accuracy: 0.8522 - loss: 0.4126 - val_accuracy: 0.7376 - val_loss: 0.9320\n",
      "Epoch 20/30\n",
      "\u001b[1m447/447\u001b[0m \u001b[32m━━━━━━━━━━━━━━━━━━━━\u001b[0m\u001b[37m\u001b[0m \u001b[1m9s\u001b[0m 19ms/step - accuracy: 0.8544 - loss: 0.3942 - val_accuracy: 0.7487 - val_loss: 1.0007\n",
      "Epoch 21/30\n",
      "\u001b[1m447/447\u001b[0m \u001b[32m━━━━━━━━━━━━━━━━━━━━\u001b[0m\u001b[37m\u001b[0m \u001b[1m9s\u001b[0m 19ms/step - accuracy: 0.8666 - loss: 0.3608 - val_accuracy: 0.7448 - val_loss: 1.0381\n",
      "Epoch 22/30\n",
      "\u001b[1m447/447\u001b[0m \u001b[32m━━━━━━━━━━━━━━━━━━━━\u001b[0m\u001b[37m\u001b[0m \u001b[1m9s\u001b[0m 19ms/step - accuracy: 0.8710 - loss: 0.3480 - val_accuracy: 0.7392 - val_loss: 1.0790\n",
      "Epoch 23/30\n",
      "\u001b[1m447/447\u001b[0m \u001b[32m━━━━━━━━━━━━━━━━━━━━\u001b[0m\u001b[37m\u001b[0m \u001b[1m9s\u001b[0m 20ms/step - accuracy: 0.8796 - loss: 0.3200 - val_accuracy: 0.7353 - val_loss: 1.0564\n",
      "Epoch 24/30\n",
      "\u001b[1m447/447\u001b[0m \u001b[32m━━━━━━━━━━━━━━━━━━━━\u001b[0m\u001b[37m\u001b[0m \u001b[1m9s\u001b[0m 19ms/step - accuracy: 0.8825 - loss: 0.3113 - val_accuracy: 0.7404 - val_loss: 1.1457\n",
      "Epoch 25/30\n",
      "\u001b[1m447/447\u001b[0m \u001b[32m━━━━━━━━━━━━━━━━━━━━\u001b[0m\u001b[37m\u001b[0m \u001b[1m9s\u001b[0m 19ms/step - accuracy: 0.8860 - loss: 0.3102 - val_accuracy: 0.7418 - val_loss: 1.1420\n",
      "Epoch 26/30\n",
      "\u001b[1m447/447\u001b[0m \u001b[32m━━━━━━━━━━━━━━━━━━━━\u001b[0m\u001b[37m\u001b[0m \u001b[1m9s\u001b[0m 19ms/step - accuracy: 0.8930 - loss: 0.2882 - val_accuracy: 0.7420 - val_loss: 1.2596\n",
      "Epoch 27/30\n",
      "\u001b[1m447/447\u001b[0m \u001b[32m━━━━━━━━━━━━━━━━━━━━\u001b[0m\u001b[37m\u001b[0m \u001b[1m9s\u001b[0m 20ms/step - accuracy: 0.8923 - loss: 0.2809 - val_accuracy: 0.7323 - val_loss: 1.2045\n",
      "Epoch 28/30\n",
      "\u001b[1m447/447\u001b[0m \u001b[32m━━━━━━━━━━━━━━━━━━━━\u001b[0m\u001b[37m\u001b[0m \u001b[1m9s\u001b[0m 19ms/step - accuracy: 0.8909 - loss: 0.2816 - val_accuracy: 0.7387 - val_loss: 1.2642\n",
      "Epoch 29/30\n",
      "\u001b[1m447/447\u001b[0m \u001b[32m━━━━━━━━━━━━━━━━━━━━\u001b[0m\u001b[37m\u001b[0m \u001b[1m9s\u001b[0m 19ms/step - accuracy: 0.8964 - loss: 0.2715 - val_accuracy: 0.7443 - val_loss: 1.3171\n",
      "Epoch 30/30\n",
      "\u001b[1m447/447\u001b[0m \u001b[32m━━━━━━━━━━━━━━━━━━━━\u001b[0m\u001b[37m\u001b[0m \u001b[1m9s\u001b[0m 20ms/step - accuracy: 0.9023 - loss: 0.2591 - val_accuracy: 0.7367 - val_loss: 1.3223\n"
     ]
    }
   ],
   "source": [
    "# Fit the model\n",
    "basic_model_history = basic_model.fit(\n",
    "    train_images, train_labels,\n",
    "    epochs=30,\n",
    "    batch_size=64,\n",
    "    validation_data=(valid_images, valid_labels)\n",
    ")"
   ]
  },
  {
   "cell_type": "markdown",
   "id": "c5c52e4d",
   "metadata": {},
   "source": [
    "## Evaluate"
   ]
  },
  {
   "cell_type": "code",
   "execution_count": 58,
   "id": "25a7039e",
   "metadata": {},
   "outputs": [
    {
     "name": "stdout",
     "output_type": "stream",
     "text": [
      "\u001b[1m112/112\u001b[0m \u001b[32m━━━━━━━━━━━━━━━━━━━━\u001b[0m\u001b[37m\u001b[0m \u001b[1m0s\u001b[0m 3ms/step - accuracy: 0.7162 - loss: 1.3877\n",
      "Test Accuracy: 0.7201231718063354\n"
     ]
    }
   ],
   "source": [
    "# Evaluate the model\n",
    "test_loss, test_acc = basic_model.evaluate(test_images, test_labels)\n",
    "print(\"Basic Model Test Accuracy:\", test_acc)"
   ]
  },
  {
   "cell_type": "markdown",
   "id": "4c7dc9ce",
   "metadata": {},
   "source": [
    "## Plot "
   ]
  },
  {
   "cell_type": "code",
   "execution_count": 59,
   "id": "6646205b",
   "metadata": {},
   "outputs": [
    {
     "data": {
      "image/png": "[encoded data removed]",
      "text/plain": [
       "<Figure size 1400x500 with 2 Axes>"
      ]
     },
     "metadata": {},
     "output_type": "display_data"
    }
   ],
   "source": [
    "# Plot the history\n",
    "# Assuming 'history' is the output from your model.fit()\n",
    "plt.figure(figsize=(14, 5))\n",
    "\n",
    "# Plot training & validation loss values\n",
    "plt.subplot(1, 2, 1)\n",
    "plt.plot(basic_model_history.history['loss'], label='Train Loss')\n",
    "plt.plot(basic_model_history.history['val_loss'], label='Validation Loss')\n",
    "plt.title('Basic Model Loss')\n",
    "plt.ylabel('Loss')\n",
    "plt.xlabel('Epoch')\n",
    "plt.legend(loc='upper right')\n",
    "\n",
    "# Plot training & validation mean squared error\n",
    "plt.subplot(1, 2, 2)\n",
    "plt.plot(basic_model_history.history['accuracy'], label='Train accuracy')\n",
    "plt.plot(basic_model_history.history['val_accuracy'], label='Validation accuracy')\n",
    "plt.title('Basic Model Accuracy')\n",
    "plt.ylabel('Accuracy')\n",
    "plt.xlabel('Epoch')\n",
    "plt.legend(loc='upper right')\n",
    "\n",
    "plt.tight_layout()\n",
    "plt.show()"
   ]
  },
  {
   "cell_type": "code",
   "execution_count": 60,
   "id": "052bea1e",
   "metadata": {},
   "outputs": [
    {
     "name": "stdout",
     "output_type": "stream",
     "text": [
      "\u001b[1m112/112\u001b[0m \u001b[32m━━━━━━━━━━━━━━━━━━━━\u001b[0m\u001b[37m\u001b[0m \u001b[1m0s\u001b[0m 4ms/step\n"
     ]
    },
    {
     "data": {
      "text/plain": [
       "(array([7, 3, 0, ..., 4, 1, 3]), array([0, 0, 2, ..., 0, 1, 3], dtype=int64))"
      ]
     },
     "execution_count": 60,
     "metadata": {},
     "output_type": "execute_result"
    }
   ],
   "source": [
    "# Get the prediction reusults\n",
    "predictions = basic_model.predict(test_images)\n",
    "predicted_labels = np.argmax(predictions, axis=1)\n",
    "test_labels, predicted_labels"
   ]
  },
  {
   "cell_type": "code",
   "execution_count": 61,
   "id": "61872ac5",
   "metadata": {},
   "outputs": [
    {
     "name": "stdout",
     "output_type": "stream",
     "text": [
      "Accuracy: 0.720123145815841\n"
     ]
    }
   ],
   "source": [
    "accuracy = accuracy_score(test_labels, predicted_labels)\n",
    "print(\"Basic Model Accuracy:\", accuracy)"
   ]
  },
  {
   "cell_type": "markdown",
   "id": "c6ff3df1",
   "metadata": {},
   "source": [
    "## Confusion Matrix"
   ]
  },
  {
   "cell_type": "code",
   "execution_count": 62,
   "id": "494605bc",
   "metadata": {},
   "outputs": [
    {
     "name": "stdout",
     "output_type": "stream",
     "text": [
      "Confusion Matrix:\n",
      " [[1004   70   32  118   27    3    5    3    0]\n",
      " [  81  772   31   29   13    0    2    0    0]\n",
      " [  45   21  352    9   10    0    7    0    0]\n",
      " [ 158   33   10  229   11    2    1    0    0]\n",
      " [  68   29   26   23  176    0    3    0    0]\n",
      " [   1    2    2    4    5    9    0    0    0]\n",
      " [  14    7   30   11    4    0   27    0    0]\n",
      " [  13    2    3    5    0    1    0    3    0]\n",
      " [  12    3    2    7    2    0    0    0    1]]\n"
     ]
    },
    {
     "data": {
      "image/png": "[encoded data removed]",
      "text/plain": [
       "<Figure size 1000x800 with 1 Axes>"
      ]
     },
     "metadata": {},
     "output_type": "display_data"
    }
   ],
   "source": [
    "# Get the confusion matrix\n",
    "conf_matrix = confusion_matrix(test_labels, predicted_labels)\n",
    "print(\"Basic Model Confusion Matrix:\\n\", conf_matrix)\n",
    "\n",
    "# Plotting the confusion matrix\n",
    "plt.figure(figsize=(10, 8))\n",
    "ax = sns.heatmap(conf_matrix, annot=True, fmt='d', cmap='Blues', xticklabels=emotion_labels.values(), yticklabels=emotion_labels.values(), cbar=False)\n",
    "plt.xlabel('Predicted Labels')\n",
    "plt.ylabel('True Labels')\n",
    "plt.title('Basic Model Confusion Matrix')\n",
    "\n",
    "# Move the X-axis to the top of the plot\n",
    "ax.xaxis.tick_top()  # X-axis on top\n",
    "ax.xaxis.set_label_position('top')  # Move the x-axis label to the top\n",
    "\n",
    "plt.show()"
   ]
  },
  {
   "cell_type": "markdown",
   "id": "6af4f1c1",
   "metadata": {},
   "source": [
    "# Advanced CNN (VGG-like, ResNet)"
   ]
  },
  {
   "cell_type": "markdown",
   "id": "67d23d61",
   "metadata": {},
   "source": [
    "## Preprocessing"
   ]
  },
  {
   "cell_type": "code",
   "execution_count": 63,
   "id": "327722f7",
   "metadata": {},
   "outputs": [
    {
     "name": "stdout",
     "output_type": "stream",
     "text": [
      "Train images shape: (28559, 48, 48, 1) float64\n",
      "Valid images shape: (3578, 48, 48, 1) float64\n",
      "Tests images shape: (3573, 48, 48, 1) float64\n",
      "Train labels shape: (28559,) int32\n",
      "Valid labels shape: (3578,) int32\n",
      "Tests labels shape: (3573,) int32\n"
     ]
    }
   ],
   "source": [
    "print(\"Train images shape:\", train_images.shape, train_images.dtype)\n",
    "print(\"Valid images shape:\", valid_images.shape, valid_images.dtype)\n",
    "print(\"Tests images shape:\", test_images.shape, test_images.dtype)\n",
    "\n",
    "print(\"Train labels shape:\", train_labels.shape, train_labels.dtype)\n",
    "print(\"Valid labels shape:\", valid_labels.shape, valid_labels.dtype)\n",
    "print(\"Tests labels shape:\", test_labels.shape, test_labels.dtype)"
   ]
  },
  {
   "cell_type": "markdown",
   "id": "8ceccf48",
   "metadata": {},
   "source": [
    "## Resize images and save"
   ]
  },
  {
   "cell_type": "code",
   "execution_count": 67,
   "id": "bd46741d",
   "metadata": {},
   "outputs": [],
   "source": [
    "# Function to save images resized and normalized, and label values to HDF5 \n",
    "def save_images_to_hdf5(train_df, valid_df, test_df, base_path, hdf5_file):\n",
    "    # Create a new HDF5 file or open an existing file\n",
    "    with h5py.File(hdf5_file, 'w') as file:\n",
    "        # Create datasets to store images, labels, and paths\n",
    "        train_images = file.create_dataset('train_images', (train_df.shape[0], 224, 224, 3), dtype='float64')\n",
    "        valid_images = file.create_dataset('valid_images', (valid_df.shape[0], 224, 224, 3), dtype='float64')\n",
    "        test_images = file.create_dataset('test_images', (test_df.shape[0], 224, 224, 3), dtype='float64')\n",
    "\n",
    "        train_labels = file.create_dataset('train_images_labels', (train_df.shape[0]), dtype='int32')\n",
    "        valid_labels = file.create_dataset('valid_images_labels', (valid_df.shape[0]), dtype='int32')\n",
    "        test_labels = file.create_dataset('test_images_labels', (test_df.shape[0]), dtype='int32')\n",
    "\n",
    "        directory_map = {\n",
    "            \"Training\": \"FER2013Train\",\n",
    "            \"PublicTest\": \"FER2013Valid\",\n",
    "            \"PrivateTest\": \"FER2013Test\"\n",
    "        }\n",
    "\n",
    "        # Counters for each dataset to track insertion positions\n",
    "        train_idx, valid_idx, test_idx = 0, 0, 0\n",
    "        \n",
    "        # Store images in corresponding datasets\n",
    "        for idx, row in train_df.iterrows():\n",
    "            directory = directory_map.get(row['Usage'], None)\n",
    "            if directory:\n",
    "                image_path = os.path.join(base_path, directory, row['Image name'])\n",
    "                label = row['predominant_emotion_index']\n",
    "\n",
    "                # Load and process the image\n",
    "                image = Image.open(image_path).convert('L')\n",
    "                image = image.resize((224, 224))\n",
    "                image_array = np.array(image) / 255.0\n",
    "                image_array = np.stack((image_array,)*3, axis=-1)\n",
    "\n",
    "                train_images[train_idx] = image_array\n",
    "                train_labels[train_idx] = label\n",
    "                train_idx += 1\n",
    "        \n",
    "        for idx, row in valid_df.iterrows():\n",
    "            directory = directory_map.get(row['Usage'], None)\n",
    "            if directory:\n",
    "                image_path = os.path.join(base_path, directory, row['Image name'])\n",
    "                label = row['predominant_emotion_index']\n",
    "\n",
    "                # Load and process the image\n",
    "                image = Image.open(image_path).convert('L')\n",
    "                image = image.resize((224, 224))\n",
    "                image_array = np.array(image) / 255.0\n",
    "                image_array = np.stack((image_array,)*3, axis=-1)\n",
    "\n",
    "                valid_images[valid_idx] = image_array\n",
    "                valid_labels[valid_idx] = label\n",
    "                valid_idx += 1\n",
    "\n",
    "        for idx, row in test_df.iterrows():\n",
    "            directory = directory_map.get(row['Usage'], None)\n",
    "            if directory:\n",
    "                image_path = os.path.join(base_path, directory, row['Image name'])\n",
    "                label = row['predominant_emotion_index']\n",
    "\n",
    "                # Load and process the image\n",
    "                image = Image.open(image_path).convert('L')\n",
    "                image = image.resize((224, 224))\n",
    "                image_array = np.array(image) / 255.0\n",
    "                image_array = np.stack((image_array,)*3, axis=-1)\n",
    "\n",
    "                test_images[test_idx] = image_array\n",
    "                test_labels[test_idx] = label\n",
    "                test_idx += 1\n",
    "\n",
    "# Base path for images\n",
    "base_image_path = 'FERPLUS-master/data'\n",
    "hdf5_file = 'processed_images.hdf5'\n",
    "\n",
    "# Assuming 'clean_df' is your DataFrame containing the image metadata\n",
    "save_images_to_hdf5(train_df, valid_df, test_df, base_image_path, hdf5_file)"
   ]
  },
  {
   "cell_type": "code",
   "execution_count": 68,
   "id": "4cc13082",
   "metadata": {},
   "outputs": [
    {
     "name": "stdout",
     "output_type": "stream",
     "text": [
      "Datasets contained within the file:\n",
      "Dataset Info: test_images, (3573, 224, 224, 3), float64\n",
      "Dataset Info: test_images_labels, (3573,), int32\n",
      "Dataset Info: train_images, (28559, 224, 224, 3), float64\n",
      "Dataset Info: train_images_labels, (28559,), int32\n",
      "Dataset Info: valid_images, (3578, 224, 224, 3), float64\n",
      "Dataset Info: valid_images_labels, (3578,), int32\n"
     ]
    }
   ],
   "source": [
    "# Function to inspect the contents of an HDF5 file\n",
    "def inspect_hdf5_file(filepath):\n",
    "    # Open the HDF5 file\n",
    "    with h5py.File(filepath, 'r') as file:\n",
    "        print(\"Datasets contained within the file:\")\n",
    "        for dataset_name in file:\n",
    "            # Access the dataset\n",
    "            dataset = file[dataset_name]\n",
    "            # Print details about the dataset\n",
    "            print(f\"Dataset Info: {dataset_name}, {dataset.shape}, {dataset.dtype}\")\n",
    "\n",
    "# Call the function to inspect the HDF5 file\n",
    "inspect_hdf5_file(hdf5_file)"
   ]
  },
  {
   "cell_type": "markdown",
   "id": "172ac90c",
   "metadata": {},
   "source": [
    "## Image generator function"
   ]
  },
  {
   "cell_type": "code",
   "execution_count": 69,
   "id": "661cace3",
   "metadata": {},
   "outputs": [],
   "source": [
    "# Define a generator function to load images from the HDF5 file\n",
    "def hdf5_image_generator(filepath, dataset_name, batch_size):\n",
    "    while True:  # Loop indefinitely\n",
    "        with h5py.File(filepath, 'r') as file:\n",
    "            images = file[dataset_name]\n",
    "            labels = file[dataset_name + '_labels']  # Adjust if your labels are stored differently\n",
    "            num_samples = images.shape[0]\n",
    "\n",
    "            for start in range(0, num_samples, batch_size):\n",
    "                end = min(start + batch_size, num_samples)\n",
    "                yield images[start:end], labels[start:end]\n",
    "\n",
    "batch_size = 32\n",
    "\n",
    "# Create generators for training and validation\n",
    "train_generator = hdf5_image_generator(hdf5_file, 'train_images', batch_size)\n",
    "valid_generator = hdf5_image_generator(hdf5_file, 'valid_images', batch_size)\n",
    "test_generator = hdf5_image_generator(hdf5_file, 'test_images', batch_size)\n",
    "\n",
    "# Get the lengths of the datasets\n",
    "def get_dataset_lengths(filepath):\n",
    "    with h5py.File(filepath, 'r') as file:\n",
    "        lengths = {}\n",
    "        for dataset_name in file:\n",
    "            dataset = file[dataset_name]\n",
    "            lengths[dataset_name] = len(dataset)\n",
    "    return lengths\n",
    "\n",
    "dataset_lengths = get_dataset_lengths(hdf5_file)\n",
    "train_steps_per_epoch = dataset_lengths['train_images'] // batch_size\n",
    "valid_steps = dataset_lengths['valid_images'] // batch_size\n",
    "test_steps = dataset_lengths['test_images'] // batch_size"
   ]
  },
  {
   "cell_type": "markdown",
   "id": "00becfd6",
   "metadata": {},
   "source": [
    "## Early stopping callback"
   ]
  },
  {
   "cell_type": "code",
   "execution_count": 70,
   "id": "f30d409c",
   "metadata": {},
   "outputs": [],
   "source": [
    "# Implement EarlyStopping callback function\n",
    "early_stopping = EarlyStopping(\n",
    "    monitor='val_loss',   # Monitor the validation loss\n",
    "    patience=10,          # Number of epochs with no improvement after which training will be stopped\n",
    "    verbose=1,            # Log when training stops\n",
    "    restore_best_weights=True  # Restores model weights from the epoch with the best value of the monitored metric\n",
    ")"
   ]
  },
  {
   "cell_type": "markdown",
   "id": "7a84e75a",
   "metadata": {},
   "source": [
    "## VGG16 Model"
   ]
  },
  {
   "cell_type": "code",
   "execution_count": 71,
   "id": "b5a52d32",
   "metadata": {},
   "outputs": [],
   "source": [
    "# Load the base model with pre-trained weights on ImageNet and without the top layer\n",
    "vgg16_base_model = VGG16(include_top=False, weights='imagenet', input_shape=(224, 224, 3))\n",
    "\n",
    "# Flatten the output layer to 1 dimension\n",
    "x = Flatten()(vgg16_base_model.output)\n",
    "\n",
    "# Add a fully connected layer with 256 hidden units and ReLU activation\n",
    "x = Dense(256, activation='relu')(x)\n",
    "x = Dropout(0.5)(x)\n",
    "\n",
    "# Add a final softmax layer for classification\n",
    "output = Dense(10, activation='softmax')(x)\n",
    "\n",
    "# Configure and compile the model\n",
    "vgg16_model = Model(inputs=vgg16_base_model.input, outputs=output)\n",
    "vgg16_model.compile(optimizer='adam', loss='sparse_categorical_crossentropy', metrics=['accuracy'])"
   ]
  },
  {
   "cell_type": "markdown",
   "id": "ba011387",
   "metadata": {},
   "source": [
    "### Fit model"
   ]
  },
  {
   "cell_type": "code",
   "execution_count": null,
   "id": "0a604deb",
   "metadata": {},
   "outputs": [],
   "source": [
    "# Fit the model using the generator\n",
    "vgg16_model_history = vgg16_model.fit(\n",
    "    train_generator,\n",
    "    steps_per_epoch=train_steps_per_epoch,\n",
    "    epochs=50,\n",
    "    validation_data=valid_generator,\n",
    "    validation_steps=valid_steps,\n",
    "    #callbacks=[early_stopping]\n",
    ")"
   ]
  },
  {
   "cell_type": "markdown",
   "id": "30fe305c",
   "metadata": {},
   "source": [
    "### Evaluate"
   ]
  },
  {
   "cell_type": "code",
   "execution_count": null,
   "id": "e115f447",
   "metadata": {},
   "outputs": [],
   "source": [
    "# Perform evaluation\n",
    "test_loss, test_acc = vgg16_model.evaluate(test_generator, steps=test_steps)\n",
    "print(\"VGG16 Model Test Accuracy:\", test_acc)"
   ]
  },
  {
   "cell_type": "markdown",
   "id": "b5d8e0e8",
   "metadata": {},
   "source": [
    "### Plot"
   ]
  },
  {
   "cell_type": "code",
   "execution_count": null,
   "id": "2ed68721",
   "metadata": {},
   "outputs": [],
   "source": [
    "# Plot the history\n",
    "# Assuming 'history' is the output from your model.fit()\n",
    "plt.figure(figsize=(14, 5))\n",
    "\n",
    "# Plot training & validation loss values\n",
    "plt.subplot(1, 2, 1)\n",
    "plt.plot(vgg16_model_history.history['loss'], label='Train Loss')\n",
    "plt.plot(vgg16_model_history.history['val_loss'], label='Validation Loss')\n",
    "plt.title('VGG16 Model Loss')\n",
    "plt.ylabel('Loss')\n",
    "plt.xlabel('Epoch')\n",
    "plt.legend(loc='upper right')\n",
    "\n",
    "# Plot training & validation mean squared error\n",
    "plt.subplot(1, 2, 2)\n",
    "plt.plot(vgg16_model_history.history['accuracy'], label='Train accuracy')\n",
    "plt.plot(vgg16_model_history.history['val_accuracy'], label='Validation accuracy')\n",
    "plt.title('VGG16 Model Accuracy')\n",
    "plt.ylabel('Accuracy')\n",
    "plt.xlabel('Epoch')\n",
    "plt.legend(loc='upper right')\n",
    "\n",
    "plt.tight_layout()\n",
    "plt.show()"
   ]
  },
  {
   "cell_type": "code",
   "execution_count": null,
   "id": "f61426b3",
   "metadata": {},
   "outputs": [],
   "source": [
    "predictions = vgg16_model.predict(test_generator, steps=test_steps)\n",
    "predicted_labels = np.argmax(predictions, axis=1)\n",
    "test_labels, predicted_labels"
   ]
  },
  {
   "cell_type": "code",
   "execution_count": null,
   "id": "6a648f34",
   "metadata": {},
   "outputs": [],
   "source": [
    "accuracy = accuracy_score(test_labels, predicted_labels)\n",
    "print(\"VGG16 Model Accuracy:\", accuracy)"
   ]
  },
  {
   "cell_type": "markdown",
   "id": "fdfce9ad",
   "metadata": {},
   "source": [
    "### Confusion Matrix"
   ]
  },
  {
   "cell_type": "code",
   "execution_count": null,
   "id": "9bb9f14f",
   "metadata": {},
   "outputs": [],
   "source": [
    "# Get the confusion matrix\n",
    "conf_matrix = confusion_matrix(test_labels, predicted_labels)\n",
    "print(\"VGG16 Model Confusion Matrix:\\n\", conf_matrix)\n",
    "\n",
    "# Plotting the confusion matrix\n",
    "plt.figure(figsize=(10, 8))\n",
    "ax = sns.heatmap(conf_matrix, annot=True, fmt='d', cmap='Blues', xticklabels=emotion_labels.values(), yticklabels=emotion_labels.values(), cbar=False)\n",
    "plt.xlabel('Predicted Labels')\n",
    "plt.ylabel('True Labels')\n",
    "plt.title('VGG16 Model Confusion Matrix')\n",
    "\n",
    "# Move the X-axis to the top of the plot\n",
    "ax.xaxis.tick_top()  # X-axis on top\n",
    "ax.xaxis.set_label_position('top')  # Move the x-axis label to the top\n",
    "\n",
    "plt.show()"
   ]
  },
  {
   "cell_type": "markdown",
   "id": "2a5095b9",
   "metadata": {},
   "source": [
    "## ResNet50 Model"
   ]
  },
  {
   "cell_type": "code",
   "execution_count": 72,
   "id": "e87d873b",
   "metadata": {},
   "outputs": [],
   "source": [
    "# Load ResNet50 model, similar adjustments as VGG16\n",
    "resnet50_base_model = ResNet50(include_top=False, weights='imagenet', input_shape=(224, 224, 3))\n",
    "\n",
    "x = Flatten()(resnet50_base_model.output)\n",
    "\n",
    "x = Dense(256, activation='relu')(x)\n",
    "x = Dropout(0.5)(x)\n",
    "\n",
    "output = Dense(10, activation='softmax')(x)\n",
    "\n",
    "resnet50_model = Model(inputs=resnet50_base_model.input, outputs=output)\n",
    "resnet50_model.compile(optimizer='adam', loss='sparse_categorical_crossentropy', metrics=['accuracy'])"
   ]
  },
  {
   "cell_type": "markdown",
   "id": "e3ab08fe",
   "metadata": {},
   "source": [
    "### Fit model"
   ]
  },
  {
   "cell_type": "code",
   "execution_count": null,
   "id": "cade0b75",
   "metadata": {},
   "outputs": [],
   "source": [
    "# Fit the model\n",
    "resnet50_model_history = resnet50_model.fit(\n",
    "    train_generator,\n",
    "    steps_per_epoch=train_steps_per_epoch,\n",
    "    epochs=50,\n",
    "    batch_size=32,\n",
    "    validation_data=valid_generator,\n",
    "    validation_steps=valid_steps,\n",
    "    #callbacks=[early_stopping]  # Include the early stopping callback\n",
    ")"
   ]
  },
  {
   "cell_type": "markdown",
   "id": "2157f4ad",
   "metadata": {},
   "source": [
    "### Evaluate"
   ]
  },
  {
   "cell_type": "code",
   "execution_count": null,
   "id": "3a2c02d7",
   "metadata": {},
   "outputs": [],
   "source": [
    "# Perform evaluation\n",
    "test_loss, test_acc = resnet50_model.evaluate(test_generator, steps=test_steps)\n",
    "print(\"ResNet50 Model Test Accuracy:\", test_acc)"
   ]
  },
  {
   "cell_type": "markdown",
   "id": "63e7ea2b",
   "metadata": {},
   "source": [
    "### Plot"
   ]
  },
  {
   "cell_type": "code",
   "execution_count": null,
   "id": "dcf10770",
   "metadata": {},
   "outputs": [],
   "source": [
    "# Plot the history\n",
    "# Assuming 'history' is the output from your model.fit()\n",
    "plt.figure(figsize=(14, 5))\n",
    "\n",
    "# Plot training & validation loss values\n",
    "plt.subplot(1, 2, 1)\n",
    "plt.plot(resnet50_model_history.history['loss'], label='Train Loss')\n",
    "plt.plot(resnet50_model_history.history['val_loss'], label='Validation Loss')\n",
    "plt.title('ResNet50 Model Loss')\n",
    "plt.ylabel('Loss')\n",
    "plt.xlabel('Epoch')\n",
    "plt.legend(loc='upper right')\n",
    "\n",
    "# Plot training & validation mean squared error\n",
    "plt.subplot(1, 2, 2)\n",
    "plt.plot(resnet50_model_history.history['accuracy'], label='Train accuracy')\n",
    "plt.plot(resnet50_model_history.history['val_accuracy'], label='Validation accuracy')\n",
    "plt.title('ResNet50 Model Accuracy')\n",
    "plt.ylabel('Accuracy')\n",
    "plt.xlabel('Epoch')\n",
    "plt.legend(loc='upper right')\n",
    "\n",
    "plt.tight_layout()\n",
    "plt.show()"
   ]
  },
  {
   "cell_type": "code",
   "execution_count": null,
   "id": "237146e1",
   "metadata": {},
   "outputs": [],
   "source": [
    "predictions = resnet50_model.predict(test_generator, steps=test_steps)\n",
    "predicted_labels = np.argmax(predictions, axis=1)\n",
    "test_labels, predicted_labels"
   ]
  },
  {
   "cell_type": "code",
   "execution_count": null,
   "id": "349970b5",
   "metadata": {},
   "outputs": [],
   "source": [
    "accuracy = accuracy_score(test_labels, predicted_labels)\n",
    "print(\"ResNet50 Model Accuracy:\", accuracy)"
   ]
  },
  {
   "cell_type": "markdown",
   "id": "3f5c8ed7",
   "metadata": {},
   "source": [
    "### Confusion Matrix"
   ]
  },
  {
   "cell_type": "code",
   "execution_count": null,
   "id": "5c291196",
   "metadata": {},
   "outputs": [],
   "source": [
    "# Get the confusion matrix\n",
    "conf_matrix = confusion_matrix(test_labels, predicted_labels)\n",
    "print(\"ResNet50 Model Confusion Matrix:\\n\", conf_matrix)\n",
    "\n",
    "# Plotting the confusion matrix\n",
    "plt.figure(figsize=(10, 8))\n",
    "ax = sns.heatmap(conf_matrix, annot=True, fmt='d', cmap='Blues', xticklabels=emotion_labels.values(), yticklabels=emotion_labels.values(), cbar=False)\n",
    "plt.xlabel('Predicted Labels')\n",
    "plt.ylabel('True Labels')\n",
    "plt.title('ResNet50 Model Confusion Matrix')\n",
    "\n",
    "# Move the X-axis to the top of the plot\n",
    "ax.xaxis.tick_top()  # X-axis on top\n",
    "ax.xaxis.set_label_position('top')  # Move the x-axis label to the top\n",
    "\n",
    "plt.show()"
   ]
  },
  {
   "cell_type": "markdown",
   "id": "27c02780",
   "metadata": {},
   "source": [
    "# Transfer Learning (VGGFace, FaceNet)"
   ]
  },
  {
   "cell_type": "code",
   "execution_count": 73,
   "id": "3cd995ea",
   "metadata": {},
   "outputs": [
    {
     "name": "stdout",
     "output_type": "stream",
     "text": [
      "Train images shape: (28559, 48, 48) float64\n",
      "Valid images shape: (3578, 48, 48) float64\n",
      "Tests images shape: (3573, 48, 48) float64\n",
      "Train labels shape: (28559,) int32\n",
      "Valid labels shape: (3578,) int32\n",
      "Tests labels shape: (3573,) int32\n"
     ]
    }
   ],
   "source": [
    "print(\"Train images shape:\", train_images.shape, train_images.dtype)\n",
    "print(\"Valid images shape:\", valid_images.shape, valid_images.dtype)\n",
    "print(\"Tests images shape:\", test_images.shape, test_images.dtype)\n",
    "\n",
    "print(\"Train labels shape:\", train_labels.shape, train_labels.dtype)\n",
    "print(\"Valid labels shape:\", valid_labels.shape, valid_labels.dtype)\n",
    "print(\"Tests labels shape:\", test_labels.shape, test_labels.dtype)"
   ]
  }
 ],
 "metadata": {
  "kernelspec": {
   "display_name": "Python 3",
   "language": "python",
   "name": "python3"
  },
  "language_info": {
   "codemirror_mode": {
    "name": "ipython",
    "version": 3
   },
   "file_extension": ".py",
   "mimetype": "text/x-python",
   "name": "python",
   "nbconvert_exporter": "python",
   "pygments_lexer": "ipython3",
   "version": "3.10.0"
  }
 },
 "nbformat": 4,
 "nbformat_minor": 5
}
