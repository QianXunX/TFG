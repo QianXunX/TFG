{
 "cells": [
  {
   "cell_type": "code",
   "execution_count": 1,
   "id": "8b03525f",
   "metadata": {},
   "outputs": [
    {
     "name": "stderr",
     "output_type": "stream",
     "text": [
      "2024-05-13 19:43:37.163999: I tensorflow/core/platform/cpu_feature_guard.cc:193] This TensorFlow binary is optimized with oneAPI Deep Neural Network Library (oneDNN) to use the following CPU instructions in performance-critical operations:  AVX2 AVX512F FMA\n",
      "To enable them in other operations, rebuild TensorFlow with the appropriate compiler flags.\n",
      "2024-05-13 19:43:45.182696: W tensorflow/compiler/xla/stream_executor/platform/default/dso_loader.cc:64] Could not load dynamic library 'libnvinfer.so.7'; dlerror: libnvinfer.so.7: cannot open shared object file: No such file or directory; LD_LIBRARY_PATH: /home/jhuang/miniconda3/envs/venv/lib:/home/jhuang/miniconda3/envs/venv/nvvm/libdevice:/home/jhuang/miniconda3/envs/venv/lib:/home/jhuang/miniconda3/envs/venv/nvvm/libdevice:/home/jhuang/miniconda3/envs/venv/lib:/home/jhuang/miniconda3/envs/venv/nvvm/libdevice::/home/jhuang/miniconda3/envs/venv/lib/:/home/jhuang/miniconda3/envs/venv/lib/\n",
      "2024-05-13 19:43:45.182809: W tensorflow/compiler/xla/stream_executor/platform/default/dso_loader.cc:64] Could not load dynamic library 'libnvinfer_plugin.so.7'; dlerror: libnvinfer_plugin.so.7: cannot open shared object file: No such file or directory; LD_LIBRARY_PATH: /home/jhuang/miniconda3/envs/venv/lib:/home/jhuang/miniconda3/envs/venv/nvvm/libdevice:/home/jhuang/miniconda3/envs/venv/lib:/home/jhuang/miniconda3/envs/venv/nvvm/libdevice:/home/jhuang/miniconda3/envs/venv/lib:/home/jhuang/miniconda3/envs/venv/nvvm/libdevice::/home/jhuang/miniconda3/envs/venv/lib/:/home/jhuang/miniconda3/envs/venv/lib/\n",
      "2024-05-13 19:43:45.182815: W tensorflow/compiler/tf2tensorrt/utils/py_utils.cc:38] TF-TRT Warning: Cannot dlopen some TensorRT libraries. If you would like to use Nvidia GPU with TensorRT, please make sure the missing libraries mentioned above are installed properly.\n"
     ]
    },
    {
     "name": "stdout",
     "output_type": "stream",
     "text": [
      "GPU Detected: GPU - /physical_device:GPU:0\n",
      "GPU Detected: GPU - /physical_device:GPU:1\n"
     ]
    }
   ],
   "source": [
    "import os\n",
    "import numpy as np\n",
    "import pandas as pd\n",
    "from PIL import Image\n",
    "import tensorflow as tf\n",
    "from tensorflow.keras.utils import to_categorical\n",
    "from tensorflow.keras.models import Sequential, Model\n",
    "from tensorflow.keras.layers import Conv2D, MaxPooling2D, Flatten, Dense, Dropout, Input\n",
    "import matplotlib.pyplot as plt\n",
    "from sklearn.metrics import accuracy_score, confusion_matrix\n",
    "import seaborn as sns\n",
    "from tensorflow.keras.applications import VGG16, ResNet50\n",
    "from tensorflow.keras.callbacks import EarlyStopping\n",
    "import h5py\n",
    "\n",
    "\n",
    "gpus = tf.config.list_physical_devices('GPU')\n",
    "if gpus:\n",
    "    for gpu in gpus:\n",
    "        print(f\"GPU Detected: {gpu.device_type} - {gpu.name}\")\n",
    "else:\n",
    "    print(\"No GPU detected\")\n",
    "    \n",
    "os.environ['CUDA_HOME'] = '/home/jhuang/miniconda3/envs/venv'\n",
    "os.environ['TF_CUDA_PATHS'] = '/home/jhuang/miniconda3/envs/venv/lib,/home/jhuang/miniconda3/envs/venv/nvvm'    "
   ]
  },
  {
   "cell_type": "markdown",
   "id": "2cc51408",
   "metadata": {},
   "source": [
    "## Data acquisition"
   ]
  },
  {
   "cell_type": "code",
   "execution_count": 2,
   "id": "initial_id",
   "metadata": {
    "ExecuteTime": {
     "end_time": "2024-04-30T16:44:51.359770Z",
     "start_time": "2024-04-30T16:44:50.837019Z"
    }
   },
   "outputs": [
    {
     "data": {
      "text/html": [
       "<div>\n",
       "<style scoped>\n",
       "    .dataframe tbody tr th:only-of-type {\n",
       "        vertical-align: middle;\n",
       "    }\n",
       "\n",
       "    .dataframe tbody tr th {\n",
       "        vertical-align: top;\n",
       "    }\n",
       "\n",
       "    .dataframe thead th {\n",
       "        text-align: right;\n",
       "    }\n",
       "</style>\n",
       "<table border=\"1\" class=\"dataframe\">\n",
       "  <thead>\n",
       "    <tr style=\"text-align: right;\">\n",
       "      <th></th>\n",
       "      <th>Usage</th>\n",
       "      <th>Image name</th>\n",
       "      <th>neutral</th>\n",
       "      <th>happiness</th>\n",
       "      <th>surprise</th>\n",
       "      <th>sadness</th>\n",
       "      <th>anger</th>\n",
       "      <th>disgust</th>\n",
       "      <th>fear</th>\n",
       "      <th>contempt</th>\n",
       "      <th>unknown</th>\n",
       "      <th>NF</th>\n",
       "    </tr>\n",
       "  </thead>\n",
       "  <tbody>\n",
       "    <tr>\n",
       "      <th>0</th>\n",
       "      <td>Training</td>\n",
       "      <td>fer0000000.png</td>\n",
       "      <td>4</td>\n",
       "      <td>0</td>\n",
       "      <td>0</td>\n",
       "      <td>1</td>\n",
       "      <td>3</td>\n",
       "      <td>2</td>\n",
       "      <td>0</td>\n",
       "      <td>0</td>\n",
       "      <td>0</td>\n",
       "      <td>0</td>\n",
       "    </tr>\n",
       "    <tr>\n",
       "      <th>1</th>\n",
       "      <td>Training</td>\n",
       "      <td>fer0000001.png</td>\n",
       "      <td>6</td>\n",
       "      <td>0</td>\n",
       "      <td>1</td>\n",
       "      <td>1</td>\n",
       "      <td>0</td>\n",
       "      <td>0</td>\n",
       "      <td>0</td>\n",
       "      <td>0</td>\n",
       "      <td>2</td>\n",
       "      <td>0</td>\n",
       "    </tr>\n",
       "    <tr>\n",
       "      <th>2</th>\n",
       "      <td>Training</td>\n",
       "      <td>fer0000002.png</td>\n",
       "      <td>5</td>\n",
       "      <td>0</td>\n",
       "      <td>0</td>\n",
       "      <td>3</td>\n",
       "      <td>1</td>\n",
       "      <td>0</td>\n",
       "      <td>0</td>\n",
       "      <td>0</td>\n",
       "      <td>1</td>\n",
       "      <td>0</td>\n",
       "    </tr>\n",
       "    <tr>\n",
       "      <th>3</th>\n",
       "      <td>Training</td>\n",
       "      <td>fer0000003.png</td>\n",
       "      <td>4</td>\n",
       "      <td>0</td>\n",
       "      <td>0</td>\n",
       "      <td>4</td>\n",
       "      <td>1</td>\n",
       "      <td>0</td>\n",
       "      <td>0</td>\n",
       "      <td>0</td>\n",
       "      <td>1</td>\n",
       "      <td>0</td>\n",
       "    </tr>\n",
       "    <tr>\n",
       "      <th>4</th>\n",
       "      <td>Training</td>\n",
       "      <td>fer0000004.png</td>\n",
       "      <td>9</td>\n",
       "      <td>0</td>\n",
       "      <td>0</td>\n",
       "      <td>1</td>\n",
       "      <td>0</td>\n",
       "      <td>0</td>\n",
       "      <td>0</td>\n",
       "      <td>0</td>\n",
       "      <td>0</td>\n",
       "      <td>0</td>\n",
       "    </tr>\n",
       "    <tr>\n",
       "      <th>...</th>\n",
       "      <td>...</td>\n",
       "      <td>...</td>\n",
       "      <td>...</td>\n",
       "      <td>...</td>\n",
       "      <td>...</td>\n",
       "      <td>...</td>\n",
       "      <td>...</td>\n",
       "      <td>...</td>\n",
       "      <td>...</td>\n",
       "      <td>...</td>\n",
       "      <td>...</td>\n",
       "      <td>...</td>\n",
       "    </tr>\n",
       "    <tr>\n",
       "      <th>35882</th>\n",
       "      <td>PrivateTest</td>\n",
       "      <td>fer0035797.png</td>\n",
       "      <td>8</td>\n",
       "      <td>0</td>\n",
       "      <td>0</td>\n",
       "      <td>2</td>\n",
       "      <td>0</td>\n",
       "      <td>0</td>\n",
       "      <td>0</td>\n",
       "      <td>0</td>\n",
       "      <td>0</td>\n",
       "      <td>0</td>\n",
       "    </tr>\n",
       "    <tr>\n",
       "      <th>35883</th>\n",
       "      <td>PrivateTest</td>\n",
       "      <td>NaN</td>\n",
       "      <td>0</td>\n",
       "      <td>0</td>\n",
       "      <td>0</td>\n",
       "      <td>0</td>\n",
       "      <td>0</td>\n",
       "      <td>0</td>\n",
       "      <td>0</td>\n",
       "      <td>0</td>\n",
       "      <td>0</td>\n",
       "      <td>10</td>\n",
       "    </tr>\n",
       "    <tr>\n",
       "      <th>35884</th>\n",
       "      <td>PrivateTest</td>\n",
       "      <td>fer0035799.png</td>\n",
       "      <td>0</td>\n",
       "      <td>0</td>\n",
       "      <td>0</td>\n",
       "      <td>0</td>\n",
       "      <td>7</td>\n",
       "      <td>1</td>\n",
       "      <td>0</td>\n",
       "      <td>2</td>\n",
       "      <td>0</td>\n",
       "      <td>0</td>\n",
       "    </tr>\n",
       "    <tr>\n",
       "      <th>35885</th>\n",
       "      <td>PrivateTest</td>\n",
       "      <td>fer0035800.png</td>\n",
       "      <td>0</td>\n",
       "      <td>10</td>\n",
       "      <td>0</td>\n",
       "      <td>0</td>\n",
       "      <td>0</td>\n",
       "      <td>0</td>\n",
       "      <td>0</td>\n",
       "      <td>0</td>\n",
       "      <td>0</td>\n",
       "      <td>0</td>\n",
       "    </tr>\n",
       "    <tr>\n",
       "      <th>35886</th>\n",
       "      <td>PrivateTest</td>\n",
       "      <td>fer0035801.png</td>\n",
       "      <td>2</td>\n",
       "      <td>0</td>\n",
       "      <td>0</td>\n",
       "      <td>5</td>\n",
       "      <td>1</td>\n",
       "      <td>1</td>\n",
       "      <td>0</td>\n",
       "      <td>0</td>\n",
       "      <td>1</td>\n",
       "      <td>0</td>\n",
       "    </tr>\n",
       "  </tbody>\n",
       "</table>\n",
       "<p>35887 rows × 12 columns</p>\n",
       "</div>"
      ],
      "text/plain": [
       "             Usage      Image name  neutral  happiness  surprise  sadness  \\\n",
       "0         Training  fer0000000.png        4          0         0        1   \n",
       "1         Training  fer0000001.png        6          0         1        1   \n",
       "2         Training  fer0000002.png        5          0         0        3   \n",
       "3         Training  fer0000003.png        4          0         0        4   \n",
       "4         Training  fer0000004.png        9          0         0        1   \n",
       "...            ...             ...      ...        ...       ...      ...   \n",
       "35882  PrivateTest  fer0035797.png        8          0         0        2   \n",
       "35883  PrivateTest             NaN        0          0         0        0   \n",
       "35884  PrivateTest  fer0035799.png        0          0         0        0   \n",
       "35885  PrivateTest  fer0035800.png        0         10         0        0   \n",
       "35886  PrivateTest  fer0035801.png        2          0         0        5   \n",
       "\n",
       "       anger  disgust  fear  contempt  unknown  NF  \n",
       "0          3        2     0         0        0   0  \n",
       "1          0        0     0         0        2   0  \n",
       "2          1        0     0         0        1   0  \n",
       "3          1        0     0         0        1   0  \n",
       "4          0        0     0         0        0   0  \n",
       "...      ...      ...   ...       ...      ...  ..  \n",
       "35882      0        0     0         0        0   0  \n",
       "35883      0        0     0         0        0  10  \n",
       "35884      7        1     0         2        0   0  \n",
       "35885      0        0     0         0        0   0  \n",
       "35886      1        1     0         0        1   0  \n",
       "\n",
       "[35887 rows x 12 columns]"
      ]
     },
     "execution_count": 2,
     "metadata": {},
     "output_type": "execute_result"
    }
   ],
   "source": [
    "# Read data form csv\n",
    "df = pd.read_csv(\"./FERPlus-master/fer2013new.csv\")\n",
    "df"
   ]
  },
  {
   "cell_type": "code",
   "execution_count": 3,
   "id": "00b8fd58",
   "metadata": {},
   "outputs": [
    {
     "name": "stdout",
     "output_type": "stream",
     "text": [
      "<class 'pandas.core.frame.DataFrame'>\n",
      "RangeIndex: 35887 entries, 0 to 35886\n",
      "Data columns (total 12 columns):\n",
      " #   Column      Non-Null Count  Dtype \n",
      "---  ------      --------------  ----- \n",
      " 0   Usage       35887 non-null  object\n",
      " 1   Image name  35714 non-null  object\n",
      " 2   neutral     35887 non-null  int64 \n",
      " 3   happiness   35887 non-null  int64 \n",
      " 4   surprise    35887 non-null  int64 \n",
      " 5   sadness     35887 non-null  int64 \n",
      " 6   anger       35887 non-null  int64 \n",
      " 7   disgust     35887 non-null  int64 \n",
      " 8   fear        35887 non-null  int64 \n",
      " 9   contempt    35887 non-null  int64 \n",
      " 10  unknown     35887 non-null  int64 \n",
      " 11  NF          35887 non-null  int64 \n",
      "dtypes: int64(10), object(2)\n",
      "memory usage: 3.3+ MB\n"
     ]
    }
   ],
   "source": [
    "# Display its general information\n",
    "df.info()"
   ]
  },
  {
   "cell_type": "markdown",
   "id": "2714cec3",
   "metadata": {},
   "source": [
    "# Preprocessing"
   ]
  },
  {
   "cell_type": "code",
   "execution_count": 4,
   "id": "7b558e53",
   "metadata": {},
   "outputs": [
    {
     "data": {
      "text/plain": [
       "Usage           0\n",
       "Image name    173\n",
       "neutral         0\n",
       "happiness       0\n",
       "surprise        0\n",
       "sadness         0\n",
       "anger           0\n",
       "disgust         0\n",
       "fear            0\n",
       "contempt        0\n",
       "unknown         0\n",
       "NF              0\n",
       "dtype: int64"
      ]
     },
     "execution_count": 4,
     "metadata": {},
     "output_type": "execute_result"
    }
   ],
   "source": [
    "# Check for any missing data particularly in 'Image name' column\n",
    "missing_data = df.isnull().sum()\n",
    "missing_data"
   ]
  },
  {
   "cell_type": "code",
   "execution_count": 5,
   "id": "eb1d9a11",
   "metadata": {},
   "outputs": [
    {
     "name": "stdout",
     "output_type": "stream",
     "text": [
      "<class 'pandas.core.frame.DataFrame'>\n",
      "Int64Index: 35714 entries, 0 to 35886\n",
      "Data columns (total 12 columns):\n",
      " #   Column      Non-Null Count  Dtype \n",
      "---  ------      --------------  ----- \n",
      " 0   Usage       35714 non-null  object\n",
      " 1   Image name  35714 non-null  object\n",
      " 2   neutral     35714 non-null  int64 \n",
      " 3   happiness   35714 non-null  int64 \n",
      " 4   surprise    35714 non-null  int64 \n",
      " 5   sadness     35714 non-null  int64 \n",
      " 6   anger       35714 non-null  int64 \n",
      " 7   disgust     35714 non-null  int64 \n",
      " 8   fear        35714 non-null  int64 \n",
      " 9   contempt    35714 non-null  int64 \n",
      " 10  unknown     35714 non-null  int64 \n",
      " 11  NF          35714 non-null  int64 \n",
      "dtypes: int64(10), object(2)\n",
      "memory usage: 3.5+ MB\n"
     ]
    }
   ],
   "source": [
    "# Remove entries with missing 'Image name'\n",
    "clean_df = df.dropna(subset=['Image name'])\n",
    "\n",
    "# Confirm the removal\n",
    "clean_df.info()"
   ]
  },
  {
   "cell_type": "code",
   "execution_count": 6,
   "id": "dea27277",
   "metadata": {},
   "outputs": [
    {
     "name": "stderr",
     "output_type": "stream",
     "text": [
      "/home/jhuang/miniconda3/envs/venv/lib/python3.7/site-packages/ipykernel_launcher.py:6: SettingWithCopyWarning: \n",
      "A value is trying to be set on a copy of a slice from a DataFrame.\n",
      "Try using .loc[row_indexer,col_indexer] = value instead\n",
      "\n",
      "See the caveats in the documentation: https://pandas.pydata.org/pandas-docs/stable/user_guide/indexing.html#returning-a-view-versus-a-copy\n",
      "  \n"
     ]
    },
    {
     "data": {
      "text/html": [
       "<div>\n",
       "<style scoped>\n",
       "    .dataframe tbody tr th:only-of-type {\n",
       "        vertical-align: middle;\n",
       "    }\n",
       "\n",
       "    .dataframe tbody tr th {\n",
       "        vertical-align: top;\n",
       "    }\n",
       "\n",
       "    .dataframe thead th {\n",
       "        text-align: right;\n",
       "    }\n",
       "</style>\n",
       "<table border=\"1\" class=\"dataframe\">\n",
       "  <thead>\n",
       "    <tr style=\"text-align: right;\">\n",
       "      <th></th>\n",
       "      <th>Usage</th>\n",
       "      <th>Image name</th>\n",
       "      <th>predominant_emotion_index</th>\n",
       "    </tr>\n",
       "  </thead>\n",
       "  <tbody>\n",
       "    <tr>\n",
       "      <th>0</th>\n",
       "      <td>Training</td>\n",
       "      <td>fer0000000.png</td>\n",
       "      <td>0</td>\n",
       "    </tr>\n",
       "    <tr>\n",
       "      <th>1</th>\n",
       "      <td>Training</td>\n",
       "      <td>fer0000001.png</td>\n",
       "      <td>0</td>\n",
       "    </tr>\n",
       "    <tr>\n",
       "      <th>2</th>\n",
       "      <td>Training</td>\n",
       "      <td>fer0000002.png</td>\n",
       "      <td>0</td>\n",
       "    </tr>\n",
       "    <tr>\n",
       "      <th>3</th>\n",
       "      <td>Training</td>\n",
       "      <td>fer0000003.png</td>\n",
       "      <td>0</td>\n",
       "    </tr>\n",
       "    <tr>\n",
       "      <th>4</th>\n",
       "      <td>Training</td>\n",
       "      <td>fer0000004.png</td>\n",
       "      <td>0</td>\n",
       "    </tr>\n",
       "    <tr>\n",
       "      <th>...</th>\n",
       "      <td>...</td>\n",
       "      <td>...</td>\n",
       "      <td>...</td>\n",
       "    </tr>\n",
       "    <tr>\n",
       "      <th>35881</th>\n",
       "      <td>PrivateTest</td>\n",
       "      <td>fer0035796.png</td>\n",
       "      <td>0</td>\n",
       "    </tr>\n",
       "    <tr>\n",
       "      <th>35882</th>\n",
       "      <td>PrivateTest</td>\n",
       "      <td>fer0035797.png</td>\n",
       "      <td>0</td>\n",
       "    </tr>\n",
       "    <tr>\n",
       "      <th>35884</th>\n",
       "      <td>PrivateTest</td>\n",
       "      <td>fer0035799.png</td>\n",
       "      <td>4</td>\n",
       "    </tr>\n",
       "    <tr>\n",
       "      <th>35885</th>\n",
       "      <td>PrivateTest</td>\n",
       "      <td>fer0035800.png</td>\n",
       "      <td>1</td>\n",
       "    </tr>\n",
       "    <tr>\n",
       "      <th>35886</th>\n",
       "      <td>PrivateTest</td>\n",
       "      <td>fer0035801.png</td>\n",
       "      <td>3</td>\n",
       "    </tr>\n",
       "  </tbody>\n",
       "</table>\n",
       "<p>35714 rows × 3 columns</p>\n",
       "</div>"
      ],
      "text/plain": [
       "             Usage      Image name  predominant_emotion_index\n",
       "0         Training  fer0000000.png                          0\n",
       "1         Training  fer0000001.png                          0\n",
       "2         Training  fer0000002.png                          0\n",
       "3         Training  fer0000003.png                          0\n",
       "4         Training  fer0000004.png                          0\n",
       "...            ...             ...                        ...\n",
       "35881  PrivateTest  fer0035796.png                          0\n",
       "35882  PrivateTest  fer0035797.png                          0\n",
       "35884  PrivateTest  fer0035799.png                          4\n",
       "35885  PrivateTest  fer0035800.png                          1\n",
       "35886  PrivateTest  fer0035801.png                          3\n",
       "\n",
       "[35714 rows x 3 columns]"
      ]
     },
     "execution_count": 6,
     "metadata": {},
     "output_type": "execute_result"
    }
   ],
   "source": [
    "# Extracting the emotion columns\n",
    "emotion_columns = ['neutral', 'happiness', 'surprise', 'sadness', 'anger', \n",
    "                   'disgust', 'fear', 'contempt', 'unknown', 'NF']\n",
    "\n",
    "# Finding the index of the maximum value in the emotion columns\n",
    "clean_df['predominant_emotion_index'] = clean_df[emotion_columns].idxmax(axis=1).apply(emotion_columns.index)\n",
    "\n",
    "# Drop the original emotion columns\n",
    "emo_idx_df = clean_df.drop(columns=emotion_columns)\n",
    "\n",
    "# Show the updated dataset with the new 'predominant_emotion_index' column\n",
    "emo_idx_df"
   ]
  },
  {
   "cell_type": "code",
   "execution_count": 7,
   "id": "10ce085a",
   "metadata": {},
   "outputs": [
    {
     "name": "stdout",
     "output_type": "stream",
     "text": [
      "Training       28561\n",
      "PublicTest      3579\n",
      "PrivateTest     3574\n",
      "Name: Usage, dtype: int64\n"
     ]
    }
   ],
   "source": [
    "# Count of row types\n",
    "print(emo_idx_df['Usage'].value_counts())"
   ]
  },
  {
   "cell_type": "code",
   "execution_count": 8,
   "id": "24bb0136",
   "metadata": {},
   "outputs": [
    {
     "name": "stdout",
     "output_type": "stream",
     "text": [
      "       Emotion  Count\n",
      "0      neutral  12906\n",
      "1    happiness   9355\n",
      "2     surprise   4462\n",
      "3      sadness   4371\n",
      "4        anger   3111\n",
      "5      disgust    248\n",
      "6         fear    819\n",
      "7     contempt    216\n",
      "8      unknown    222\n",
      "9   not a face      4\n",
      "10       Total  35714\n"
     ]
    }
   ],
   "source": [
    "emotion_labels = {\n",
    "    0: \"neutral\",\n",
    "    1: \"happiness\",\n",
    "    2: \"surprise\",\n",
    "    3: \"sadness\",\n",
    "    4: \"anger\",\n",
    "    5: \"disgust\",\n",
    "    6: \"fear\",\n",
    "    7: \"contempt\",\n",
    "    8: \"unknown\",\n",
    "    9: \"not a face\"\n",
    "}\n",
    "\n",
    "unique_indices, counts = np.unique(emo_idx_df['predominant_emotion_index'], return_counts=True)\n",
    "\n",
    "# Create a DataFrame\n",
    "emotion_counts = pd.DataFrame({\n",
    "    'Emotion': [emotion_labels[index] for index in unique_indices],\n",
    "    'Count': counts\n",
    "})\n",
    "\n",
    "# Add a total row\n",
    "total = emotion_counts['Count'].sum()\n",
    "total_row = pd.DataFrame({'Emotion': ['Total'], 'Count': [total]})\n",
    "emotion_counts = pd.concat([emotion_counts, total_row], ignore_index=True)\n",
    "\n",
    "# Display the DataFrame\n",
    "print(emotion_counts)"
   ]
  },
  {
   "cell_type": "code",
   "execution_count": 9,
   "id": "d8cb6851",
   "metadata": {},
   "outputs": [
    {
     "name": "stdout",
     "output_type": "stream",
     "text": [
      "<class 'pandas.core.frame.DataFrame'>\n",
      "Int64Index: 35710 entries, 0 to 35886\n",
      "Data columns (total 3 columns):\n",
      " #   Column                     Non-Null Count  Dtype \n",
      "---  ------                     --------------  ----- \n",
      " 0   Usage                      35710 non-null  object\n",
      " 1   Image name                 35710 non-null  object\n",
      " 2   predominant_emotion_index  35710 non-null  int64 \n",
      "dtypes: int64(1), object(2)\n",
      "memory usage: 1.1+ MB\n"
     ]
    }
   ],
   "source": [
    "emo_idx_df = emo_idx_df[emo_idx_df['predominant_emotion_index'] != 9]\n",
    "emo_idx_df.info()"
   ]
  },
  {
   "cell_type": "code",
   "execution_count": 10,
   "id": "c6fa8ce0",
   "metadata": {},
   "outputs": [
    {
     "name": "stdout",
     "output_type": "stream",
     "text": [
      "     Emotion  Count\n",
      "0    neutral  12906\n",
      "1  happiness   9355\n",
      "2   surprise   4462\n",
      "3    sadness   4371\n",
      "4      anger   3111\n",
      "5    disgust    248\n",
      "6       fear    819\n",
      "7   contempt    216\n",
      "8    unknown    222\n",
      "9      Total  35710\n"
     ]
    },
    {
     "data": {
      "image/png": "[encoded data removed]",
      "text/plain": [
       "<Figure size 1000x600 with 1 Axes>"
      ]
     },
     "metadata": {},
     "output_type": "display_data"
    }
   ],
   "source": [
    "unique_indices, counts = np.unique(emo_idx_df['predominant_emotion_index'], return_counts=True)\n",
    "\n",
    "# Create a DataFrame\n",
    "emotion_counts = pd.DataFrame({\n",
    "    'Emotion': [emotion_labels[index] for index in unique_indices],\n",
    "    'Count': counts\n",
    "})\n",
    "\n",
    "# Add a total row\n",
    "total = emotion_counts['Count'].sum()\n",
    "total_row = pd.DataFrame({'Emotion': ['Total'], 'Count': [total]})\n",
    "emotion_counts = pd.concat([emotion_counts, total_row], ignore_index=True)\n",
    "\n",
    "# Display the DataFrame\n",
    "print(emotion_counts)\n",
    "\n",
    "plt.figure(figsize=(10, 6))\n",
    "plt.bar(emotion_counts['Emotion'][:-1], emotion_counts['Count'][:-1], color='skyblue')\n",
    "plt.xlabel('Emotion')\n",
    "plt.ylabel('Count')\n",
    "plt.title('Distribution of Predominant Emotions')\n",
    "plt.xticks(rotation=45)\n",
    "plt.tight_layout()\n",
    "plt.show()"
   ]
  },
  {
   "cell_type": "markdown",
   "id": "27e07020",
   "metadata": {},
   "source": [
    "## Splitting data"
   ]
  },
  {
   "cell_type": "code",
   "execution_count": 11,
   "id": "dff3fac3",
   "metadata": {},
   "outputs": [
    {
     "data": {
      "text/plain": [
       "((28559, 3), (3578, 3), (3573, 3))"
      ]
     },
     "execution_count": 11,
     "metadata": {},
     "output_type": "execute_result"
    }
   ],
   "source": [
    "# Creating separate DataFrame variables for each 'Usage' type\n",
    "train_df = emo_idx_df[emo_idx_df['Usage'] == 'Training']\n",
    "valid_df = emo_idx_df[emo_idx_df['Usage'] == 'PublicTest']\n",
    "test_df = emo_idx_df[emo_idx_df['Usage'] == 'PrivateTest']\n",
    "train_df.shape, valid_df.shape, test_df.shape"
   ]
  },
  {
   "cell_type": "code",
   "execution_count": 12,
   "id": "aed4772b",
   "metadata": {},
   "outputs": [
    {
     "name": "stdout",
     "output_type": "stream",
     "text": [
      "     Emotion  Count\n",
      "0    neutral  10309\n",
      "1  happiness   7528\n",
      "2   surprise   3562\n",
      "3    sadness   3515\n",
      "4      anger   2467\n",
      "5    disgust    191\n",
      "6       fear    652\n",
      "7   contempt    165\n",
      "8    unknown    170\n",
      "9      Total  28559\n"
     ]
    }
   ],
   "source": [
    "unique_indices, counts = np.unique(train_df['predominant_emotion_index'], return_counts=True)\n",
    "\n",
    "# Create a DataFrame\n",
    "emotion_counts = pd.DataFrame({\n",
    "    'Emotion': [emotion_labels[index] for index in unique_indices],\n",
    "    'Count': counts\n",
    "})\n",
    "\n",
    "# Add a total row\n",
    "total = emotion_counts['Count'].sum()\n",
    "total_row = pd.DataFrame({'Emotion': ['Total'], 'Count': [total]})\n",
    "emotion_counts = pd.concat([emotion_counts, total_row], ignore_index=True)\n",
    "\n",
    "# Display the DataFrame\n",
    "print(emotion_counts)"
   ]
  },
  {
   "cell_type": "code",
   "execution_count": 13,
   "id": "ef28f843",
   "metadata": {},
   "outputs": [
    {
     "name": "stdout",
     "output_type": "stream",
     "text": [
      "     Emotion  Count\n",
      "0    neutral   1335\n",
      "1  happiness    899\n",
      "2   surprise    456\n",
      "3    sadness    412\n",
      "4      anger    319\n",
      "5    disgust     34\n",
      "6       fear     74\n",
      "7   contempt     24\n",
      "8    unknown     25\n",
      "9      Total   3578\n"
     ]
    }
   ],
   "source": [
    "unique_indices, counts = np.unique(valid_df['predominant_emotion_index'], return_counts=True)\n",
    "\n",
    "# Create a DataFrame\n",
    "emotion_counts = pd.DataFrame({\n",
    "    'Emotion': [emotion_labels[index] for index in unique_indices],\n",
    "    'Count': counts\n",
    "})\n",
    "\n",
    "# Add a total row\n",
    "total = emotion_counts['Count'].sum()\n",
    "total_row = pd.DataFrame({'Emotion': ['Total'], 'Count': [total]})\n",
    "emotion_counts = pd.concat([emotion_counts, total_row], ignore_index=True)\n",
    "\n",
    "# Display the DataFrame\n",
    "print(emotion_counts)"
   ]
  },
  {
   "cell_type": "code",
   "execution_count": 14,
   "id": "5f870b1c",
   "metadata": {},
   "outputs": [
    {
     "name": "stdout",
     "output_type": "stream",
     "text": [
      "     Emotion  Count\n",
      "0    neutral   1262\n",
      "1  happiness    928\n",
      "2   surprise    444\n",
      "3    sadness    444\n",
      "4      anger    325\n",
      "5    disgust     23\n",
      "6       fear     93\n",
      "7   contempt     27\n",
      "8    unknown     27\n",
      "9      Total   3573\n"
     ]
    }
   ],
   "source": [
    "unique_indices, counts = np.unique(test_df['predominant_emotion_index'], return_counts=True)\n",
    "\n",
    "# Create a DataFrame\n",
    "emotion_counts = pd.DataFrame({\n",
    "    'Emotion': [emotion_labels[index] for index in unique_indices],\n",
    "    'Count': counts\n",
    "})\n",
    "\n",
    "# Add a total row\n",
    "total = emotion_counts['Count'].sum()\n",
    "total_row = pd.DataFrame({'Emotion': ['Total'], 'Count': [total]})\n",
    "emotion_counts = pd.concat([emotion_counts, total_row], ignore_index=True)\n",
    "\n",
    "# Display the DataFrame\n",
    "print(emotion_counts)"
   ]
  },
  {
   "cell_type": "markdown",
   "id": "b00f3c85",
   "metadata": {},
   "source": [
    "## Image Loading and Normalization"
   ]
  },
  {
   "cell_type": "code",
   "execution_count": 15,
   "id": "35761524",
   "metadata": {},
   "outputs": [
    {
     "name": "stdout",
     "output_type": "stream",
     "text": [
      "Train images shape: (28559, 48, 48) float64\n",
      "Train labels shape: (28559,) int64\n",
      "Valid images shape: (3578, 48, 48) float64\n",
      "Valid labels shape: (3578,) int64\n",
      "Tests images shape: (3573, 48, 48) float64\n",
      "Tests labels shape: (3573,) int64\n"
     ]
    }
   ],
   "source": [
    "# Load and normalize images\n",
    "def load_images(data, base_path):\n",
    "    images = []\n",
    "    labels = []\n",
    "    paths = []\n",
    "    \n",
    "    # Mapping from Usage to directory names\n",
    "    directory_map = {\n",
    "        \"Training\": \"FER2013Train\",\n",
    "        \"PublicTest\": \"FER2013Valid\",\n",
    "        \"PrivateTest\": \"FER2013Test\"\n",
    "    }\n",
    "    \n",
    "    for idx, row in data.iterrows():\n",
    "        directory = directory_map.get(row['Usage'], None)\n",
    "        if directory:\n",
    "            image_path = os.path.join(base_path, directory, row['Image name'])\n",
    "            \n",
    "            if os.path.exists(image_path):\n",
    "                # Load the image\n",
    "                image = Image.open(image_path).convert('L')  # Convert to grayscale\n",
    "                image_array = np.array(image) / 255.0  # Normalize to 0-1\n",
    "                \n",
    "                # Append data\n",
    "                images.append(image_array)\n",
    "                labels.append(row['predominant_emotion_index'])  # Select emotion intensity columns\n",
    "                paths.append(image_path)\n",
    "    \n",
    "    return np.array(images), np.array(labels), paths\n",
    "\n",
    "# Base path for images\n",
    "base_image_path = 'FERPlus-master/data'\n",
    "\n",
    "# Load images and their labels\n",
    "train_images, train_labels, train_image_paths = load_images(train_df, base_image_path)\n",
    "valid_images, valid_labels, valid_image_paths = load_images(valid_df, base_image_path)\n",
    "test_images, test_labels, test_image_paths = load_images(test_df, base_image_path)\n",
    "\n",
    "# Check shapes and an example path\n",
    "print(\"Train images shape:\", train_images.shape, train_images.dtype)\n",
    "print(\"Train labels shape:\", train_labels.shape, train_labels.dtype)\n",
    "\n",
    "print(\"Valid images shape:\", valid_images.shape, valid_images.dtype)\n",
    "print(\"Valid labels shape:\", valid_labels.shape, valid_labels.dtype)\n",
    "\n",
    "print(\"Tests images shape:\", test_images.shape, test_images.dtype)\n",
    "print(\"Tests labels shape:\", test_labels.shape, test_labels.dtype)\n"
   ]
  },
  {
   "cell_type": "markdown",
   "id": "c6513db2",
   "metadata": {},
   "source": [
    "# Basic CNN"
   ]
  },
  {
   "cell_type": "code",
   "execution_count": 16,
   "id": "6b0f4974",
   "metadata": {},
   "outputs": [
    {
     "name": "stdout",
     "output_type": "stream",
     "text": [
      "Model: \"sequential\"\n",
      "_________________________________________________________________\n",
      " Layer (type)                Output Shape              Param #   \n",
      "=================================================================\n",
      " conv2d (Conv2D)             (None, 46, 46, 32)        320       \n",
      "                                                                 \n",
      " max_pooling2d (MaxPooling2D  (None, 23, 23, 32)       0         \n",
      " )                                                               \n",
      "                                                                 \n",
      " conv2d_1 (Conv2D)           (None, 21, 21, 64)        18496     \n",
      "                                                                 \n",
      " max_pooling2d_1 (MaxPooling  (None, 10, 10, 64)       0         \n",
      " 2D)                                                             \n",
      "                                                                 \n",
      " conv2d_2 (Conv2D)           (None, 8, 8, 128)         73856     \n",
      "                                                                 \n",
      " max_pooling2d_2 (MaxPooling  (None, 4, 4, 128)        0         \n",
      " 2D)                                                             \n",
      "                                                                 \n",
      " flatten (Flatten)           (None, 2048)              0         \n",
      "                                                                 \n",
      " dense (Dense)               (None, 128)               262272    \n",
      "                                                                 \n",
      " dropout (Dropout)           (None, 128)               0         \n",
      "                                                                 \n",
      " dense_1 (Dense)             (None, 10)                1290      \n",
      "                                                                 \n",
      "=================================================================\n",
      "Total params: 356,234\n",
      "Trainable params: 356,234\n",
      "Non-trainable params: 0\n",
      "_________________________________________________________________\n"
     ]
    },
    {
     "name": "stderr",
     "output_type": "stream",
     "text": [
      "2024-05-13 19:44:06.429212: I tensorflow/core/platform/cpu_feature_guard.cc:193] This TensorFlow binary is optimized with oneAPI Deep Neural Network Library (oneDNN) to use the following CPU instructions in performance-critical operations:  AVX2 AVX512F FMA\n",
      "To enable them in other operations, rebuild TensorFlow with the appropriate compiler flags.\n",
      "2024-05-13 19:44:12.433549: I tensorflow/core/common_runtime/gpu/gpu_device.cc:1613] Created device /job:localhost/replica:0/task:0/device:GPU:0 with 9928 MB memory:  -> device: 0, name: NVIDIA TITAN V, pci bus id: 0000:17:00.0, compute capability: 7.0\n",
      "2024-05-13 19:44:12.434326: I tensorflow/core/common_runtime/gpu/gpu_device.cc:1613] Created device /job:localhost/replica:0/task:0/device:GPU:1 with 7251 MB memory:  -> device: 1, name: NVIDIA GeForce GTX 1080, pci bus id: 0000:65:00.0, compute capability: 6.1\n"
     ]
    }
   ],
   "source": [
    "# Create a basic CNN model\n",
    "basic_model = Sequential([\n",
    "    Conv2D(32, (3, 3), activation='relu', input_shape=(48, 48, 1)),  # first conv layer\n",
    "    MaxPooling2D((2, 2)),  # first pooling layer\n",
    "    Conv2D(64, (3, 3), activation='relu'),  # second conv layer\n",
    "    MaxPooling2D((2, 2)),  # second pooling layer\n",
    "    Conv2D(128, (3, 3), activation='relu'),  # third conv layer\n",
    "    MaxPooling2D((2, 2)),  # third pooling layer\n",
    "    Flatten(),  # flatten the output for the dense layer\n",
    "    Dense(128, activation='relu'),  # fully connected layer\n",
    "    Dropout(0.5),  # dropout for regularization\n",
    "    Dense(10, activation='softmax')  # output layer with 10 units for each emotion\n",
    "])\n",
    "\n",
    "basic_model.summary()  # This will print the summary of the model architecture"
   ]
  },
  {
   "cell_type": "code",
   "execution_count": 17,
   "id": "9eb20988",
   "metadata": {},
   "outputs": [],
   "source": [
    "# Compile the model\n",
    "basic_model.compile(\n",
    "    optimizer='adam',\n",
    "    loss='sparse_categorical_crossentropy',\n",
    "    metrics=['accuracy']\n",
    ")"
   ]
  },
  {
   "cell_type": "markdown",
   "id": "b9900989",
   "metadata": {},
   "source": [
    "## Reshape images to add channel dimension for CNN"
   ]
  },
  {
   "cell_type": "code",
   "execution_count": 18,
   "id": "2527ed2a",
   "metadata": {},
   "outputs": [],
   "source": [
    "# Reshape or modify the data to add a channel dimension for CNNs, expect an input shape like (batch, height, width, channels)\n",
    "# Channel dimension is 1 for grayscale images\n",
    "train_images = train_images.reshape((-1, 48, 48, 1))\n",
    "valid_images = valid_images.reshape((-1, 48, 48, 1))\n",
    "test_images = test_images.reshape((-1, 48, 48, 1))"
   ]
  },
  {
   "cell_type": "code",
   "execution_count": 19,
   "id": "81ee3540",
   "metadata": {},
   "outputs": [
    {
     "name": "stdout",
     "output_type": "stream",
     "text": [
      "Train images shape: (28559, 48, 48, 1) float64\n",
      "Train labels shape: (28559,) int64\n",
      "Valid images shape: (3578, 48, 48, 1) float64\n",
      "Valid labels shape: (3578,) int64\n",
      "Tests images shape: (3573, 48, 48, 1) float64\n",
      "Tests labels shape: (3573,) int64\n"
     ]
    }
   ],
   "source": [
    "print(\"Train images shape:\", train_images.shape, train_images.dtype)\n",
    "print(\"Train labels shape:\", train_labels.shape, train_labels.dtype)\n",
    "\n",
    "print(\"Valid images shape:\", valid_images.shape, valid_images.dtype)\n",
    "print(\"Valid labels shape:\", valid_labels.shape, valid_labels.dtype)\n",
    "\n",
    "print(\"Tests images shape:\", test_images.shape, test_images.dtype)\n",
    "print(\"Tests labels shape:\", test_labels.shape, test_labels.dtype)"
   ]
  },
  {
   "cell_type": "markdown",
   "id": "4c82d721",
   "metadata": {},
   "source": [
    "## Fit model"
   ]
  },
  {
   "cell_type": "code",
   "execution_count": 20,
   "id": "1b189775",
   "metadata": {},
   "outputs": [
    {
     "name": "stdout",
     "output_type": "stream",
     "text": [
      "OrderedDict([('cpu_compiler', '/dt9/usr/bin/gcc'), ('cuda_compute_capabilities', ['sm_35', 'sm_50', 'sm_60', 'sm_70', 'sm_75', 'compute_80']), ('cuda_version', '11.2'), ('cudnn_version', '8'), ('is_cuda_build', True), ('is_rocm_build', False), ('is_tensorrt_build', True)])\n"
     ]
    }
   ],
   "source": [
    "print(tf.sysconfig.get_build_info())"
   ]
  },
  {
   "cell_type": "code",
   "execution_count": 21,
   "id": "96286a0e",
   "metadata": {},
   "outputs": [
    {
     "name": "stderr",
     "output_type": "stream",
     "text": [
      "2024-05-13 19:44:13.546911: W tensorflow/tsl/framework/cpu_allocator_impl.cc:82] Allocation of 263199744 exceeds 10% of free system memory.\n",
      "2024-05-13 19:44:13.748289: W tensorflow/tsl/framework/cpu_allocator_impl.cc:82] Allocation of 263199744 exceeds 10% of free system memory.\n"
     ]
    },
    {
     "name": "stdout",
     "output_type": "stream",
     "text": [
      "Epoch 1/30\n"
     ]
    },
    {
     "name": "stderr",
     "output_type": "stream",
     "text": [
      "2024-05-13 19:44:19.988100: I tensorflow/compiler/xla/stream_executor/cuda/cuda_dnn.cc:428] Loaded cuDNN version 8907\n",
      "2024-05-13 19:44:21.506730: I tensorflow/compiler/xla/service/service.cc:173] XLA service 0x7ff4097d7270 initialized for platform CUDA (this does not guarantee that XLA will be used). Devices:\n",
      "2024-05-13 19:44:21.506753: I tensorflow/compiler/xla/service/service.cc:181]   StreamExecutor device (0): NVIDIA TITAN V, Compute Capability 7.0\n",
      "2024-05-13 19:44:21.506759: I tensorflow/compiler/xla/service/service.cc:181]   StreamExecutor device (1): NVIDIA GeForce GTX 1080, Compute Capability 6.1\n",
      "2024-05-13 19:44:21.524406: I tensorflow/compiler/mlir/tensorflow/utils/dump_mlir_util.cc:268] disabling MLIR crash reproducer, set env var `MLIR_CRASH_REPRODUCER_DIRECTORY` to enable.\n",
      "2024-05-13 19:44:22.364995: I tensorflow/compiler/jit/xla_compilation_cache.cc:477] Compiled cluster using XLA!  This line is logged at most once for the lifetime of the process.\n"
     ]
    },
    {
     "name": "stdout",
     "output_type": "stream",
     "text": [
      "447/447 [==============================] - 12s 6ms/step - loss: 1.6355 - accuracy: 0.3733 - val_loss: 1.4149 - val_accuracy: 0.5112\n",
      "Epoch 2/30\n",
      "447/447 [==============================] - 2s 6ms/step - loss: 1.3488 - accuracy: 0.5422 - val_loss: 1.1702 - val_accuracy: 0.6015\n",
      "Epoch 3/30\n",
      "447/447 [==============================] - 2s 6ms/step - loss: 1.1565 - accuracy: 0.6084 - val_loss: 1.0299 - val_accuracy: 0.6546\n",
      "Epoch 4/30\n",
      "447/447 [==============================] - 3s 6ms/step - loss: 1.0452 - accuracy: 0.6426 - val_loss: 0.9613 - val_accuracy: 0.6669\n",
      "Epoch 5/30\n",
      "447/447 [==============================] - 2s 6ms/step - loss: 0.9770 - accuracy: 0.6695 - val_loss: 0.9079 - val_accuracy: 0.6856\n",
      "Epoch 6/30\n",
      "447/447 [==============================] - 3s 6ms/step - loss: 0.9123 - accuracy: 0.6855 - val_loss: 0.8678 - val_accuracy: 0.7037\n",
      "Epoch 7/30\n",
      "447/447 [==============================] - 2s 6ms/step - loss: 0.8637 - accuracy: 0.7030 - val_loss: 0.8871 - val_accuracy: 0.7093\n",
      "Epoch 8/30\n",
      "447/447 [==============================] - 2s 6ms/step - loss: 0.8208 - accuracy: 0.7173 - val_loss: 0.8042 - val_accuracy: 0.7208\n",
      "Epoch 9/30\n",
      "447/447 [==============================] - 2s 6ms/step - loss: 0.7796 - accuracy: 0.7319 - val_loss: 0.7967 - val_accuracy: 0.7283\n",
      "Epoch 10/30\n",
      "447/447 [==============================] - 2s 6ms/step - loss: 0.7384 - accuracy: 0.7437 - val_loss: 0.8012 - val_accuracy: 0.7267\n",
      "Epoch 11/30\n",
      "447/447 [==============================] - 3s 6ms/step - loss: 0.7056 - accuracy: 0.7530 - val_loss: 0.7963 - val_accuracy: 0.7281\n",
      "Epoch 12/30\n",
      "447/447 [==============================] - 2s 5ms/step - loss: 0.6738 - accuracy: 0.7638 - val_loss: 0.7851 - val_accuracy: 0.7323\n",
      "Epoch 13/30\n",
      "447/447 [==============================] - 2s 6ms/step - loss: 0.6491 - accuracy: 0.7712 - val_loss: 0.8018 - val_accuracy: 0.7345\n",
      "Epoch 14/30\n",
      "447/447 [==============================] - 2s 6ms/step - loss: 0.6161 - accuracy: 0.7849 - val_loss: 0.7979 - val_accuracy: 0.7283\n",
      "Epoch 15/30\n",
      "447/447 [==============================] - 3s 6ms/step - loss: 0.5893 - accuracy: 0.7898 - val_loss: 0.8154 - val_accuracy: 0.7401\n",
      "Epoch 16/30\n",
      "447/447 [==============================] - 3s 6ms/step - loss: 0.5705 - accuracy: 0.7972 - val_loss: 0.9108 - val_accuracy: 0.7337\n",
      "Epoch 17/30\n",
      "447/447 [==============================] - 2s 6ms/step - loss: 0.5450 - accuracy: 0.8063 - val_loss: 0.8640 - val_accuracy: 0.7325\n",
      "Epoch 18/30\n",
      "447/447 [==============================] - 3s 6ms/step - loss: 0.5179 - accuracy: 0.8131 - val_loss: 0.8263 - val_accuracy: 0.7334\n",
      "Epoch 19/30\n",
      "447/447 [==============================] - 3s 6ms/step - loss: 0.4985 - accuracy: 0.8228 - val_loss: 0.9189 - val_accuracy: 0.7356\n",
      "Epoch 20/30\n",
      "447/447 [==============================] - 2s 6ms/step - loss: 0.4796 - accuracy: 0.8268 - val_loss: 0.8706 - val_accuracy: 0.7390\n",
      "Epoch 21/30\n",
      "447/447 [==============================] - 3s 6ms/step - loss: 0.4586 - accuracy: 0.8322 - val_loss: 0.9275 - val_accuracy: 0.7359\n",
      "Epoch 22/30\n",
      "447/447 [==============================] - 3s 6ms/step - loss: 0.4332 - accuracy: 0.8431 - val_loss: 0.9410 - val_accuracy: 0.7404\n",
      "Epoch 23/30\n",
      "447/447 [==============================] - 2s 6ms/step - loss: 0.4148 - accuracy: 0.8453 - val_loss: 0.9597 - val_accuracy: 0.7320\n",
      "Epoch 24/30\n",
      "447/447 [==============================] - 2s 6ms/step - loss: 0.4085 - accuracy: 0.8505 - val_loss: 1.0051 - val_accuracy: 0.7353\n",
      "Epoch 25/30\n",
      "447/447 [==============================] - 2s 6ms/step - loss: 0.3946 - accuracy: 0.8559 - val_loss: 1.0749 - val_accuracy: 0.7328\n",
      "Epoch 26/30\n",
      "447/447 [==============================] - 2s 6ms/step - loss: 0.3698 - accuracy: 0.8625 - val_loss: 1.1052 - val_accuracy: 0.7317\n",
      "Epoch 27/30\n",
      "447/447 [==============================] - 2s 6ms/step - loss: 0.3613 - accuracy: 0.8662 - val_loss: 1.0913 - val_accuracy: 0.7339\n",
      "Epoch 28/30\n",
      "447/447 [==============================] - 2s 6ms/step - loss: 0.3488 - accuracy: 0.8694 - val_loss: 1.2066 - val_accuracy: 0.7348\n",
      "Epoch 29/30\n",
      "447/447 [==============================] - 2s 6ms/step - loss: 0.3395 - accuracy: 0.8729 - val_loss: 1.1506 - val_accuracy: 0.7300\n",
      "Epoch 30/30\n",
      "447/447 [==============================] - 3s 6ms/step - loss: 0.3229 - accuracy: 0.8783 - val_loss: 1.2075 - val_accuracy: 0.7412\n"
     ]
    }
   ],
   "source": [
    "# Fit the model\n",
    "basic_model_history = basic_model.fit(\n",
    "    train_images, train_labels,\n",
    "    epochs=30,\n",
    "    batch_size=64,\n",
    "    validation_data=(valid_images, valid_labels)\n",
    ")"
   ]
  },
  {
   "cell_type": "markdown",
   "id": "c5c52e4d",
   "metadata": {},
   "source": [
    "## Evaluate"
   ]
  },
  {
   "cell_type": "code",
   "execution_count": 22,
   "id": "25a7039e",
   "metadata": {},
   "outputs": [
    {
     "name": "stdout",
     "output_type": "stream",
     "text": [
      "112/112 [==============================] - 0s 3ms/step - loss: 1.3057 - accuracy: 0.7168\n",
      "Basic Model Test Accuracy: 0.7167646288871765\n"
     ]
    }
   ],
   "source": [
    "# Evaluate the model\n",
    "test_loss, test_acc = basic_model.evaluate(test_images, test_labels)\n",
    "print(\"Basic Model Test Accuracy:\", test_acc)"
   ]
  },
  {
   "cell_type": "markdown",
   "id": "4c7dc9ce",
   "metadata": {},
   "source": [
    "## Plot "
   ]
  },
  {
   "cell_type": "code",
   "execution_count": 23,
   "id": "6646205b",
   "metadata": {},
   "outputs": [
    {
     "data": {
      "image/png": "[encoded data removed]",
      "text/plain": [
       "<Figure size 1400x500 with 2 Axes>"
      ]
     },
     "metadata": {},
     "output_type": "display_data"
    }
   ],
   "source": [
    "# Plot the history\n",
    "# Assuming 'history' is the output from your model.fit()\n",
    "plt.figure(figsize=(14, 5))\n",
    "\n",
    "# Plot training & validation loss values\n",
    "plt.subplot(1, 2, 1)\n",
    "plt.plot(basic_model_history.history['loss'], label='Train Loss')\n",
    "plt.plot(basic_model_history.history['val_loss'], label='Validation Loss')\n",
    "plt.title('Basic Model Loss')\n",
    "plt.ylabel('Loss')\n",
    "plt.xlabel('Epoch')\n",
    "plt.legend(loc='upper right')\n",
    "\n",
    "# Plot training & validation mean squared error\n",
    "plt.subplot(1, 2, 2)\n",
    "plt.plot(basic_model_history.history['accuracy'], label='Train accuracy')\n",
    "plt.plot(basic_model_history.history['val_accuracy'], label='Validation accuracy')\n",
    "plt.title('Basic Model Accuracy')\n",
    "plt.ylabel('Accuracy')\n",
    "plt.xlabel('Epoch')\n",
    "plt.legend(loc='upper right')\n",
    "\n",
    "plt.tight_layout()\n",
    "plt.show()"
   ]
  },
  {
   "cell_type": "code",
   "execution_count": 24,
   "id": "052bea1e",
   "metadata": {},
   "outputs": [
    {
     "name": "stdout",
     "output_type": "stream",
     "text": [
      "112/112 [==============================] - 0s 2ms/step\n"
     ]
    },
    {
     "data": {
      "text/plain": [
       "(array([7, 3, 0, ..., 4, 1, 3]), array([0, 0, 0, ..., 0, 1, 3]))"
      ]
     },
     "execution_count": 24,
     "metadata": {},
     "output_type": "execute_result"
    }
   ],
   "source": [
    "# Get the prediction reusults\n",
    "predictions = basic_model.predict(test_images)\n",
    "predicted_labels = np.argmax(predictions, axis=1)\n",
    "test_labels, predicted_labels"
   ]
  },
  {
   "cell_type": "code",
   "execution_count": 25,
   "id": "61872ac5",
   "metadata": {},
   "outputs": [
    {
     "name": "stdout",
     "output_type": "stream",
     "text": [
      "Basic Model Accuracy: 0.7167646235656311\n"
     ]
    }
   ],
   "source": [
    "accuracy = accuracy_score(test_labels, predicted_labels)\n",
    "print(\"Basic Model Accuracy:\", accuracy)"
   ]
  },
  {
   "cell_type": "markdown",
   "id": "c6ff3df1",
   "metadata": {},
   "source": [
    "## Confusion Matrix"
   ]
  },
  {
   "cell_type": "code",
   "execution_count": 26,
   "id": "494605bc",
   "metadata": {},
   "outputs": [
    {
     "name": "stdout",
     "output_type": "stream",
     "text": [
      "Basic Model Confusion Matrix:\n",
      " [[1012   71   26  132   19    0    2    0    0]\n",
      " [  82  753   18   47   27    0    1    0    0]\n",
      " [  47   14  350   13   13    0    7    0    0]\n",
      " [ 161   31    5  224   20    0    3    0    0]\n",
      " [  62   32   17   22  190    0    2    0    0]\n",
      " [   4    3    2    3    6    5    0    0    0]\n",
      " [  16    4   30   13    5    0   25    0    0]\n",
      " [  16    2    3    3    0    2    0    1    0]\n",
      " [  12    3    5    4    2    0    0    0    1]]\n"
     ]
    },
    {
     "data": {
      "image/png": "[encoded data removed]",
      "text/plain": [
       "<Figure size 1000x800 with 1 Axes>"
      ]
     },
     "metadata": {},
     "output_type": "display_data"
    }
   ],
   "source": [
    "# Get the confusion matrix\n",
    "conf_matrix = confusion_matrix(test_labels, predicted_labels)\n",
    "print(\"Basic Model Confusion Matrix:\\n\", conf_matrix)\n",
    "\n",
    "# Plotting the confusion matrix\n",
    "plt.figure(figsize=(10, 8))\n",
    "ax = sns.heatmap(conf_matrix, annot=True, fmt='d', cmap='Blues', xticklabels=emotion_labels.values(), yticklabels=emotion_labels.values(), cbar=False)\n",
    "plt.xlabel('Predicted Labels')\n",
    "plt.ylabel('True Labels')\n",
    "plt.title('Basic Model Confusion Matrix')\n",
    "\n",
    "# Move the X-axis to the top of the plot\n",
    "ax.xaxis.tick_top()  # X-axis on top\n",
    "ax.xaxis.set_label_position('top')  # Move the x-axis label to the top\n",
    "\n",
    "plt.show()"
   ]
  },
  {
   "cell_type": "markdown",
   "id": "6af4f1c1",
   "metadata": {},
   "source": [
    "# Advanced CNN (VGG-like, ResNet)"
   ]
  },
  {
   "cell_type": "markdown",
   "id": "67d23d61",
   "metadata": {},
   "source": [
    "## Preprocessing"
   ]
  },
  {
   "cell_type": "code",
   "execution_count": 27,
   "id": "327722f7",
   "metadata": {},
   "outputs": [
    {
     "name": "stdout",
     "output_type": "stream",
     "text": [
      "Train images shape: (28559, 48, 48, 1) float64\n",
      "Valid images shape: (3578, 48, 48, 1) float64\n",
      "Tests images shape: (3573, 48, 48, 1) float64\n",
      "Train labels shape: (28559,) int64\n",
      "Valid labels shape: (3578,) int64\n",
      "Tests labels shape: (3573,) int64\n"
     ]
    }
   ],
   "source": [
    "print(\"Train images shape:\", train_images.shape, train_images.dtype)\n",
    "print(\"Valid images shape:\", valid_images.shape, valid_images.dtype)\n",
    "print(\"Tests images shape:\", test_images.shape, test_images.dtype)\n",
    "\n",
    "print(\"Train labels shape:\", train_labels.shape, train_labels.dtype)\n",
    "print(\"Valid labels shape:\", valid_labels.shape, valid_labels.dtype)\n",
    "print(\"Tests labels shape:\", test_labels.shape, test_labels.dtype)"
   ]
  },
  {
   "cell_type": "markdown",
   "id": "8ceccf48",
   "metadata": {},
   "source": [
    "## Resize images and save"
   ]
  },
  {
   "cell_type": "code",
   "execution_count": 28,
   "id": "bd46741d",
   "metadata": {},
   "outputs": [],
   "source": [
    "# Function to save images resized and normalized, and label values to HDF5 \n",
    "def save_images_to_hdf5(train_df, valid_df, test_df, base_path, hdf5_file):\n",
    "    # Create a new HDF5 file or open an existing file\n",
    "    with h5py.File(hdf5_file, 'w') as file:\n",
    "        # Create datasets to store images, labels, and paths\n",
    "        train_images = file.create_dataset('train_images', (train_df.shape[0], 224, 224, 3), dtype='float64')\n",
    "        valid_images = file.create_dataset('valid_images', (valid_df.shape[0], 224, 224, 3), dtype='float64')\n",
    "        test_images = file.create_dataset('test_images', (test_df.shape[0], 224, 224, 3), dtype='float64')\n",
    "\n",
    "        train_labels = file.create_dataset('train_images_labels', (train_df.shape[0]), dtype='int32')\n",
    "        valid_labels = file.create_dataset('valid_images_labels', (valid_df.shape[0]), dtype='int32')\n",
    "        test_labels = file.create_dataset('test_images_labels', (test_df.shape[0]), dtype='int32')\n",
    "\n",
    "        directory_map = {\n",
    "            \"Training\": \"FER2013Train\",\n",
    "            \"PublicTest\": \"FER2013Valid\",\n",
    "            \"PrivateTest\": \"FER2013Test\"\n",
    "        }\n",
    "\n",
    "        # Counters for each dataset to track insertion positions\n",
    "        train_idx, valid_idx, test_idx = 0, 0, 0\n",
    "        \n",
    "        # Store images in corresponding datasets\n",
    "        for idx, row in train_df.iterrows():\n",
    "            directory = directory_map.get(row['Usage'], None)\n",
    "            if directory:\n",
    "                image_path = os.path.join(base_path, directory, row['Image name'])\n",
    "                label = row['predominant_emotion_index']\n",
    "\n",
    "                # Load and process the image\n",
    "                image = Image.open(image_path).convert('L')\n",
    "                image = image.resize((224, 224))\n",
    "                image_array = np.array(image) / 255.0\n",
    "                image_array = np.stack((image_array,)*3, axis=-1)\n",
    "\n",
    "                train_images[train_idx] = image_array\n",
    "                train_labels[train_idx] = label\n",
    "                train_idx += 1\n",
    "        \n",
    "        for idx, row in valid_df.iterrows():\n",
    "            directory = directory_map.get(row['Usage'], None)\n",
    "            if directory:\n",
    "                image_path = os.path.join(base_path, directory, row['Image name'])\n",
    "                label = row['predominant_emotion_index']\n",
    "\n",
    "                # Load and process the image\n",
    "                image = Image.open(image_path).convert('L')\n",
    "                image = image.resize((224, 224))\n",
    "                image_array = np.array(image) / 255.0\n",
    "                image_array = np.stack((image_array,)*3, axis=-1)\n",
    "\n",
    "                valid_images[valid_idx] = image_array\n",
    "                valid_labels[valid_idx] = label\n",
    "                valid_idx += 1\n",
    "\n",
    "        for idx, row in test_df.iterrows():\n",
    "            directory = directory_map.get(row['Usage'], None)\n",
    "            if directory:\n",
    "                image_path = os.path.join(base_path, directory, row['Image name'])\n",
    "                label = row['predominant_emotion_index']\n",
    "\n",
    "                # Load and process the image\n",
    "                image = Image.open(image_path).convert('L')\n",
    "                image = image.resize((224, 224))\n",
    "                image_array = np.array(image) / 255.0\n",
    "                image_array = np.stack((image_array,)*3, axis=-1)\n",
    "\n",
    "                test_images[test_idx] = image_array\n",
    "                test_labels[test_idx] = label\n",
    "                test_idx += 1\n",
    "\n",
    "# Base path for images\n",
    "base_image_path = 'FERPlus-master/data'\n",
    "hdf5_file = 'processed_images.hdf5'\n",
    "\n",
    "# Assuming 'clean_df' is your DataFrame containing the image metadata\n",
    "save_images_to_hdf5(train_df, valid_df, test_df, base_image_path, hdf5_file)"
   ]
  },
  {
   "cell_type": "code",
   "execution_count": 29,
   "id": "4cc13082",
   "metadata": {},
   "outputs": [
    {
     "name": "stdout",
     "output_type": "stream",
     "text": [
      "Datasets contained within the file:\n",
      "Dataset Info: test_images, (3573, 224, 224, 3), float64\n",
      "Dataset Info: test_images_labels, (3573,), int32\n",
      "Dataset Info: train_images, (28559, 224, 224, 3), float64\n",
      "Dataset Info: train_images_labels, (28559,), int32\n",
      "Dataset Info: valid_images, (3578, 224, 224, 3), float64\n",
      "Dataset Info: valid_images_labels, (3578,), int32\n"
     ]
    }
   ],
   "source": [
    "# Function to inspect the contents of an HDF5 file\n",
    "def inspect_hdf5_file(filepath):\n",
    "    # Open the HDF5 file\n",
    "    with h5py.File(filepath, 'r') as file:\n",
    "        print(\"Datasets contained within the file:\")\n",
    "        for dataset_name in file:\n",
    "            # Access the dataset\n",
    "            dataset = file[dataset_name]\n",
    "            # Print details about the dataset\n",
    "            print(f\"Dataset Info: {dataset_name}, {dataset.shape}, {dataset.dtype}\")\n",
    "\n",
    "# Call the function to inspect the HDF5 file\n",
    "inspect_hdf5_file(hdf5_file)"
   ]
  },
  {
   "cell_type": "markdown",
   "id": "172ac90c",
   "metadata": {},
   "source": [
    "## Image generator function"
   ]
  },
  {
   "cell_type": "code",
   "execution_count": 30,
   "id": "661cace3",
   "metadata": {},
   "outputs": [],
   "source": [
    "# Define a generator function to load images from the HDF5 file\n",
    "def hdf5_image_generator(filepath, dataset_name, batch_size):\n",
    "    while True:  # Loop indefinitely\n",
    "        with h5py.File(filepath, 'r') as file:\n",
    "            images = file[dataset_name]\n",
    "            labels = file[dataset_name + '_labels']  # Adjust if your labels are stored differently\n",
    "            num_samples = images.shape[0]\n",
    "\n",
    "            for start in range(0, num_samples, batch_size):\n",
    "                end = min(start + batch_size, num_samples)\n",
    "                yield images[start:end], labels[start:end]\n",
    "\n",
    "batch_size = 32\n",
    "\n",
    "# Create generators for training and validation\n",
    "train_generator = hdf5_image_generator(hdf5_file, 'train_images', batch_size)\n",
    "valid_generator = hdf5_image_generator(hdf5_file, 'valid_images', batch_size)\n",
    "test_generator = hdf5_image_generator(hdf5_file, 'test_images', batch_size)\n",
    "\n",
    "# Get the lengths of the datasets\n",
    "def get_dataset_lengths(filepath):\n",
    "    with h5py.File(filepath, 'r') as file:\n",
    "        lengths = {}\n",
    "        for dataset_name in file:\n",
    "            dataset = file[dataset_name]\n",
    "            lengths[dataset_name] = len(dataset)\n",
    "    return lengths\n",
    "\n",
    "dataset_lengths = get_dataset_lengths(hdf5_file)\n",
    "train_steps_per_epoch = dataset_lengths['train_images'] // batch_size\n",
    "valid_steps = dataset_lengths['valid_images'] // batch_size\n",
    "test_steps = dataset_lengths['test_images'] // batch_size"
   ]
  },
  {
   "cell_type": "markdown",
   "id": "00becfd6",
   "metadata": {},
   "source": [
    "## Early stopping callback"
   ]
  },
  {
   "cell_type": "code",
   "execution_count": 31,
   "id": "f30d409c",
   "metadata": {},
   "outputs": [],
   "source": [
    "# Implement EarlyStopping callback function\n",
    "early_stopping = EarlyStopping(\n",
    "    monitor='val_loss',   # Monitor the validation loss\n",
    "    patience=10,          # Number of epochs with no improvement after which training will be stopped\n",
    "    verbose=1,            # Log when training stops\n",
    "    restore_best_weights=True  # Restores model weights from the epoch with the best value of the monitored metric\n",
    ")"
   ]
  },
  {
   "cell_type": "markdown",
   "id": "7a84e75a",
   "metadata": {},
   "source": [
    "## VGG16 Model"
   ]
  },
  {
   "cell_type": "code",
   "execution_count": 34,
   "id": "b5a52d32",
   "metadata": {},
   "outputs": [],
   "source": [
    "# Load the base model with pre-trained weights on ImageNet and without the top layer\n",
    "vgg16_base_model = VGG16(include_top=False, weights='imagenet', input_shape=(224, 224, 3))\n",
    "\n",
    "# Flatten the output layer to 1 dimension\n",
    "x = Flatten()(vgg16_base_model.output)\n",
    "\n",
    "# Add a fully connected layer with 256 hidden units and ReLU activation\n",
    "x = Dense(256, activation='relu')(x)\n",
    "x = Dropout(0.5)(x)\n",
    "\n",
    "# Add a final softmax layer for classification\n",
    "output = Dense(10, activation='softmax')(x)\n",
    "\n",
    "# Configure and compile the model\n",
    "vgg16_model = Model(inputs=vgg16_base_model.input, outputs=output)\n",
    "vgg16_model.compile(optimizer='adam', loss='sparse_categorical_crossentropy', metrics=['accuracy'])"
   ]
  },
  {
   "cell_type": "markdown",
   "id": "ba011387",
   "metadata": {},
   "source": [
    "### Fit model"
   ]
  },
  {
   "cell_type": "code",
   "execution_count": 35,
   "id": "0a604deb",
   "metadata": {},
   "outputs": [
    {
     "name": "stdout",
     "output_type": "stream",
     "text": [
      "Epoch 1/50\n",
      "892/892 [==============================] - 365s 384ms/step - loss: 1.7008 - accuracy: 0.3476 - val_loss: 1.6280 - val_accuracy: 0.3733\n",
      "Epoch 2/50\n",
      "892/892 [==============================] - 343s 385ms/step - loss: 1.6367 - accuracy: 0.3597 - val_loss: 1.6301 - val_accuracy: 0.3773\n",
      "Epoch 3/50\n",
      "892/892 [==============================] - 341s 382ms/step - loss: 1.6443 - accuracy: 0.3584 - val_loss: 1.6381 - val_accuracy: 0.3733\n",
      "Epoch 4/50\n",
      "892/892 [==============================] - 355s 398ms/step - loss: 1.6768 - accuracy: 0.3564 - val_loss: 1.6420 - val_accuracy: 0.3733\n",
      "Epoch 5/50\n",
      "892/892 [==============================] - 344s 386ms/step - loss: 1.6374 - accuracy: 0.3601 - val_loss: 1.6426 - val_accuracy: 0.3733\n",
      "Epoch 6/50\n",
      "892/892 [==============================] - 360s 403ms/step - loss: 1.6366 - accuracy: 0.3606 - val_loss: 1.6391 - val_accuracy: 0.3733\n",
      "Epoch 7/50\n",
      "892/892 [==============================] - 352s 395ms/step - loss: 1.6328 - accuracy: 0.3611 - val_loss: 1.6381 - val_accuracy: 0.3733\n",
      "Epoch 8/50\n",
      "892/892 [==============================] - 345s 387ms/step - loss: 1.6313 - accuracy: 0.3610 - val_loss: 1.6385 - val_accuracy: 0.3733\n",
      "Epoch 9/50\n",
      "892/892 [==============================] - 351s 394ms/step - loss: 1.6316 - accuracy: 0.3609 - val_loss: 1.6385 - val_accuracy: 0.3733\n",
      "Epoch 10/50\n",
      "892/892 [==============================] - 347s 390ms/step - loss: 1.6307 - accuracy: 0.3610 - val_loss: 1.6388 - val_accuracy: 0.3733\n",
      "Epoch 11/50\n",
      "892/892 [==============================] - 354s 397ms/step - loss: 1.6303 - accuracy: 0.3609 - val_loss: 1.6387 - val_accuracy: 0.3733\n",
      "Epoch 12/50\n",
      "892/892 [==============================] - 356s 400ms/step - loss: 1.6310 - accuracy: 0.3608 - val_loss: 1.6388 - val_accuracy: 0.3733\n",
      "Epoch 13/50\n",
      "892/892 [==============================] - 353s 396ms/step - loss: 1.6306 - accuracy: 0.3609 - val_loss: 1.6386 - val_accuracy: 0.3733\n",
      "Epoch 14/50\n",
      "892/892 [==============================] - 364s 408ms/step - loss: 1.6304 - accuracy: 0.3612 - val_loss: 1.6387 - val_accuracy: 0.3733\n",
      "Epoch 15/50\n",
      "892/892 [==============================] - 358s 402ms/step - loss: 1.6305 - accuracy: 0.3611 - val_loss: 1.6381 - val_accuracy: 0.3733\n",
      "Epoch 16/50\n",
      "892/892 [==============================] - 351s 393ms/step - loss: 1.6304 - accuracy: 0.3610 - val_loss: 1.6385 - val_accuracy: 0.3733\n",
      "Epoch 17/50\n",
      "892/892 [==============================] - 358s 401ms/step - loss: 1.6303 - accuracy: 0.3610 - val_loss: 1.6385 - val_accuracy: 0.3733\n",
      "Epoch 18/50\n",
      "892/892 [==============================] - 357s 400ms/step - loss: 1.6300 - accuracy: 0.3611 - val_loss: 1.6383 - val_accuracy: 0.3733\n",
      "Epoch 19/50\n",
      "892/892 [==============================] - 358s 402ms/step - loss: 1.6303 - accuracy: 0.3611 - val_loss: 1.6381 - val_accuracy: 0.3733\n",
      "Epoch 20/50\n",
      "892/892 [==============================] - 355s 398ms/step - loss: 1.6302 - accuracy: 0.3610 - val_loss: 1.6380 - val_accuracy: 0.3733\n",
      "Epoch 21/50\n",
      "892/892 [==============================] - 346s 388ms/step - loss: 1.6302 - accuracy: 0.3611 - val_loss: 1.6381 - val_accuracy: 0.3733\n",
      "Epoch 22/50\n",
      "892/892 [==============================] - 360s 404ms/step - loss: 1.6303 - accuracy: 0.3609 - val_loss: 1.6380 - val_accuracy: 0.3733\n",
      "Epoch 23/50\n",
      "892/892 [==============================] - 356s 399ms/step - loss: 1.6301 - accuracy: 0.3610 - val_loss: 1.6379 - val_accuracy: 0.3733\n",
      "Epoch 24/50\n",
      "892/892 [==============================] - 360s 404ms/step - loss: 1.6302 - accuracy: 0.3609 - val_loss: 1.6381 - val_accuracy: 0.3733\n",
      "Epoch 25/50\n",
      "892/892 [==============================] - 354s 397ms/step - loss: 1.6297 - accuracy: 0.3610 - val_loss: 1.6378 - val_accuracy: 0.3733\n",
      "Epoch 26/50\n",
      "892/892 [==============================] - 366s 410ms/step - loss: 1.6295 - accuracy: 0.3611 - val_loss: 1.6378 - val_accuracy: 0.3733\n",
      "Epoch 27/50\n",
      "892/892 [==============================] - 349s 392ms/step - loss: 1.6296 - accuracy: 0.3610 - val_loss: 1.6377 - val_accuracy: 0.3733\n",
      "Epoch 28/50\n",
      "892/892 [==============================] - 366s 411ms/step - loss: 1.6294 - accuracy: 0.3611 - val_loss: 1.6377 - val_accuracy: 0.3733\n",
      "Epoch 29/50\n",
      "892/892 [==============================] - 362s 406ms/step - loss: 1.6299 - accuracy: 0.3608 - val_loss: 1.6377 - val_accuracy: 0.3733\n",
      "Epoch 30/50\n",
      "892/892 [==============================] - 359s 402ms/step - loss: 1.6294 - accuracy: 0.3611 - val_loss: 1.6376 - val_accuracy: 0.3733\n",
      "Epoch 31/50\n",
      "892/892 [==============================] - 361s 406ms/step - loss: 1.6295 - accuracy: 0.3608 - val_loss: 1.6377 - val_accuracy: 0.3733\n",
      "Epoch 32/50\n",
      "892/892 [==============================] - 361s 405ms/step - loss: 1.6294 - accuracy: 0.3611 - val_loss: 1.6374 - val_accuracy: 0.3733\n",
      "Epoch 33/50\n",
      "892/892 [==============================] - 362s 406ms/step - loss: 1.6287 - accuracy: 0.3612 - val_loss: 1.6371 - val_accuracy: 0.3733\n",
      "Epoch 34/50\n",
      "892/892 [==============================] - 361s 405ms/step - loss: 1.6296 - accuracy: 0.3612 - val_loss: 1.6373 - val_accuracy: 0.3733\n",
      "Epoch 35/50\n",
      "892/892 [==============================] - 359s 403ms/step - loss: 1.6295 - accuracy: 0.3610 - val_loss: 1.6372 - val_accuracy: 0.3733\n",
      "Epoch 36/50\n",
      "892/892 [==============================] - 355s 398ms/step - loss: 1.6292 - accuracy: 0.3608 - val_loss: 1.6372 - val_accuracy: 0.3733\n",
      "Epoch 37/50\n",
      "892/892 [==============================] - 364s 408ms/step - loss: 1.6295 - accuracy: 0.3611 - val_loss: 1.6370 - val_accuracy: 0.3733\n",
      "Epoch 38/50\n",
      "892/892 [==============================] - 367s 412ms/step - loss: 1.6288 - accuracy: 0.3611 - val_loss: 1.6370 - val_accuracy: 0.3733\n",
      "Epoch 39/50\n",
      "892/892 [==============================] - 352s 395ms/step - loss: 1.6291 - accuracy: 0.3610 - val_loss: 1.6370 - val_accuracy: 0.3733\n",
      "Epoch 40/50\n",
      "892/892 [==============================] - 358s 401ms/step - loss: 1.6289 - accuracy: 0.3610 - val_loss: 1.6371 - val_accuracy: 0.3733\n",
      "Epoch 41/50\n",
      "892/892 [==============================] - 376s 422ms/step - loss: 1.6291 - accuracy: 0.3610 - val_loss: 1.6369 - val_accuracy: 0.3733\n",
      "Epoch 42/50\n",
      "892/892 [==============================] - 358s 401ms/step - loss: 1.6285 - accuracy: 0.3611 - val_loss: 1.6370 - val_accuracy: 0.3733\n",
      "Epoch 43/50\n",
      "892/892 [==============================] - 367s 412ms/step - loss: 1.6295 - accuracy: 0.3611 - val_loss: 1.6371 - val_accuracy: 0.3733\n",
      "Epoch 44/50\n",
      "892/892 [==============================] - 381s 427ms/step - loss: 1.6289 - accuracy: 0.3611 - val_loss: 1.6368 - val_accuracy: 0.3733\n",
      "Epoch 45/50\n",
      "892/892 [==============================] - 366s 411ms/step - loss: 1.6295 - accuracy: 0.3611 - val_loss: 1.6367 - val_accuracy: 0.3733\n",
      "Epoch 46/50\n",
      "892/892 [==============================] - 374s 420ms/step - loss: 1.6291 - accuracy: 0.3609 - val_loss: 1.6368 - val_accuracy: 0.3733\n",
      "Epoch 47/50\n",
      "892/892 [==============================] - 364s 408ms/step - loss: 1.6286 - accuracy: 0.3609 - val_loss: 1.6370 - val_accuracy: 0.3733\n",
      "Epoch 48/50\n",
      "892/892 [==============================] - 364s 409ms/step - loss: 1.6291 - accuracy: 0.3609 - val_loss: 1.6369 - val_accuracy: 0.3733\n",
      "Epoch 49/50\n",
      "892/892 [==============================] - 361s 405ms/step - loss: 1.6292 - accuracy: 0.3609 - val_loss: 1.6369 - val_accuracy: 0.3733\n",
      "Epoch 50/50\n",
      "892/892 [==============================] - 364s 408ms/step - loss: 1.6295 - accuracy: 0.3610 - val_loss: 1.6371 - val_accuracy: 0.3733\n"
     ]
    }
   ],
   "source": [
    "# Fit the model using the generator\n",
    "vgg16_model_history = vgg16_model.fit(\n",
    "    train_generator,\n",
    "    steps_per_epoch=train_steps_per_epoch,\n",
    "    epochs=50,\n",
    "    validation_data=valid_generator,\n",
    "    validation_steps=valid_steps,\n",
    "    #callbacks=[early_stopping]\n",
    ")"
   ]
  },
  {
   "cell_type": "code",
   "execution_count": 40,
   "id": "20d89c74",
   "metadata": {},
   "outputs": [],
   "source": [
    "vgg16_model.save('vgg16_model.h5')"
   ]
  },
  {
   "cell_type": "markdown",
   "id": "30fe305c",
   "metadata": {},
   "source": [
    "### Evaluate"
   ]
  },
  {
   "cell_type": "code",
   "execution_count": 36,
   "id": "e115f447",
   "metadata": {},
   "outputs": [
    {
     "name": "stdout",
     "output_type": "stream",
     "text": [
      "111/111 [==============================] - 42s 355ms/step - loss: 1.6561 - accuracy: 0.3536\n",
      "VGG16 Model Test Accuracy: 0.3536036014556885\n"
     ]
    }
   ],
   "source": [
    "# Perform evaluation\n",
    "test_loss, test_acc = vgg16_model.evaluate(test_generator, steps=test_steps)\n",
    "print(\"VGG16 Model Test Accuracy:\", test_acc)"
   ]
  },
  {
   "cell_type": "markdown",
   "id": "b5d8e0e8",
   "metadata": {},
   "source": [
    "### Plot"
   ]
  },
  {
   "cell_type": "code",
   "execution_count": 37,
   "id": "2ed68721",
   "metadata": {},
   "outputs": [
    {
     "data": {
      "image/png": "[encoded data removed]",
      "text/plain": [
       "<Figure size 1400x500 with 2 Axes>"
      ]
     },
     "metadata": {},
     "output_type": "display_data"
    }
   ],
   "source": [
    "# Plot the history\n",
    "# Assuming 'history' is the output from your model.fit()\n",
    "plt.figure(figsize=(14, 5))\n",
    "\n",
    "# Plot training & validation loss values\n",
    "plt.subplot(1, 2, 1)\n",
    "plt.plot(vgg16_model_history.history['loss'], label='Train Loss')\n",
    "plt.plot(vgg16_model_history.history['val_loss'], label='Validation Loss')\n",
    "plt.title('VGG16 Model Loss')\n",
    "plt.ylabel('Loss')\n",
    "plt.xlabel('Epoch')\n",
    "plt.legend(loc='upper right')\n",
    "\n",
    "# Plot training & validation mean squared error\n",
    "plt.subplot(1, 2, 2)\n",
    "plt.plot(vgg16_model_history.history['accuracy'], label='Train accuracy')\n",
    "plt.plot(vgg16_model_history.history['val_accuracy'], label='Validation accuracy')\n",
    "plt.title('VGG16 Model Accuracy')\n",
    "plt.ylabel('Accuracy')\n",
    "plt.xlabel('Epoch')\n",
    "plt.legend(loc='upper right')\n",
    "\n",
    "plt.tight_layout()\n",
    "plt.show()"
   ]
  },
  {
   "cell_type": "code",
   "execution_count": 38,
   "id": "f61426b3",
   "metadata": {},
   "outputs": [
    {
     "name": "stdout",
     "output_type": "stream",
     "text": [
      "111/111 [==============================] - 11s 45ms/step\n"
     ]
    },
    {
     "data": {
      "text/plain": [
       "(array([7, 3, 0, ..., 4, 1, 3]), array([0, 0, 0, ..., 0, 0, 0]))"
      ]
     },
     "execution_count": 38,
     "metadata": {},
     "output_type": "execute_result"
    }
   ],
   "source": [
    "predictions = vgg16_model.predict(test_generator, steps=test_steps)\n",
    "predicted_labels = np.argmax(predictions, axis=1)\n",
    "test_labels, predicted_labels"
   ]
  },
  {
   "cell_type": "code",
   "execution_count": 39,
   "id": "6a648f34",
   "metadata": {},
   "outputs": [
    {
     "ename": "ValueError",
     "evalue": "Found input variables with inconsistent numbers of samples: [3573, 3552]",
     "output_type": "error",
     "traceback": [
      "\u001b[0;31m---------------------------------------------------------------------------\u001b[0m",
      "\u001b[0;31mValueError\u001b[0m                                Traceback (most recent call last)",
      "\u001b[0;32m/tmp/ipykernel_817487/498996138.py\u001b[0m in \u001b[0;36m<module>\u001b[0;34m\u001b[0m\n\u001b[0;32m----> 1\u001b[0;31m \u001b[0maccuracy\u001b[0m \u001b[0;34m=\u001b[0m \u001b[0maccuracy_score\u001b[0m\u001b[0;34m(\u001b[0m\u001b[0mtest_labels\u001b[0m\u001b[0;34m,\u001b[0m \u001b[0mpredicted_labels\u001b[0m\u001b[0;34m)\u001b[0m\u001b[0;34m\u001b[0m\u001b[0;34m\u001b[0m\u001b[0m\n\u001b[0m\u001b[1;32m      2\u001b[0m \u001b[0mprint\u001b[0m\u001b[0;34m(\u001b[0m\u001b[0;34m\"VGG16 Model Accuracy:\"\u001b[0m\u001b[0;34m,\u001b[0m \u001b[0maccuracy\u001b[0m\u001b[0;34m)\u001b[0m\u001b[0;34m\u001b[0m\u001b[0;34m\u001b[0m\u001b[0m\n",
      "\u001b[0;32m~/miniconda3/envs/venv/lib/python3.7/site-packages/sklearn/metrics/_classification.py\u001b[0m in \u001b[0;36maccuracy_score\u001b[0;34m(y_true, y_pred, normalize, sample_weight)\u001b[0m\n\u001b[1;32m    209\u001b[0m \u001b[0;34m\u001b[0m\u001b[0m\n\u001b[1;32m    210\u001b[0m     \u001b[0;31m# Compute accuracy for each possible representation\u001b[0m\u001b[0;34m\u001b[0m\u001b[0;34m\u001b[0m\u001b[0;34m\u001b[0m\u001b[0m\n\u001b[0;32m--> 211\u001b[0;31m     \u001b[0my_type\u001b[0m\u001b[0;34m,\u001b[0m \u001b[0my_true\u001b[0m\u001b[0;34m,\u001b[0m \u001b[0my_pred\u001b[0m \u001b[0;34m=\u001b[0m \u001b[0m_check_targets\u001b[0m\u001b[0;34m(\u001b[0m\u001b[0my_true\u001b[0m\u001b[0;34m,\u001b[0m \u001b[0my_pred\u001b[0m\u001b[0;34m)\u001b[0m\u001b[0;34m\u001b[0m\u001b[0;34m\u001b[0m\u001b[0m\n\u001b[0m\u001b[1;32m    212\u001b[0m     \u001b[0mcheck_consistent_length\u001b[0m\u001b[0;34m(\u001b[0m\u001b[0my_true\u001b[0m\u001b[0;34m,\u001b[0m \u001b[0my_pred\u001b[0m\u001b[0;34m,\u001b[0m \u001b[0msample_weight\u001b[0m\u001b[0;34m)\u001b[0m\u001b[0;34m\u001b[0m\u001b[0;34m\u001b[0m\u001b[0m\n\u001b[1;32m    213\u001b[0m     \u001b[0;32mif\u001b[0m \u001b[0my_type\u001b[0m\u001b[0;34m.\u001b[0m\u001b[0mstartswith\u001b[0m\u001b[0;34m(\u001b[0m\u001b[0;34m\"multilabel\"\u001b[0m\u001b[0;34m)\u001b[0m\u001b[0;34m:\u001b[0m\u001b[0;34m\u001b[0m\u001b[0;34m\u001b[0m\u001b[0m\n",
      "\u001b[0;32m~/miniconda3/envs/venv/lib/python3.7/site-packages/sklearn/metrics/_classification.py\u001b[0m in \u001b[0;36m_check_targets\u001b[0;34m(y_true, y_pred)\u001b[0m\n\u001b[1;32m     82\u001b[0m     \u001b[0my_pred\u001b[0m \u001b[0;34m:\u001b[0m \u001b[0marray\u001b[0m \u001b[0;32mor\u001b[0m \u001b[0mindicator\u001b[0m \u001b[0mmatrix\u001b[0m\u001b[0;34m\u001b[0m\u001b[0;34m\u001b[0m\u001b[0m\n\u001b[1;32m     83\u001b[0m     \"\"\"\n\u001b[0;32m---> 84\u001b[0;31m     \u001b[0mcheck_consistent_length\u001b[0m\u001b[0;34m(\u001b[0m\u001b[0my_true\u001b[0m\u001b[0;34m,\u001b[0m \u001b[0my_pred\u001b[0m\u001b[0;34m)\u001b[0m\u001b[0;34m\u001b[0m\u001b[0;34m\u001b[0m\u001b[0m\n\u001b[0m\u001b[1;32m     85\u001b[0m     \u001b[0mtype_true\u001b[0m \u001b[0;34m=\u001b[0m \u001b[0mtype_of_target\u001b[0m\u001b[0;34m(\u001b[0m\u001b[0my_true\u001b[0m\u001b[0;34m)\u001b[0m\u001b[0;34m\u001b[0m\u001b[0;34m\u001b[0m\u001b[0m\n\u001b[1;32m     86\u001b[0m     \u001b[0mtype_pred\u001b[0m \u001b[0;34m=\u001b[0m \u001b[0mtype_of_target\u001b[0m\u001b[0;34m(\u001b[0m\u001b[0my_pred\u001b[0m\u001b[0;34m)\u001b[0m\u001b[0;34m\u001b[0m\u001b[0;34m\u001b[0m\u001b[0m\n",
      "\u001b[0;32m~/miniconda3/envs/venv/lib/python3.7/site-packages/sklearn/utils/validation.py\u001b[0m in \u001b[0;36mcheck_consistent_length\u001b[0;34m(*arrays)\u001b[0m\n\u001b[1;32m    332\u001b[0m         raise ValueError(\n\u001b[1;32m    333\u001b[0m             \u001b[0;34m\"Found input variables with inconsistent numbers of samples: %r\"\u001b[0m\u001b[0;34m\u001b[0m\u001b[0;34m\u001b[0m\u001b[0m\n\u001b[0;32m--> 334\u001b[0;31m             \u001b[0;34m%\u001b[0m \u001b[0;34m[\u001b[0m\u001b[0mint\u001b[0m\u001b[0;34m(\u001b[0m\u001b[0ml\u001b[0m\u001b[0;34m)\u001b[0m \u001b[0;32mfor\u001b[0m \u001b[0ml\u001b[0m \u001b[0;32min\u001b[0m \u001b[0mlengths\u001b[0m\u001b[0;34m]\u001b[0m\u001b[0;34m\u001b[0m\u001b[0;34m\u001b[0m\u001b[0m\n\u001b[0m\u001b[1;32m    335\u001b[0m         )\n\u001b[1;32m    336\u001b[0m \u001b[0;34m\u001b[0m\u001b[0m\n",
      "\u001b[0;31mValueError\u001b[0m: Found input variables with inconsistent numbers of samples: [3573, 3552]"
     ]
    }
   ],
   "source": [
    "accuracy = accuracy_score(test_labels, predicted_labels)\n",
    "print(\"VGG16 Model Accuracy:\", accuracy)"
   ]
  },
  {
   "cell_type": "markdown",
   "id": "fdfce9ad",
   "metadata": {},
   "source": [
    "### Confusion Matrix"
   ]
  },
  {
   "cell_type": "code",
   "execution_count": null,
   "id": "9bb9f14f",
   "metadata": {},
   "outputs": [],
   "source": [
    "# Get the confusion matrix\n",
    "conf_matrix = confusion_matrix(test_labels, predicted_labels)\n",
    "print(\"VGG16 Model Confusion Matrix:\\n\", conf_matrix)\n",
    "\n",
    "# Plotting the confusion matrix\n",
    "plt.figure(figsize=(10, 8))\n",
    "ax = sns.heatmap(conf_matrix, annot=True, fmt='d', cmap='Blues', xticklabels=emotion_labels.values(), yticklabels=emotion_labels.values(), cbar=False)\n",
    "plt.xlabel('Predicted Labels')\n",
    "plt.ylabel('True Labels')\n",
    "plt.title('VGG16 Model Confusion Matrix')\n",
    "\n",
    "# Move the X-axis to the top of the plot\n",
    "ax.xaxis.tick_top()  # X-axis on top\n",
    "ax.xaxis.set_label_position('top')  # Move the x-axis label to the top\n",
    "\n",
    "plt.show()"
   ]
  },
  {
   "cell_type": "markdown",
   "id": "2a5095b9",
   "metadata": {},
   "source": [
    "## ResNet50 Model"
   ]
  },
  {
   "cell_type": "code",
   "execution_count": null,
   "id": "e87d873b",
   "metadata": {},
   "outputs": [],
   "source": [
    "# Load ResNet50 model, similar adjustments as VGG16\n",
    "resnet50_base_model = ResNet50(include_top=False, weights='imagenet', input_shape=(224, 224, 3))\n",
    "\n",
    "x = Flatten()(resnet50_base_model.output)\n",
    "\n",
    "x = Dense(256, activation='relu')(x)\n",
    "x = Dropout(0.5)(x)\n",
    "\n",
    "output = Dense(10, activation='softmax')(x)\n",
    "\n",
    "resnet50_model = Model(inputs=resnet50_base_model.input, outputs=output)\n",
    "resnet50_model.compile(optimizer='adam', loss='sparse_categorical_crossentropy', metrics=['accuracy'])"
   ]
  },
  {
   "cell_type": "markdown",
   "id": "e3ab08fe",
   "metadata": {},
   "source": [
    "### Fit model"
   ]
  },
  {
   "cell_type": "code",
   "execution_count": null,
   "id": "cade0b75",
   "metadata": {},
   "outputs": [],
   "source": [
    "# Fit the model\n",
    "resnet50_model_history = resnet50_model.fit(\n",
    "    train_generator,\n",
    "    steps_per_epoch=train_steps_per_epoch,\n",
    "    epochs=50,\n",
    "    batch_size=32,\n",
    "    validation_data=valid_generator,\n",
    "    validation_steps=valid_steps,\n",
    "    #callbacks=[early_stopping]  # Include the early stopping callback\n",
    ")"
   ]
  },
  {
   "cell_type": "markdown",
   "id": "2157f4ad",
   "metadata": {},
   "source": [
    "### Evaluate"
   ]
  },
  {
   "cell_type": "code",
   "execution_count": null,
   "id": "3a2c02d7",
   "metadata": {},
   "outputs": [],
   "source": [
    "# Perform evaluation\n",
    "test_loss, test_acc = resnet50_model.evaluate(test_generator, steps=test_steps)\n",
    "print(\"ResNet50 Model Test Accuracy:\", test_acc)"
   ]
  },
  {
   "cell_type": "markdown",
   "id": "63e7ea2b",
   "metadata": {},
   "source": [
    "### Plot"
   ]
  },
  {
   "cell_type": "code",
   "execution_count": null,
   "id": "dcf10770",
   "metadata": {},
   "outputs": [],
   "source": [
    "# Plot the history\n",
    "# Assuming 'history' is the output from your model.fit()\n",
    "plt.figure(figsize=(14, 5))\n",
    "\n",
    "# Plot training & validation loss values\n",
    "plt.subplot(1, 2, 1)\n",
    "plt.plot(resnet50_model_history.history['loss'], label='Train Loss')\n",
    "plt.plot(resnet50_model_history.history['val_loss'], label='Validation Loss')\n",
    "plt.title('ResNet50 Model Loss')\n",
    "plt.ylabel('Loss')\n",
    "plt.xlabel('Epoch')\n",
    "plt.legend(loc='upper right')\n",
    "\n",
    "# Plot training & validation mean squared error\n",
    "plt.subplot(1, 2, 2)\n",
    "plt.plot(resnet50_model_history.history['accuracy'], label='Train accuracy')\n",
    "plt.plot(resnet50_model_history.history['val_accuracy'], label='Validation accuracy')\n",
    "plt.title('ResNet50 Model Accuracy')\n",
    "plt.ylabel('Accuracy')\n",
    "plt.xlabel('Epoch')\n",
    "plt.legend(loc='upper right')\n",
    "\n",
    "plt.tight_layout()\n",
    "plt.show()"
   ]
  },
  {
   "cell_type": "code",
   "execution_count": null,
   "id": "237146e1",
   "metadata": {},
   "outputs": [],
   "source": [
    "predictions = resnet50_model.predict(test_generator, steps=test_steps)\n",
    "predicted_labels = np.argmax(predictions, axis=1)\n",
    "test_labels, predicted_labels"
   ]
  },
  {
   "cell_type": "code",
   "execution_count": null,
   "id": "349970b5",
   "metadata": {},
   "outputs": [],
   "source": [
    "accuracy = accuracy_score(test_labels, predicted_labels)\n",
    "print(\"ResNet50 Model Accuracy:\", accuracy)"
   ]
  },
  {
   "cell_type": "markdown",
   "id": "3f5c8ed7",
   "metadata": {},
   "source": [
    "### Confusion Matrix"
   ]
  },
  {
   "cell_type": "code",
   "execution_count": null,
   "id": "5c291196",
   "metadata": {},
   "outputs": [],
   "source": [
    "# Get the confusion matrix\n",
    "conf_matrix = confusion_matrix(test_labels, predicted_labels)\n",
    "print(\"ResNet50 Model Confusion Matrix:\\n\", conf_matrix)\n",
    "\n",
    "# Plotting the confusion matrix\n",
    "plt.figure(figsize=(10, 8))\n",
    "ax = sns.heatmap(conf_matrix, annot=True, fmt='d', cmap='Blues', xticklabels=emotion_labels.values(), yticklabels=emotion_labels.values(), cbar=False)\n",
    "plt.xlabel('Predicted Labels')\n",
    "plt.ylabel('True Labels')\n",
    "plt.title('ResNet50 Model Confusion Matrix')\n",
    "\n",
    "# Move the X-axis to the top of the plot\n",
    "ax.xaxis.tick_top()  # X-axis on top\n",
    "ax.xaxis.set_label_position('top')  # Move the x-axis label to the top\n",
    "\n",
    "plt.show()"
   ]
  },
  {
   "cell_type": "markdown",
   "id": "27c02780",
   "metadata": {},
   "source": [
    "# Transfer Learning (VGGFace, FaceNet)"
   ]
  },
  {
   "cell_type": "code",
   "execution_count": null,
   "id": "3cd995ea",
   "metadata": {},
   "outputs": [],
   "source": [
    "print(\"Train images shape:\", train_images.shape, train_images.dtype)\n",
    "print(\"Valid images shape:\", valid_images.shape, valid_images.dtype)\n",
    "print(\"Tests images shape:\", test_images.shape, test_images.dtype)\n",
    "\n",
    "print(\"Train labels shape:\", train_labels.shape, train_labels.dtype)\n",
    "print(\"Valid labels shape:\", valid_labels.shape, valid_labels.dtype)\n",
    "print(\"Tests labels shape:\", test_labels.shape, test_labels.dtype)"
   ]
  }
 ],
 "metadata": {
  "kernelspec": {
   "display_name": "Python 3 (ipykernel)",
   "language": "python",
   "name": "python3"
  },
  "language_info": {
   "codemirror_mode": {
    "name": "ipython",
    "version": 3
   },
   "file_extension": ".py",
   "mimetype": "text/x-python",
   "name": "python",
   "nbconvert_exporter": "python",
   "pygments_lexer": "ipython3",
   "version": "3.7.12"
  },
  "widgets": {
   "application/vnd.jupyter.widget-state+json": {
    "state": {},
    "version_major": 2,
    "version_minor": 0
   }
  }
 },
 "nbformat": 4,
 "nbformat_minor": 5
}
