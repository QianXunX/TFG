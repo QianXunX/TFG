{
 "cells": [
  {
   "cell_type": "code",
   "execution_count": 1,
   "id": "8b03525f",
   "metadata": {},
   "outputs": [
    {
     "name": "stderr",
     "output_type": "stream",
     "text": [
      "2024-05-14 22:22:03.054350: I tensorflow/core/platform/cpu_feature_guard.cc:193] This TensorFlow binary is optimized with oneAPI Deep Neural Network Library (oneDNN) to use the following CPU instructions in performance-critical operations:  AVX2 AVX512F FMA\n",
      "To enable them in other operations, rebuild TensorFlow with the appropriate compiler flags.\n",
      "2024-05-14 22:22:11.043108: W tensorflow/compiler/xla/stream_executor/platform/default/dso_loader.cc:64] Could not load dynamic library 'libnvinfer.so.7'; dlerror: libnvinfer.so.7: cannot open shared object file: No such file or directory; LD_LIBRARY_PATH: /home/jhuang/miniconda3/envs/venv/lib:/home/jhuang/miniconda3/envs/venv/nvvm/libdevice:/home/jhuang/miniconda3/envs/venv/lib:/home/jhuang/miniconda3/envs/venv/nvvm/libdevice::/home/jhuang/miniconda3/envs/venv/lib/\n",
      "2024-05-14 22:22:11.043239: W tensorflow/compiler/xla/stream_executor/platform/default/dso_loader.cc:64] Could not load dynamic library 'libnvinfer_plugin.so.7'; dlerror: libnvinfer_plugin.so.7: cannot open shared object file: No such file or directory; LD_LIBRARY_PATH: /home/jhuang/miniconda3/envs/venv/lib:/home/jhuang/miniconda3/envs/venv/nvvm/libdevice:/home/jhuang/miniconda3/envs/venv/lib:/home/jhuang/miniconda3/envs/venv/nvvm/libdevice::/home/jhuang/miniconda3/envs/venv/lib/\n",
      "2024-05-14 22:22:11.043246: W tensorflow/compiler/tf2tensorrt/utils/py_utils.cc:38] TF-TRT Warning: Cannot dlopen some TensorRT libraries. If you would like to use Nvidia GPU with TensorRT, please make sure the missing libraries mentioned above are installed properly.\n"
     ]
    },
    {
     "name": "stdout",
     "output_type": "stream",
     "text": [
      "GPU Detected: GPU - /physical_device:GPU:0\n",
      "GPU Detected: GPU - /physical_device:GPU:1\n"
     ]
    }
   ],
   "source": [
    "import os\n",
    "import numpy as np\n",
    "import pandas as pd\n",
    "from PIL import Image\n",
    "import tensorflow as tf\n",
    "from tensorflow.keras.models import Sequential, Model\n",
    "from tensorflow.keras.layers import Conv2D, MaxPooling2D, Flatten, Dense, Dropout\n",
    "import matplotlib.pyplot as plt\n",
    "from sklearn.metrics import accuracy_score, confusion_matrix\n",
    "import seaborn as sns\n",
    "from tensorflow.keras.applications import VGG16, ResNet50\n",
    "from tensorflow.keras.callbacks import EarlyStopping\n",
    "import h5py\n",
    "\n",
    "\n",
    "gpus = tf.config.list_physical_devices('GPU')\n",
    "if gpus:\n",
    "    for gpu in gpus:\n",
    "        print(f\"GPU Detected: {gpu.device_type} - {gpu.name}\")\n",
    "else:\n",
    "    print(\"No GPU detected\")"
   ]
  },
  {
   "cell_type": "markdown",
   "id": "2cc51408",
   "metadata": {},
   "source": [
    "# Data acquisition"
   ]
  },
  {
   "cell_type": "code",
   "execution_count": 2,
   "id": "initial_id",
   "metadata": {
    "ExecuteTime": {
     "end_time": "2024-04-30T16:44:51.359770Z",
     "start_time": "2024-04-30T16:44:50.837019Z"
    }
   },
   "outputs": [
    {
     "data": {
      "text/html": [
       "<div>\n",
       "<style scoped>\n",
       "    .dataframe tbody tr th:only-of-type {\n",
       "        vertical-align: middle;\n",
       "    }\n",
       "\n",
       "    .dataframe tbody tr th {\n",
       "        vertical-align: top;\n",
       "    }\n",
       "\n",
       "    .dataframe thead th {\n",
       "        text-align: right;\n",
       "    }\n",
       "</style>\n",
       "<table border=\"1\" class=\"dataframe\">\n",
       "  <thead>\n",
       "    <tr style=\"text-align: right;\">\n",
       "      <th></th>\n",
       "      <th>Usage</th>\n",
       "      <th>Image name</th>\n",
       "      <th>neutral</th>\n",
       "      <th>happiness</th>\n",
       "      <th>surprise</th>\n",
       "      <th>sadness</th>\n",
       "      <th>anger</th>\n",
       "      <th>disgust</th>\n",
       "      <th>fear</th>\n",
       "      <th>contempt</th>\n",
       "      <th>unknown</th>\n",
       "      <th>NF</th>\n",
       "    </tr>\n",
       "  </thead>\n",
       "  <tbody>\n",
       "    <tr>\n",
       "      <th>0</th>\n",
       "      <td>Training</td>\n",
       "      <td>fer0000000.png</td>\n",
       "      <td>4</td>\n",
       "      <td>0</td>\n",
       "      <td>0</td>\n",
       "      <td>1</td>\n",
       "      <td>3</td>\n",
       "      <td>2</td>\n",
       "      <td>0</td>\n",
       "      <td>0</td>\n",
       "      <td>0</td>\n",
       "      <td>0</td>\n",
       "    </tr>\n",
       "    <tr>\n",
       "      <th>1</th>\n",
       "      <td>Training</td>\n",
       "      <td>fer0000001.png</td>\n",
       "      <td>6</td>\n",
       "      <td>0</td>\n",
       "      <td>1</td>\n",
       "      <td>1</td>\n",
       "      <td>0</td>\n",
       "      <td>0</td>\n",
       "      <td>0</td>\n",
       "      <td>0</td>\n",
       "      <td>2</td>\n",
       "      <td>0</td>\n",
       "    </tr>\n",
       "    <tr>\n",
       "      <th>2</th>\n",
       "      <td>Training</td>\n",
       "      <td>fer0000002.png</td>\n",
       "      <td>5</td>\n",
       "      <td>0</td>\n",
       "      <td>0</td>\n",
       "      <td>3</td>\n",
       "      <td>1</td>\n",
       "      <td>0</td>\n",
       "      <td>0</td>\n",
       "      <td>0</td>\n",
       "      <td>1</td>\n",
       "      <td>0</td>\n",
       "    </tr>\n",
       "    <tr>\n",
       "      <th>3</th>\n",
       "      <td>Training</td>\n",
       "      <td>fer0000003.png</td>\n",
       "      <td>4</td>\n",
       "      <td>0</td>\n",
       "      <td>0</td>\n",
       "      <td>4</td>\n",
       "      <td>1</td>\n",
       "      <td>0</td>\n",
       "      <td>0</td>\n",
       "      <td>0</td>\n",
       "      <td>1</td>\n",
       "      <td>0</td>\n",
       "    </tr>\n",
       "    <tr>\n",
       "      <th>4</th>\n",
       "      <td>Training</td>\n",
       "      <td>fer0000004.png</td>\n",
       "      <td>9</td>\n",
       "      <td>0</td>\n",
       "      <td>0</td>\n",
       "      <td>1</td>\n",
       "      <td>0</td>\n",
       "      <td>0</td>\n",
       "      <td>0</td>\n",
       "      <td>0</td>\n",
       "      <td>0</td>\n",
       "      <td>0</td>\n",
       "    </tr>\n",
       "    <tr>\n",
       "      <th>...</th>\n",
       "      <td>...</td>\n",
       "      <td>...</td>\n",
       "      <td>...</td>\n",
       "      <td>...</td>\n",
       "      <td>...</td>\n",
       "      <td>...</td>\n",
       "      <td>...</td>\n",
       "      <td>...</td>\n",
       "      <td>...</td>\n",
       "      <td>...</td>\n",
       "      <td>...</td>\n",
       "      <td>...</td>\n",
       "    </tr>\n",
       "    <tr>\n",
       "      <th>35882</th>\n",
       "      <td>PrivateTest</td>\n",
       "      <td>fer0035797.png</td>\n",
       "      <td>8</td>\n",
       "      <td>0</td>\n",
       "      <td>0</td>\n",
       "      <td>2</td>\n",
       "      <td>0</td>\n",
       "      <td>0</td>\n",
       "      <td>0</td>\n",
       "      <td>0</td>\n",
       "      <td>0</td>\n",
       "      <td>0</td>\n",
       "    </tr>\n",
       "    <tr>\n",
       "      <th>35883</th>\n",
       "      <td>PrivateTest</td>\n",
       "      <td>NaN</td>\n",
       "      <td>0</td>\n",
       "      <td>0</td>\n",
       "      <td>0</td>\n",
       "      <td>0</td>\n",
       "      <td>0</td>\n",
       "      <td>0</td>\n",
       "      <td>0</td>\n",
       "      <td>0</td>\n",
       "      <td>0</td>\n",
       "      <td>10</td>\n",
       "    </tr>\n",
       "    <tr>\n",
       "      <th>35884</th>\n",
       "      <td>PrivateTest</td>\n",
       "      <td>fer0035799.png</td>\n",
       "      <td>0</td>\n",
       "      <td>0</td>\n",
       "      <td>0</td>\n",
       "      <td>0</td>\n",
       "      <td>7</td>\n",
       "      <td>1</td>\n",
       "      <td>0</td>\n",
       "      <td>2</td>\n",
       "      <td>0</td>\n",
       "      <td>0</td>\n",
       "    </tr>\n",
       "    <tr>\n",
       "      <th>35885</th>\n",
       "      <td>PrivateTest</td>\n",
       "      <td>fer0035800.png</td>\n",
       "      <td>0</td>\n",
       "      <td>10</td>\n",
       "      <td>0</td>\n",
       "      <td>0</td>\n",
       "      <td>0</td>\n",
       "      <td>0</td>\n",
       "      <td>0</td>\n",
       "      <td>0</td>\n",
       "      <td>0</td>\n",
       "      <td>0</td>\n",
       "    </tr>\n",
       "    <tr>\n",
       "      <th>35886</th>\n",
       "      <td>PrivateTest</td>\n",
       "      <td>fer0035801.png</td>\n",
       "      <td>2</td>\n",
       "      <td>0</td>\n",
       "      <td>0</td>\n",
       "      <td>5</td>\n",
       "      <td>1</td>\n",
       "      <td>1</td>\n",
       "      <td>0</td>\n",
       "      <td>0</td>\n",
       "      <td>1</td>\n",
       "      <td>0</td>\n",
       "    </tr>\n",
       "  </tbody>\n",
       "</table>\n",
       "<p>35887 rows × 12 columns</p>\n",
       "</div>"
      ],
      "text/plain": [
       "             Usage      Image name  neutral  happiness  surprise  sadness  \\\n",
       "0         Training  fer0000000.png        4          0         0        1   \n",
       "1         Training  fer0000001.png        6          0         1        1   \n",
       "2         Training  fer0000002.png        5          0         0        3   \n",
       "3         Training  fer0000003.png        4          0         0        4   \n",
       "4         Training  fer0000004.png        9          0         0        1   \n",
       "...            ...             ...      ...        ...       ...      ...   \n",
       "35882  PrivateTest  fer0035797.png        8          0         0        2   \n",
       "35883  PrivateTest             NaN        0          0         0        0   \n",
       "35884  PrivateTest  fer0035799.png        0          0         0        0   \n",
       "35885  PrivateTest  fer0035800.png        0         10         0        0   \n",
       "35886  PrivateTest  fer0035801.png        2          0         0        5   \n",
       "\n",
       "       anger  disgust  fear  contempt  unknown  NF  \n",
       "0          3        2     0         0        0   0  \n",
       "1          0        0     0         0        2   0  \n",
       "2          1        0     0         0        1   0  \n",
       "3          1        0     0         0        1   0  \n",
       "4          0        0     0         0        0   0  \n",
       "...      ...      ...   ...       ...      ...  ..  \n",
       "35882      0        0     0         0        0   0  \n",
       "35883      0        0     0         0        0  10  \n",
       "35884      7        1     0         2        0   0  \n",
       "35885      0        0     0         0        0   0  \n",
       "35886      1        1     0         0        1   0  \n",
       "\n",
       "[35887 rows x 12 columns]"
      ]
     },
     "execution_count": 2,
     "metadata": {},
     "output_type": "execute_result"
    }
   ],
   "source": [
    "# Read data form csv\n",
    "df = pd.read_csv(\"./FERPlus-master/fer2013new.csv\")\n",
    "df"
   ]
  },
  {
   "cell_type": "code",
   "execution_count": 3,
   "id": "00b8fd58",
   "metadata": {},
   "outputs": [
    {
     "name": "stdout",
     "output_type": "stream",
     "text": [
      "<class 'pandas.core.frame.DataFrame'>\n",
      "RangeIndex: 35887 entries, 0 to 35886\n",
      "Data columns (total 12 columns):\n",
      " #   Column      Non-Null Count  Dtype \n",
      "---  ------      --------------  ----- \n",
      " 0   Usage       35887 non-null  object\n",
      " 1   Image name  35714 non-null  object\n",
      " 2   neutral     35887 non-null  int64 \n",
      " 3   happiness   35887 non-null  int64 \n",
      " 4   surprise    35887 non-null  int64 \n",
      " 5   sadness     35887 non-null  int64 \n",
      " 6   anger       35887 non-null  int64 \n",
      " 7   disgust     35887 non-null  int64 \n",
      " 8   fear        35887 non-null  int64 \n",
      " 9   contempt    35887 non-null  int64 \n",
      " 10  unknown     35887 non-null  int64 \n",
      " 11  NF          35887 non-null  int64 \n",
      "dtypes: int64(10), object(2)\n",
      "memory usage: 3.3+ MB\n"
     ]
    }
   ],
   "source": [
    "# Display its general information\n",
    "df.info()"
   ]
  },
  {
   "cell_type": "markdown",
   "id": "2714cec3",
   "metadata": {},
   "source": [
    "# Preprocessing"
   ]
  },
  {
   "cell_type": "code",
   "execution_count": 4,
   "id": "7b558e53",
   "metadata": {},
   "outputs": [
    {
     "data": {
      "text/plain": [
       "Usage           0\n",
       "Image name    173\n",
       "neutral         0\n",
       "happiness       0\n",
       "surprise        0\n",
       "sadness         0\n",
       "anger           0\n",
       "disgust         0\n",
       "fear            0\n",
       "contempt        0\n",
       "unknown         0\n",
       "NF              0\n",
       "dtype: int64"
      ]
     },
     "execution_count": 4,
     "metadata": {},
     "output_type": "execute_result"
    }
   ],
   "source": [
    "# Check for any missing data particularly in 'Image name' column\n",
    "missing_data = df.isnull().sum()\n",
    "missing_data"
   ]
  },
  {
   "cell_type": "code",
   "execution_count": 5,
   "id": "eb1d9a11",
   "metadata": {},
   "outputs": [
    {
     "name": "stdout",
     "output_type": "stream",
     "text": [
      "<class 'pandas.core.frame.DataFrame'>\n",
      "Int64Index: 35714 entries, 0 to 35886\n",
      "Data columns (total 12 columns):\n",
      " #   Column      Non-Null Count  Dtype \n",
      "---  ------      --------------  ----- \n",
      " 0   Usage       35714 non-null  object\n",
      " 1   Image name  35714 non-null  object\n",
      " 2   neutral     35714 non-null  int64 \n",
      " 3   happiness   35714 non-null  int64 \n",
      " 4   surprise    35714 non-null  int64 \n",
      " 5   sadness     35714 non-null  int64 \n",
      " 6   anger       35714 non-null  int64 \n",
      " 7   disgust     35714 non-null  int64 \n",
      " 8   fear        35714 non-null  int64 \n",
      " 9   contempt    35714 non-null  int64 \n",
      " 10  unknown     35714 non-null  int64 \n",
      " 11  NF          35714 non-null  int64 \n",
      "dtypes: int64(10), object(2)\n",
      "memory usage: 3.5+ MB\n"
     ]
    }
   ],
   "source": [
    "# Remove entries with missing 'Image name'\n",
    "clean_df = df.dropna(subset=['Image name'])\n",
    "\n",
    "# Confirm the removal\n",
    "clean_df.info()"
   ]
  },
  {
   "cell_type": "code",
   "execution_count": 6,
   "id": "dea27277",
   "metadata": {},
   "outputs": [
    {
     "name": "stderr",
     "output_type": "stream",
     "text": [
      "/home/jhuang/miniconda3/envs/venv/lib/python3.7/site-packages/ipykernel_launcher.py:6: SettingWithCopyWarning: \n",
      "A value is trying to be set on a copy of a slice from a DataFrame.\n",
      "Try using .loc[row_indexer,col_indexer] = value instead\n",
      "\n",
      "See the caveats in the documentation: https://pandas.pydata.org/pandas-docs/stable/user_guide/indexing.html#returning-a-view-versus-a-copy\n",
      "  \n"
     ]
    },
    {
     "data": {
      "text/html": [
       "<div>\n",
       "<style scoped>\n",
       "    .dataframe tbody tr th:only-of-type {\n",
       "        vertical-align: middle;\n",
       "    }\n",
       "\n",
       "    .dataframe tbody tr th {\n",
       "        vertical-align: top;\n",
       "    }\n",
       "\n",
       "    .dataframe thead th {\n",
       "        text-align: right;\n",
       "    }\n",
       "</style>\n",
       "<table border=\"1\" class=\"dataframe\">\n",
       "  <thead>\n",
       "    <tr style=\"text-align: right;\">\n",
       "      <th></th>\n",
       "      <th>Usage</th>\n",
       "      <th>Image name</th>\n",
       "      <th>predominant_emotion_index</th>\n",
       "    </tr>\n",
       "  </thead>\n",
       "  <tbody>\n",
       "    <tr>\n",
       "      <th>0</th>\n",
       "      <td>Training</td>\n",
       "      <td>fer0000000.png</td>\n",
       "      <td>0</td>\n",
       "    </tr>\n",
       "    <tr>\n",
       "      <th>1</th>\n",
       "      <td>Training</td>\n",
       "      <td>fer0000001.png</td>\n",
       "      <td>0</td>\n",
       "    </tr>\n",
       "    <tr>\n",
       "      <th>2</th>\n",
       "      <td>Training</td>\n",
       "      <td>fer0000002.png</td>\n",
       "      <td>0</td>\n",
       "    </tr>\n",
       "    <tr>\n",
       "      <th>3</th>\n",
       "      <td>Training</td>\n",
       "      <td>fer0000003.png</td>\n",
       "      <td>0</td>\n",
       "    </tr>\n",
       "    <tr>\n",
       "      <th>4</th>\n",
       "      <td>Training</td>\n",
       "      <td>fer0000004.png</td>\n",
       "      <td>0</td>\n",
       "    </tr>\n",
       "    <tr>\n",
       "      <th>...</th>\n",
       "      <td>...</td>\n",
       "      <td>...</td>\n",
       "      <td>...</td>\n",
       "    </tr>\n",
       "    <tr>\n",
       "      <th>35881</th>\n",
       "      <td>PrivateTest</td>\n",
       "      <td>fer0035796.png</td>\n",
       "      <td>0</td>\n",
       "    </tr>\n",
       "    <tr>\n",
       "      <th>35882</th>\n",
       "      <td>PrivateTest</td>\n",
       "      <td>fer0035797.png</td>\n",
       "      <td>0</td>\n",
       "    </tr>\n",
       "    <tr>\n",
       "      <th>35884</th>\n",
       "      <td>PrivateTest</td>\n",
       "      <td>fer0035799.png</td>\n",
       "      <td>4</td>\n",
       "    </tr>\n",
       "    <tr>\n",
       "      <th>35885</th>\n",
       "      <td>PrivateTest</td>\n",
       "      <td>fer0035800.png</td>\n",
       "      <td>1</td>\n",
       "    </tr>\n",
       "    <tr>\n",
       "      <th>35886</th>\n",
       "      <td>PrivateTest</td>\n",
       "      <td>fer0035801.png</td>\n",
       "      <td>3</td>\n",
       "    </tr>\n",
       "  </tbody>\n",
       "</table>\n",
       "<p>35714 rows × 3 columns</p>\n",
       "</div>"
      ],
      "text/plain": [
       "             Usage      Image name  predominant_emotion_index\n",
       "0         Training  fer0000000.png                          0\n",
       "1         Training  fer0000001.png                          0\n",
       "2         Training  fer0000002.png                          0\n",
       "3         Training  fer0000003.png                          0\n",
       "4         Training  fer0000004.png                          0\n",
       "...            ...             ...                        ...\n",
       "35881  PrivateTest  fer0035796.png                          0\n",
       "35882  PrivateTest  fer0035797.png                          0\n",
       "35884  PrivateTest  fer0035799.png                          4\n",
       "35885  PrivateTest  fer0035800.png                          1\n",
       "35886  PrivateTest  fer0035801.png                          3\n",
       "\n",
       "[35714 rows x 3 columns]"
      ]
     },
     "execution_count": 6,
     "metadata": {},
     "output_type": "execute_result"
    }
   ],
   "source": [
    "# Extracting the emotion columns\n",
    "emotion_columns = ['neutral', 'happiness', 'surprise', 'sadness', 'anger', \n",
    "                   'disgust', 'fear', 'contempt', 'unknown', 'NF']\n",
    "\n",
    "# Finding the index of the maximum value in the emotion columns\n",
    "clean_df['predominant_emotion_index'] = clean_df[emotion_columns].idxmax(axis=1).apply(emotion_columns.index)\n",
    "\n",
    "# Drop the original emotion columns\n",
    "emo_idx_df = clean_df.drop(columns=emotion_columns)\n",
    "\n",
    "# Save the updated dataset to a new CSV file\n",
    "emo_idx_df.to_csv('data/emo_idx_df.csv', index=False)\n",
    "\n",
    "# Show the updated dataset with the new 'predominant_emotion_index' column\n",
    "emo_idx_df"
   ]
  },
  {
   "cell_type": "code",
   "execution_count": 7,
   "id": "10ce085a",
   "metadata": {},
   "outputs": [
    {
     "name": "stdout",
     "output_type": "stream",
     "text": [
      "Training       28561\n",
      "PublicTest      3579\n",
      "PrivateTest     3574\n",
      "Name: Usage, dtype: int64\n"
     ]
    }
   ],
   "source": [
    "# Count of row types\n",
    "print(emo_idx_df['Usage'].value_counts())"
   ]
  },
  {
   "cell_type": "code",
   "execution_count": 8,
   "id": "24bb0136",
   "metadata": {},
   "outputs": [
    {
     "name": "stdout",
     "output_type": "stream",
     "text": [
      "       Emotion  Count\n",
      "0      neutral  12906\n",
      "1    happiness   9355\n",
      "2     surprise   4462\n",
      "3      sadness   4371\n",
      "4        anger   3111\n",
      "5      disgust    248\n",
      "6         fear    819\n",
      "7     contempt    216\n",
      "8      unknown    222\n",
      "9   not a face      4\n",
      "10       Total  35714\n"
     ]
    },
    {
     "data": {
      "image/png": "[encoded data removed]",
      "text/plain": [
       "<Figure size 1000x600 with 1 Axes>"
      ]
     },
     "metadata": {},
     "output_type": "display_data"
    }
   ],
   "source": [
    "emotion_labels = {\n",
    "    0: \"neutral\",\n",
    "    1: \"happiness\",\n",
    "    2: \"surprise\",\n",
    "    3: \"sadness\",\n",
    "    4: \"anger\",\n",
    "    5: \"disgust\",\n",
    "    6: \"fear\",\n",
    "    7: \"contempt\",\n",
    "    8: \"unknown\",\n",
    "    9: \"not a face\"\n",
    "}\n",
    "\n",
    "# Count the number of occurrences of each emotion\n",
    "unique_indices, counts = np.unique(emo_idx_df['predominant_emotion_index'], return_counts=True)\n",
    "\n",
    "# Create a DataFrame\n",
    "emotion_counts = pd.DataFrame({\n",
    "    'Emotion': [emotion_labels[index] for index in unique_indices],\n",
    "    'Count': counts\n",
    "})\n",
    "\n",
    "# Add a total row\n",
    "total = emotion_counts['Count'].sum()\n",
    "total_row = pd.DataFrame({'Emotion': ['Total'], 'Count': [total]})\n",
    "emotion_counts = pd.concat([emotion_counts, total_row], ignore_index=True)\n",
    "\n",
    "# Display the DataFrame\n",
    "print(emotion_counts)\n",
    "\n",
    "plt.figure(figsize=(10, 6))\n",
    "plt.bar(emotion_counts['Emotion'][:-1], emotion_counts['Count'][:-1], color='skyblue')\n",
    "plt.xlabel('Emotion')\n",
    "plt.ylabel('Count')\n",
    "plt.title('Distribution of Predominant Emotions')\n",
    "plt.xticks(rotation=45)\n",
    "plt.tight_layout()\n",
    "plt.show()"
   ]
  },
  {
   "cell_type": "code",
   "execution_count": 9,
   "id": "d8cb6851",
   "metadata": {},
   "outputs": [
    {
     "name": "stdout",
     "output_type": "stream",
     "text": [
      "<class 'pandas.core.frame.DataFrame'>\n",
      "Int64Index: 34205 entries, 0 to 35886\n",
      "Data columns (total 3 columns):\n",
      " #   Column                     Non-Null Count  Dtype \n",
      "---  ------                     --------------  ----- \n",
      " 0   Usage                      34205 non-null  object\n",
      " 1   Image name                 34205 non-null  object\n",
      " 2   predominant_emotion_index  34205 non-null  int64 \n",
      "dtypes: int64(1), object(2)\n",
      "memory usage: 1.0+ MB\n"
     ]
    }
   ],
   "source": [
    "# Remove the rows\n",
    "relevant_df = emo_idx_df[~emo_idx_df['predominant_emotion_index'].isin([5, 6, 7, 8, 9])]\n",
    "relevant_df.info()"
   ]
  },
  {
   "cell_type": "code",
   "execution_count": 10,
   "id": "c6fa8ce0",
   "metadata": {},
   "outputs": [
    {
     "name": "stdout",
     "output_type": "stream",
     "text": [
      "     Emotion  Count\n",
      "0    neutral  12906\n",
      "1  happiness   9355\n",
      "2   surprise   4462\n",
      "3    sadness   4371\n",
      "4      anger   3111\n",
      "5      Total  34205\n"
     ]
    },
    {
     "data": {
      "image/png": "[encoded data removed]",
      "text/plain": [
       "<Figure size 1000x600 with 1 Axes>"
      ]
     },
     "metadata": {},
     "output_type": "display_data"
    }
   ],
   "source": [
    "unique_indices, counts = np.unique(relevant_df['predominant_emotion_index'], return_counts=True)\n",
    "\n",
    "# Create a DataFrame\n",
    "emotion_counts = pd.DataFrame({\n",
    "    'Emotion': [emotion_labels[index] for index in unique_indices],\n",
    "    'Count': counts\n",
    "})\n",
    "\n",
    "# Add a total row\n",
    "total = emotion_counts['Count'].sum()\n",
    "total_row = pd.DataFrame({'Emotion': ['Total'], 'Count': [total]})\n",
    "emotion_counts = pd.concat([emotion_counts, total_row], ignore_index=True)\n",
    "\n",
    "# Display the DataFrame\n",
    "print(emotion_counts)\n",
    "\n",
    "plt.figure(figsize=(10, 6))\n",
    "plt.bar(emotion_counts['Emotion'][:-1], emotion_counts['Count'][:-1], color='skyblue')\n",
    "plt.xlabel('Emotion')\n",
    "plt.ylabel('Count')\n",
    "plt.title('Distribution of Relevant Predominant Emotions')\n",
    "plt.xticks(rotation=45)\n",
    "plt.tight_layout()\n",
    "plt.show()"
   ]
  },
  {
   "cell_type": "markdown",
   "id": "42a1b5ad",
   "metadata": {},
   "source": [
    "## Balance classes"
   ]
  },
  {
   "cell_type": "code",
   "execution_count": 11,
   "id": "506f8da9",
   "metadata": {},
   "outputs": [
    {
     "data": {
      "text/plain": [
       "Training       16981\n",
       "PublicTest      2121\n",
       "PrivateTest     2103\n",
       "Name: Usage, dtype: int64"
      ]
     },
     "execution_count": 11,
     "metadata": {},
     "output_type": "execute_result"
    }
   ],
   "source": [
    "# Define the function to filter the dataframe\n",
    "def remove_random_rows(df, emotion_index, usage, num_rows_to_remove):\n",
    "    subset = df[(df['predominant_emotion_index'] == emotion_index) & (df['Usage'] == usage)]\n",
    "    remove_indices = subset.sample(n=num_rows_to_remove, random_state=42).index\n",
    "    df_filtered = df.drop(remove_indices)\n",
    "    return df_filtered\n",
    "\n",
    "# Define the number of rows to remove for each condition\n",
    "removals = {\n",
    "    (0, 'Training'): 6300,\n",
    "    (0, 'PublicTest'): 900,\n",
    "    (0, 'PrivateTest'): 800,\n",
    "    (1, 'Training'): 4100,\n",
    "    (1, 'PublicTest'): 400,\n",
    "    (1, 'PrivateTest'): 500\n",
    "}\n",
    "\n",
    "# Apply the removals\n",
    "balanced_relevant_df = relevant_df.copy()\n",
    "for (emotion_index, usage), num_rows in removals.items():\n",
    "    balanced_relevant_df = remove_random_rows(balanced_relevant_df, emotion_index, usage, num_rows)\n",
    "\n",
    "# Optionally, save the filtered dataframe to a new CSV file\n",
    "balanced_relevant_df.to_csv('data/balanced_relevant_df.csv', index=False)\n",
    "balanced_relevant_df['Usage'].value_counts()\n"
   ]
  },
  {
   "cell_type": "code",
   "execution_count": 12,
   "id": "8a198b46",
   "metadata": {},
   "outputs": [
    {
     "name": "stdout",
     "output_type": "stream",
     "text": [
      "     Emotion  Count\n",
      "0    neutral   4906\n",
      "1  happiness   4355\n",
      "2   surprise   4462\n",
      "3    sadness   4371\n",
      "4      anger   3111\n",
      "5      Total  21205\n"
     ]
    },
    {
     "data": {
      "image/png": "[encoded data removed]",
      "text/plain": [
       "<Figure size 1000x600 with 1 Axes>"
      ]
     },
     "metadata": {},
     "output_type": "display_data"
    }
   ],
   "source": [
    "unique_indices, counts = np.unique(balanced_relevant_df['predominant_emotion_index'], return_counts=True)\n",
    "\n",
    "# Create a DataFrame\n",
    "emotion_counts = pd.DataFrame({\n",
    "    'Emotion': [emotion_labels[index] for index in unique_indices],\n",
    "    'Count': counts\n",
    "})\n",
    "\n",
    "# Add a total row\n",
    "total = emotion_counts['Count'].sum()\n",
    "total_row = pd.DataFrame({'Emotion': ['Total'], 'Count': [total]})\n",
    "emotion_counts = pd.concat([emotion_counts, total_row], ignore_index=True)\n",
    "\n",
    "# Display the DataFrame\n",
    "print(emotion_counts)\n",
    "\n",
    "plt.figure(figsize=(10, 6))\n",
    "plt.bar(emotion_counts['Emotion'][:-1], emotion_counts['Count'][:-1], color='skyblue')\n",
    "plt.xlabel('Emotion')\n",
    "plt.ylabel('Count')\n",
    "plt.title('Distribution of Balanced Relevant Predominant Emotions')\n",
    "plt.xticks(rotation=45)\n",
    "plt.tight_layout()\n",
    "plt.show()"
   ]
  },
  {
   "cell_type": "markdown",
   "id": "27e07020",
   "metadata": {},
   "source": [
    "## Splitting data"
   ]
  },
  {
   "cell_type": "markdown",
   "id": "c6a93351",
   "metadata": {},
   "source": [
    "### All data"
   ]
  },
  {
   "cell_type": "code",
   "execution_count": 13,
   "id": "dff3fac3",
   "metadata": {},
   "outputs": [
    {
     "data": {
      "text/plain": [
       "((28561, 3), (3579, 3), (3574, 3))"
      ]
     },
     "execution_count": 13,
     "metadata": {},
     "output_type": "execute_result"
    }
   ],
   "source": [
    "# Creating separate DataFrame variables for each 'Usage' type\n",
    "train_df = emo_idx_df[emo_idx_df['Usage'] == 'Training']\n",
    "train_df.to_csv('data/train_df.csv', index=False)\n",
    "valid_df = emo_idx_df[emo_idx_df['Usage'] == 'PublicTest']\n",
    "valid_df.to_csv('data/valid_df.csv', index=False)\n",
    "test_df = emo_idx_df[emo_idx_df['Usage'] == 'PrivateTest']\n",
    "test_df.to_csv('data/test_df.csv', index=False)\n",
    "train_df.shape, valid_df.shape, test_df.shape"
   ]
  },
  {
   "cell_type": "code",
   "execution_count": 14,
   "id": "aed4772b",
   "metadata": {},
   "outputs": [
    {
     "name": "stdout",
     "output_type": "stream",
     "text": [
      "       Emotion  Count\n",
      "0      neutral  10309\n",
      "1    happiness   7528\n",
      "2     surprise   3562\n",
      "3      sadness   3515\n",
      "4        anger   2467\n",
      "5      disgust    191\n",
      "6         fear    652\n",
      "7     contempt    165\n",
      "8      unknown    170\n",
      "9   not a face      2\n",
      "10       Total  28561\n"
     ]
    }
   ],
   "source": [
    "unique_indices, counts = np.unique(train_df['predominant_emotion_index'], return_counts=True)\n",
    "\n",
    "# Create a DataFrame\n",
    "emotion_counts = pd.DataFrame({\n",
    "    'Emotion': [emotion_labels[index] for index in unique_indices],\n",
    "    'Count': counts\n",
    "})\n",
    "\n",
    "# Add a total row\n",
    "total = emotion_counts['Count'].sum()\n",
    "total_row = pd.DataFrame({'Emotion': ['Total'], 'Count': [total]})\n",
    "emotion_counts = pd.concat([emotion_counts, total_row], ignore_index=True)\n",
    "\n",
    "# Display the DataFrame\n",
    "print(emotion_counts)"
   ]
  },
  {
   "cell_type": "code",
   "execution_count": 15,
   "id": "ef28f843",
   "metadata": {},
   "outputs": [
    {
     "name": "stdout",
     "output_type": "stream",
     "text": [
      "       Emotion  Count\n",
      "0      neutral   1335\n",
      "1    happiness    899\n",
      "2     surprise    456\n",
      "3      sadness    412\n",
      "4        anger    319\n",
      "5      disgust     34\n",
      "6         fear     74\n",
      "7     contempt     24\n",
      "8      unknown     25\n",
      "9   not a face      1\n",
      "10       Total   3579\n"
     ]
    }
   ],
   "source": [
    "unique_indices, counts = np.unique(valid_df['predominant_emotion_index'], return_counts=True)\n",
    "\n",
    "# Create a DataFrame\n",
    "emotion_counts = pd.DataFrame({\n",
    "    'Emotion': [emotion_labels[index] for index in unique_indices],\n",
    "    'Count': counts\n",
    "})\n",
    "\n",
    "# Add a total row\n",
    "total = emotion_counts['Count'].sum()\n",
    "total_row = pd.DataFrame({'Emotion': ['Total'], 'Count': [total]})\n",
    "emotion_counts = pd.concat([emotion_counts, total_row], ignore_index=True)\n",
    "\n",
    "# Display the DataFrame\n",
    "print(emotion_counts)"
   ]
  },
  {
   "cell_type": "code",
   "execution_count": 16,
   "id": "5f870b1c",
   "metadata": {},
   "outputs": [
    {
     "name": "stdout",
     "output_type": "stream",
     "text": [
      "       Emotion  Count\n",
      "0      neutral   1262\n",
      "1    happiness    928\n",
      "2     surprise    444\n",
      "3      sadness    444\n",
      "4        anger    325\n",
      "5      disgust     23\n",
      "6         fear     93\n",
      "7     contempt     27\n",
      "8      unknown     27\n",
      "9   not a face      1\n",
      "10       Total   3574\n"
     ]
    }
   ],
   "source": [
    "unique_indices, counts = np.unique(test_df['predominant_emotion_index'], return_counts=True)\n",
    "\n",
    "# Create a DataFrame\n",
    "emotion_counts = pd.DataFrame({\n",
    "    'Emotion': [emotion_labels[index] for index in unique_indices],\n",
    "    'Count': counts\n",
    "})\n",
    "\n",
    "# Add a total row\n",
    "total = emotion_counts['Count'].sum()\n",
    "total_row = pd.DataFrame({'Emotion': ['Total'], 'Count': [total]})\n",
    "emotion_counts = pd.concat([emotion_counts, total_row], ignore_index=True)\n",
    "\n",
    "# Display the DataFrame\n",
    "print(emotion_counts)"
   ]
  },
  {
   "cell_type": "markdown",
   "id": "c6d18101",
   "metadata": {},
   "source": [
    "### Balanced relevant data"
   ]
  },
  {
   "cell_type": "code",
   "execution_count": 17,
   "id": "cce7c709",
   "metadata": {},
   "outputs": [
    {
     "data": {
      "text/plain": [
       "((16981, 3), (2121, 3), (2103, 3))"
      ]
     },
     "execution_count": 17,
     "metadata": {},
     "output_type": "execute_result"
    }
   ],
   "source": [
    "# Creating separate DataFrame variables for each 'Usage' type\n",
    "relevant_train_df = balanced_relevant_df[balanced_relevant_df['Usage'] == 'Training']\n",
    "relevant_train_df.to_csv('data/relevant_train_df.csv', index=False)\n",
    "relevant_valid_df = balanced_relevant_df[balanced_relevant_df['Usage'] == 'PublicTest']\n",
    "relevant_valid_df.to_csv('data/relevant_valid_df.csv', index=False)\n",
    "relevant_test_df = balanced_relevant_df[balanced_relevant_df['Usage'] == 'PrivateTest']\n",
    "relevant_test_df.to_csv('data/relevant_test_df.csv', index=False)\n",
    "relevant_train_df.shape, relevant_valid_df.shape, relevant_test_df.shape"
   ]
  },
  {
   "cell_type": "code",
   "execution_count": 18,
   "id": "9d6483fd",
   "metadata": {},
   "outputs": [
    {
     "name": "stdout",
     "output_type": "stream",
     "text": [
      "     Emotion  Count\n",
      "0    neutral   4009\n",
      "1  happiness   3428\n",
      "2   surprise   3562\n",
      "3    sadness   3515\n",
      "4      anger   2467\n",
      "5      Total  16981\n"
     ]
    }
   ],
   "source": [
    "unique_indices, counts = np.unique(relevant_train_df['predominant_emotion_index'], return_counts=True)\n",
    "\n",
    "# Create a DataFrame\n",
    "emotion_counts = pd.DataFrame({\n",
    "    'Emotion': [emotion_labels[index] for index in unique_indices],\n",
    "    'Count': counts\n",
    "})\n",
    "\n",
    "# Add a total row\n",
    "total = emotion_counts['Count'].sum()\n",
    "total_row = pd.DataFrame({'Emotion': ['Total'], 'Count': [total]})\n",
    "emotion_counts = pd.concat([emotion_counts, total_row], ignore_index=True)\n",
    "\n",
    "# Display the DataFrame\n",
    "print(emotion_counts)"
   ]
  },
  {
   "cell_type": "code",
   "execution_count": 19,
   "id": "7d0ad2a4",
   "metadata": {},
   "outputs": [
    {
     "name": "stdout",
     "output_type": "stream",
     "text": [
      "     Emotion  Count\n",
      "0    neutral    435\n",
      "1  happiness    499\n",
      "2   surprise    456\n",
      "3    sadness    412\n",
      "4      anger    319\n",
      "5      Total   2121\n"
     ]
    }
   ],
   "source": [
    "unique_indices, counts = np.unique(relevant_valid_df['predominant_emotion_index'], return_counts=True)\n",
    "\n",
    "# Create a DataFrame\n",
    "emotion_counts = pd.DataFrame({\n",
    "    'Emotion': [emotion_labels[index] for index in unique_indices],\n",
    "    'Count': counts\n",
    "})\n",
    "\n",
    "# Add a total row\n",
    "total = emotion_counts['Count'].sum()\n",
    "total_row = pd.DataFrame({'Emotion': ['Total'], 'Count': [total]})\n",
    "emotion_counts = pd.concat([emotion_counts, total_row], ignore_index=True)\n",
    "\n",
    "# Display the DataFrame\n",
    "print(emotion_counts)"
   ]
  },
  {
   "cell_type": "code",
   "execution_count": 20,
   "id": "5eb34b61",
   "metadata": {},
   "outputs": [
    {
     "name": "stdout",
     "output_type": "stream",
     "text": [
      "     Emotion  Count\n",
      "0    neutral    462\n",
      "1  happiness    428\n",
      "2   surprise    444\n",
      "3    sadness    444\n",
      "4      anger    325\n",
      "5      Total   2103\n"
     ]
    }
   ],
   "source": [
    "unique_indices, counts = np.unique(relevant_test_df['predominant_emotion_index'], return_counts=True)\n",
    "\n",
    "# Create a DataFrame\n",
    "emotion_counts = pd.DataFrame({\n",
    "    'Emotion': [emotion_labels[index] for index in unique_indices],\n",
    "    'Count': counts\n",
    "})\n",
    "\n",
    "# Add a total row\n",
    "total = emotion_counts['Count'].sum()\n",
    "total_row = pd.DataFrame({'Emotion': ['Total'], 'Count': [total]})\n",
    "emotion_counts = pd.concat([emotion_counts, total_row], ignore_index=True)\n",
    "\n",
    "# Display the DataFrame\n",
    "print(emotion_counts)"
   ]
  },
  {
   "cell_type": "markdown",
   "id": "68a6fe4d",
   "metadata": {},
   "source": [
    "# Save resized and normalized images"
   ]
  },
  {
   "cell_type": "code",
   "execution_count": 21,
   "id": "fb8a5d69",
   "metadata": {},
   "outputs": [],
   "source": [
    "# Function to save images resized and normalized, and label values to HDF5 \n",
    "def save_images_to_hdf5(train_df, valid_df, test_df, base_path, hdf5_file):\n",
    "    # Create a new HDF5 file or open an existing file\n",
    "    with h5py.File(hdf5_file, 'w') as file:\n",
    "        # Create datasets to store images, labels, and paths\n",
    "        train_images = file.create_dataset('train_images', (train_df.shape[0], 224, 224, 3), dtype='float64')\n",
    "        valid_images = file.create_dataset('valid_images', (valid_df.shape[0], 224, 224, 3), dtype='float64')\n",
    "        test_images = file.create_dataset('test_images', (test_df.shape[0], 224, 224, 3), dtype='float64')\n",
    "\n",
    "        train_labels = file.create_dataset('train_images_labels', (train_df.shape[0]), dtype='int32')\n",
    "        valid_labels = file.create_dataset('valid_images_labels', (valid_df.shape[0]), dtype='int32')\n",
    "        test_labels = file.create_dataset('test_images_labels', (test_df.shape[0]), dtype='int32')\n",
    "\n",
    "        directory_map = {\n",
    "            \"Training\": \"FER2013Train\",\n",
    "            \"PublicTest\": \"FER2013Valid\",\n",
    "            \"PrivateTest\": \"FER2013Test\"\n",
    "        }\n",
    "\n",
    "        # Counters for each dataset to track insertion positions\n",
    "        train_idx, valid_idx, test_idx = 0, 0, 0\n",
    "        \n",
    "        # Store images in corresponding datasets\n",
    "        for idx, row in train_df.iterrows():\n",
    "            directory = directory_map.get(row['Usage'], None)\n",
    "            if directory:\n",
    "                image_path = os.path.join(base_path, directory, row['Image name'])\n",
    "                label = row['predominant_emotion_index']\n",
    "\n",
    "                # Load and process the image\n",
    "                image = Image.open(image_path).convert('L')\n",
    "                image = image.resize((224, 224))\n",
    "                image_array = np.array(image) / 255.0\n",
    "                image_array = np.stack((image_array,)*3, axis=-1)\n",
    "\n",
    "                train_images[train_idx] = image_array\n",
    "                train_labels[train_idx] = label\n",
    "                train_idx += 1\n",
    "        \n",
    "        for idx, row in valid_df.iterrows():\n",
    "            directory = directory_map.get(row['Usage'], None)\n",
    "            if directory:\n",
    "                image_path = os.path.join(base_path, directory, row['Image name'])\n",
    "                label = row['predominant_emotion_index']\n",
    "\n",
    "                # Load and process the image\n",
    "                image = Image.open(image_path).convert('L')\n",
    "                image = image.resize((224, 224))\n",
    "                image_array = np.array(image) / 255.0\n",
    "                image_array = np.stack((image_array,)*3, axis=-1)\n",
    "\n",
    "                valid_images[valid_idx] = image_array\n",
    "                valid_labels[valid_idx] = label\n",
    "                valid_idx += 1\n",
    "\n",
    "        for idx, row in test_df.iterrows():\n",
    "            directory = directory_map.get(row['Usage'], None)\n",
    "            if directory:\n",
    "                image_path = os.path.join(base_path, directory, row['Image name'])\n",
    "                label = row['predominant_emotion_index']\n",
    "\n",
    "                # Load and process the image\n",
    "                image = Image.open(image_path).convert('L')\n",
    "                image = image.resize((224, 224))\n",
    "                image_array = np.array(image) / 255.0\n",
    "                image_array = np.stack((image_array,)*3, axis=-1)\n",
    "\n",
    "                test_images[test_idx] = image_array\n",
    "                test_labels[test_idx] = label\n",
    "                test_idx += 1\n",
    "\n",
    "# Function to inspect the contents of an HDF5 file\n",
    "def inspect_hdf5_file(filepath):\n",
    "    # Open the HDF5 file\n",
    "    with h5py.File(filepath, 'r') as file:\n",
    "        print(\"Datasets contained within the file:\")\n",
    "        for dataset_name in file:\n",
    "            # Access the dataset\n",
    "            dataset = file[dataset_name]\n",
    "            # Print details about the dataset\n",
    "            print(f\"Dataset Info: {dataset_name}, {dataset.shape}, {dataset.dtype}\")"
   ]
  },
  {
   "cell_type": "code",
   "execution_count": 22,
   "id": "6a8fd396",
   "metadata": {},
   "outputs": [
    {
     "name": "stdout",
     "output_type": "stream",
     "text": [
      "Datasets contained within the file:\n",
      "Dataset Info: test_images, (3574, 224, 224, 3), float64\n",
      "Dataset Info: test_images_labels, (3574,), int32\n",
      "Dataset Info: train_images, (28561, 224, 224, 3), float64\n",
      "Dataset Info: train_images_labels, (28561,), int32\n",
      "Dataset Info: valid_images, (3579, 224, 224, 3), float64\n",
      "Dataset Info: valid_images_labels, (3579,), int32\n"
     ]
    }
   ],
   "source": [
    "# Base path for images\n",
    "base_image_path = 'FERPlus-master/data'\n",
    "hdf5_file = 'processed_images_all.hdf5'\n",
    "\n",
    "# Save the images to HDF5 file\n",
    "save_images_to_hdf5(train_df, valid_df, test_df, base_image_path, hdf5_file)\n",
    "inspect_hdf5_file(hdf5_file)"
   ]
  },
  {
   "cell_type": "code",
   "execution_count": 23,
   "id": "b4af8955",
   "metadata": {},
   "outputs": [
    {
     "name": "stdout",
     "output_type": "stream",
     "text": [
      "Datasets contained within the file:\n",
      "Dataset Info: test_images, (2103, 224, 224, 3), float64\n",
      "Dataset Info: test_images_labels, (2103,), int32\n",
      "Dataset Info: train_images, (16981, 224, 224, 3), float64\n",
      "Dataset Info: train_images_labels, (16981,), int32\n",
      "Dataset Info: valid_images, (2121, 224, 224, 3), float64\n",
      "Dataset Info: valid_images_labels, (2121,), int32\n"
     ]
    }
   ],
   "source": [
    "# Base path for images\n",
    "base_image_path = 'FERPlus-master/data'\n",
    "hdf5_file = 'processed_images_balanced.hdf5'\n",
    "\n",
    "# Save the images to HDF5 file\n",
    "save_images_to_hdf5(relevant_train_df, relevant_valid_df, relevant_test_df, base_image_path, hdf5_file)\n",
    "inspect_hdf5_file(hdf5_file)"
   ]
  },
  {
   "cell_type": "markdown",
   "id": "27c02780",
   "metadata": {},
   "source": [
    "# Transfer Learning (VGGFace, FaceNet)"
   ]
  },
  {
   "cell_type": "code",
   "execution_count": null,
   "id": "3cd995ea",
   "metadata": {},
   "outputs": [],
   "source": [
    "print(\"Train images shape:\", train_images.shape, train_images.dtype)\n",
    "print(\"Valid images shape:\", valid_images.shape, valid_images.dtype)\n",
    "print(\"Tests images shape:\", test_images.shape, test_images.dtype)\n",
    "\n",
    "print(\"Train labels shape:\", train_labels.shape, train_labels.dtype)\n",
    "print(\"Valid labels shape:\", valid_labels.shape, valid_labels.dtype)\n",
    "print(\"Tests labels shape:\", test_labels.shape, test_labels.dtype)"
   ]
  }
 ],
 "metadata": {
  "kernelspec": {
   "display_name": "Python 3 (ipykernel)",
   "language": "python",
   "name": "python3"
  },
  "language_info": {
   "codemirror_mode": {
    "name": "ipython",
    "version": 3
   },
   "file_extension": ".py",
   "mimetype": "text/x-python",
   "name": "python",
   "nbconvert_exporter": "python",
   "pygments_lexer": "ipython3",
   "version": "3.7.12"
  },
  "widgets": {
   "application/vnd.jupyter.widget-state+json": {
    "state": {},
    "version_major": 2,
    "version_minor": 0
   }
  }
 },
 "nbformat": 4,
 "nbformat_minor": 5
}
